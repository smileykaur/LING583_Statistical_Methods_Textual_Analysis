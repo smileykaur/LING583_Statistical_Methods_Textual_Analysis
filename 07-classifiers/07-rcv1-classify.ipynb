{
 "cells": [
  {
   "cell_type": "markdown",
   "metadata": {
    "slideshow": {
     "slide_type": "slide"
    }
   },
   "source": [
    "# Text Classification"
   ]
  },
  {
   "cell_type": "code",
   "execution_count": 1,
   "metadata": {
    "collapsed": true,
    "slideshow": {
     "slide_type": "fragment"
    }
   },
   "outputs": [],
   "source": [
    "import pandas as pd\n",
    "import numpy as np\n",
    "from cytoolz import identity\n",
    "import spacy\n",
    "\n",
    "%precision 4\n",
    "%matplotlib inline"
   ]
  },
  {
   "cell_type": "code",
   "execution_count": 2,
   "metadata": {
    "collapsed": true,
    "slideshow": {
     "slide_type": "-"
    }
   },
   "outputs": [],
   "source": [
    "nlp = spacy.load('en', disable=['tagger', 'ner', 'parser'])"
   ]
  },
  {
   "cell_type": "markdown",
   "metadata": {
    "slideshow": {
     "slide_type": "slide"
    }
   },
   "source": [
    "## Load data"
   ]
  },
  {
   "cell_type": "code",
   "execution_count": 3,
   "metadata": {
    "slideshow": {
     "slide_type": "-"
    }
   },
   "outputs": [],
   "source": [
    "df = pd.read_msgpack('http://bulba.sdsu.edu/rcv1_train.dat')"
   ]
  },
  {
   "cell_type": "code",
   "execution_count": 4,
   "metadata": {
    "slideshow": {
     "slide_type": "-"
    }
   },
   "outputs": [
    {
     "data": {
      "text/html": [
       "<div>\n",
       "<style>\n",
       "    .dataframe thead tr:only-child th {\n",
       "        text-align: right;\n",
       "    }\n",
       "\n",
       "    .dataframe thead th {\n",
       "        text-align: left;\n",
       "    }\n",
       "\n",
       "    .dataframe tbody tr th {\n",
       "        vertical-align: top;\n",
       "    }\n",
       "</style>\n",
       "<table border=\"1\" class=\"dataframe\">\n",
       "  <thead>\n",
       "    <tr style=\"text-align: right;\">\n",
       "      <th></th>\n",
       "      <th>date</th>\n",
       "      <th>headline</th>\n",
       "      <th>itemid</th>\n",
       "      <th>text</th>\n",
       "      <th>sports</th>\n",
       "      <th>politics</th>\n",
       "    </tr>\n",
       "  </thead>\n",
       "  <tbody>\n",
       "    <tr>\n",
       "      <th>1829</th>\n",
       "      <td>1997-01-22</td>\n",
       "      <td>Libya says plane flew to Ghana despite U.N. ban.</td>\n",
       "      <td>325883</td>\n",
       "      <td>Libya said on Wednesday a Libyan plane had flo...</td>\n",
       "      <td>False</td>\n",
       "      <td>False</td>\n",
       "    </tr>\n",
       "    <tr>\n",
       "      <th>1050</th>\n",
       "      <td>1997-07-06</td>\n",
       "      <td>Dirty laundry to be aired at Senate hearings.</td>\n",
       "      <td>709460</td>\n",
       "      <td>A Senate investigation into political fund-rai...</td>\n",
       "      <td>False</td>\n",
       "      <td>True</td>\n",
       "    </tr>\n",
       "    <tr>\n",
       "      <th>407</th>\n",
       "      <td>1996-09-08</td>\n",
       "      <td>BA denies report of 10,000 imminent job cuts.</td>\n",
       "      <td>39622</td>\n",
       "      <td>British Airways (BA) denied on Monday a newspa...</td>\n",
       "      <td>False</td>\n",
       "      <td>False</td>\n",
       "    </tr>\n",
       "    <tr>\n",
       "      <th>376</th>\n",
       "      <td>1996-12-30</td>\n",
       "      <td>Gulf states could reinstate Israel boycott - p...</td>\n",
       "      <td>281305</td>\n",
       "      <td>Gulf Arab states could reinstate a boycott the...</td>\n",
       "      <td>False</td>\n",
       "      <td>False</td>\n",
       "    </tr>\n",
       "    <tr>\n",
       "      <th>728</th>\n",
       "      <td>1997-03-06</td>\n",
       "      <td>Volvo Belgian plant to hold Friday stoppage.</td>\n",
       "      <td>425537</td>\n",
       "      <td>Swedish vehicle maker AB Volvo said on Thursda...</td>\n",
       "      <td>False</td>\n",
       "      <td>False</td>\n",
       "    </tr>\n",
       "    <tr>\n",
       "      <th>1267</th>\n",
       "      <td>1997-07-08</td>\n",
       "      <td>INSTANT VIEW - German unemployment data for June.</td>\n",
       "      <td>715078</td>\n",
       "      <td>Following are economists' reactions to a repor...</td>\n",
       "      <td>False</td>\n",
       "      <td>False</td>\n",
       "    </tr>\n",
       "    <tr>\n",
       "      <th>1222</th>\n",
       "      <td>1997-06-20</td>\n",
       "      <td>Germany, France sign helicopter industrial deal.</td>\n",
       "      <td>676761</td>\n",
       "      <td>French and German officials Friday signed cont...</td>\n",
       "      <td>False</td>\n",
       "      <td>False</td>\n",
       "    </tr>\n",
       "    <tr>\n",
       "      <th>114</th>\n",
       "      <td>1996-11-15</td>\n",
       "      <td>Izetbegovic agrees to sack Minister - U.S..</td>\n",
       "      <td>192047</td>\n",
       "      <td>Bosnia's president bowed to U.S. pressure on F...</td>\n",
       "      <td>False</td>\n",
       "      <td>True</td>\n",
       "    </tr>\n",
       "    <tr>\n",
       "      <th>2086</th>\n",
       "      <td>1996-09-27</td>\n",
       "      <td>FEATURE - Telecom gets pre-election nerves.</td>\n",
       "      <td>82618</td>\n",
       "      <td>Two weeks before a general election, New Zeala...</td>\n",
       "      <td>False</td>\n",
       "      <td>True</td>\n",
       "    </tr>\n",
       "    <tr>\n",
       "      <th>151</th>\n",
       "      <td>1997-03-06</td>\n",
       "      <td>Healthy Yeltsin cheers investors in Russia.</td>\n",
       "      <td>423451</td>\n",
       "      <td>A healthy-looking Russian President Boris Yelt...</td>\n",
       "      <td>False</td>\n",
       "      <td>True</td>\n",
       "    </tr>\n",
       "    <tr>\n",
       "      <th>2176</th>\n",
       "      <td>1997-04-10</td>\n",
       "      <td>Australia, China agree to formal human rights ...</td>\n",
       "      <td>501370</td>\n",
       "      <td>Australia said on Thursday it had struck a dea...</td>\n",
       "      <td>False</td>\n",
       "      <td>True</td>\n",
       "    </tr>\n",
       "    <tr>\n",
       "      <th>1407</th>\n",
       "      <td>1997-02-27</td>\n",
       "      <td>NFL AMERICAN FOOTBALL-REDSKINS RE-SIGN FREE AG...</td>\n",
       "      <td>406769</td>\n",
       "      <td>The Washington Redskins held on to their star ...</td>\n",
       "      <td>True</td>\n",
       "      <td>False</td>\n",
       "    </tr>\n",
       "    <tr>\n",
       "      <th>1585</th>\n",
       "      <td>1997-01-31</td>\n",
       "      <td>Yeltsin opposes NATO growth before Chirac talks.</td>\n",
       "      <td>346512</td>\n",
       "      <td>Russian President Boris Yeltsin reiterated opp...</td>\n",
       "      <td>False</td>\n",
       "      <td>False</td>\n",
       "    </tr>\n",
       "    <tr>\n",
       "      <th>117</th>\n",
       "      <td>1997-03-03</td>\n",
       "      <td>NORDIC SKIING-VIALBE AND DAEHLIE SHINE, YEGORO...</td>\n",
       "      <td>414118</td>\n",
       "      <td>Yelena Vialbe and Bjorn Daehlie left only a fe...</td>\n",
       "      <td>True</td>\n",
       "      <td>False</td>\n",
       "    </tr>\n",
       "    <tr>\n",
       "      <th>881</th>\n",
       "      <td>1996-12-23</td>\n",
       "      <td>U.S. envoy meets Moussa in Cairo for Hebron ta...</td>\n",
       "      <td>273743</td>\n",
       "      <td>U.S. Middle East envoy Dennis Ross met Egypt's...</td>\n",
       "      <td>False</td>\n",
       "      <td>True</td>\n",
       "    </tr>\n",
       "    <tr>\n",
       "      <th>182</th>\n",
       "      <td>1997-01-23</td>\n",
       "      <td>Brazilian coffee temperature and rain detailed.</td>\n",
       "      <td>327901</td>\n",
       "      <td>Brazilian coffee region temperatures (centigra...</td>\n",
       "      <td>False</td>\n",
       "      <td>False</td>\n",
       "    </tr>\n",
       "    <tr>\n",
       "      <th>260</th>\n",
       "      <td>1996-12-09</td>\n",
       "      <td>PLO, Israel end Hebron University standoff.</td>\n",
       "      <td>243488</td>\n",
       "      <td>A confrontation at the Hebron University campu...</td>\n",
       "      <td>False</td>\n",
       "      <td>False</td>\n",
       "    </tr>\n",
       "    <tr>\n",
       "      <th>1458</th>\n",
       "      <td>1997-02-15</td>\n",
       "      <td>ALPINE SKIING-TOMBA GEARS UP FOR DRAMATIC FINALE.</td>\n",
       "      <td>380524</td>\n",
       "      <td>Alberto Tomba has been dropping hints about a ...</td>\n",
       "      <td>True</td>\n",
       "      <td>False</td>\n",
       "    </tr>\n",
       "    <tr>\n",
       "      <th>1629</th>\n",
       "      <td>1997-05-01</td>\n",
       "      <td>SOCCER-ROMARIO SCORES HAT-TRICK AS BRAZIL HAMM...</td>\n",
       "      <td>553148</td>\n",
       "      <td>Striker Romario scored a hat trick as Brazil d...</td>\n",
       "      <td>True</td>\n",
       "      <td>False</td>\n",
       "    </tr>\n",
       "    <tr>\n",
       "      <th>1206</th>\n",
       "      <td>1997-05-13</td>\n",
       "      <td>Argentines arrested for fast food toilet theft.</td>\n",
       "      <td>578986</td>\n",
       "      <td>Two Argentine men were arrested on Tuesday aft...</td>\n",
       "      <td>False</td>\n",
       "      <td>False</td>\n",
       "    </tr>\n",
       "    <tr>\n",
       "      <th>740</th>\n",
       "      <td>1997-05-02</td>\n",
       "      <td>Israel's Netanyahu warns of Syria, Iran arms.</td>\n",
       "      <td>557799</td>\n",
       "      <td>Prime Minister Benjamin Netanyahu said in comm...</td>\n",
       "      <td>False</td>\n",
       "      <td>False</td>\n",
       "    </tr>\n",
       "    <tr>\n",
       "      <th>208</th>\n",
       "      <td>1996-10-22</td>\n",
       "      <td>Venezuelan jail fire kills at least 30 - offic...</td>\n",
       "      <td>133305</td>\n",
       "      <td>At least 30 inmates of a Venezuelan jail were ...</td>\n",
       "      <td>False</td>\n",
       "      <td>False</td>\n",
       "    </tr>\n",
       "    <tr>\n",
       "      <th>287</th>\n",
       "      <td>1996-10-16</td>\n",
       "      <td>Japan PM cautious on need for extra budget -- ...</td>\n",
       "      <td>120275</td>\n",
       "      <td>Further consideration is necessary before a de...</td>\n",
       "      <td>False</td>\n",
       "      <td>True</td>\n",
       "    </tr>\n",
       "    <tr>\n",
       "      <th>845</th>\n",
       "      <td>1997-03-07</td>\n",
       "      <td>CRICKET-LARA, HOOPER PUT WEST INDIES IN CONTROL.</td>\n",
       "      <td>425855</td>\n",
       "      <td>Inspired batting by Carl Hooper and Brian Lara...</td>\n",
       "      <td>True</td>\n",
       "      <td>False</td>\n",
       "    </tr>\n",
       "    <tr>\n",
       "      <th>2248</th>\n",
       "      <td>1997-03-20</td>\n",
       "      <td>China indicts six in Moslem riots.</td>\n",
       "      <td>457909</td>\n",
       "      <td>China has indicted six people in connection wi...</td>\n",
       "      <td>False</td>\n",
       "      <td>False</td>\n",
       "    </tr>\n",
       "    <tr>\n",
       "      <th>1412</th>\n",
       "      <td>1996-09-26</td>\n",
       "      <td>Australia appoints new ambassador to Indonesia.</td>\n",
       "      <td>80015</td>\n",
       "      <td>Australian Foreign Minister Alexander Downer o...</td>\n",
       "      <td>False</td>\n",
       "      <td>False</td>\n",
       "    </tr>\n",
       "    <tr>\n",
       "      <th>832</th>\n",
       "      <td>1996-11-25</td>\n",
       "      <td>KeyCorp cuts jobs in national restructuring.</td>\n",
       "      <td>215118</td>\n",
       "      <td>KeyCorp said Monday that it is forming a singl...</td>\n",
       "      <td>False</td>\n",
       "      <td>False</td>\n",
       "    </tr>\n",
       "    <tr>\n",
       "      <th>1580</th>\n",
       "      <td>1997-04-16</td>\n",
       "      <td>FEATURE-Grandmother senator winning Argentine ...</td>\n",
       "      <td>513160</td>\n",
       "      <td>In a country bewitched by teenaged fashion mod...</td>\n",
       "      <td>False</td>\n",
       "      <td>True</td>\n",
       "    </tr>\n",
       "    <tr>\n",
       "      <th>1014</th>\n",
       "      <td>1997-04-28</td>\n",
       "      <td>Clinton heads back to Washington to work on bu...</td>\n",
       "      <td>544034</td>\n",
       "      <td>President Clinton said farewell Monday to a su...</td>\n",
       "      <td>False</td>\n",
       "      <td>True</td>\n",
       "    </tr>\n",
       "    <tr>\n",
       "      <th>241</th>\n",
       "      <td>1996-10-10</td>\n",
       "      <td>Ecuador's president holds concert.</td>\n",
       "      <td>107944</td>\n",
       "      <td>Ecuadorean President Abdala Bucaram belted out...</td>\n",
       "      <td>False</td>\n",
       "      <td>True</td>\n",
       "    </tr>\n",
       "    <tr>\n",
       "      <th>...</th>\n",
       "      <td>...</td>\n",
       "      <td>...</td>\n",
       "      <td>...</td>\n",
       "      <td>...</td>\n",
       "      <td>...</td>\n",
       "      <td>...</td>\n",
       "    </tr>\n",
       "    <tr>\n",
       "      <th>767</th>\n",
       "      <td>1996-09-09</td>\n",
       "      <td>TENNIS-SAMPRAS IS CHAMPION AGAIN, ON LATE COAC...</td>\n",
       "      <td>40440</td>\n",
       "      <td>When Pete Sampras won his first Grand Slam tit...</td>\n",
       "      <td>True</td>\n",
       "      <td>False</td>\n",
       "    </tr>\n",
       "    <tr>\n",
       "      <th>217</th>\n",
       "      <td>1997-04-05</td>\n",
       "      <td>Twelve killed, six hurt in shootout in Philipp...</td>\n",
       "      <td>489267</td>\n",
       "      <td>Twelve members of the Moslem extremist group A...</td>\n",
       "      <td>False</td>\n",
       "      <td>False</td>\n",
       "    </tr>\n",
       "    <tr>\n",
       "      <th>797</th>\n",
       "      <td>1997-06-11</td>\n",
       "      <td>GOVERNMENT LIST.</td>\n",
       "      <td>652547</td>\n",
       "      <td>CANADA GOVERNMENT LIST (970611) Governor Gener...</td>\n",
       "      <td>False</td>\n",
       "      <td>True</td>\n",
       "    </tr>\n",
       "    <tr>\n",
       "      <th>1331</th>\n",
       "      <td>1997-05-07</td>\n",
       "      <td>Borland sues Microsoft. [corrected 23:40 gmt]</td>\n",
       "      <td>565201</td>\n",
       "      <td>Software company Borland International Inc. sa...</td>\n",
       "      <td>False</td>\n",
       "      <td>False</td>\n",
       "    </tr>\n",
       "    <tr>\n",
       "      <th>120</th>\n",
       "      <td>1997-07-16</td>\n",
       "      <td>NZ SPORT - Coaching next step for retiring Patel.</td>\n",
       "      <td>731713</td>\n",
       "      <td>WELLINGTON, July 16 - New Zealand offspinner D...</td>\n",
       "      <td>True</td>\n",
       "      <td>False</td>\n",
       "    </tr>\n",
       "    <tr>\n",
       "      <th>1051</th>\n",
       "      <td>1997-02-05</td>\n",
       "      <td>Satanist suspect held French priest's murder.</td>\n",
       "      <td>357523</td>\n",
       "      <td>A Frenchman suspected of belonging to a satani...</td>\n",
       "      <td>False</td>\n",
       "      <td>False</td>\n",
       "    </tr>\n",
       "    <tr>\n",
       "      <th>1236</th>\n",
       "      <td>1996-11-19</td>\n",
       "      <td>FEATURE - Philippines gears up for APEC \"war\".</td>\n",
       "      <td>201640</td>\n",
       "      <td>For the 27,000 Philippine troops assigned to g...</td>\n",
       "      <td>False</td>\n",
       "      <td>False</td>\n",
       "    </tr>\n",
       "    <tr>\n",
       "      <th>1295</th>\n",
       "      <td>1997-04-01</td>\n",
       "      <td>One hurt in explosion at Austria munitions plant.</td>\n",
       "      <td>480624</td>\n",
       "      <td>One worker suffered serious injuries in an exp...</td>\n",
       "      <td>False</td>\n",
       "      <td>False</td>\n",
       "    </tr>\n",
       "    <tr>\n",
       "      <th>916</th>\n",
       "      <td>1997-05-15</td>\n",
       "      <td>Baseball-Results of S.Korean pro baseball games.</td>\n",
       "      <td>585706</td>\n",
       "      <td>Results of South Korean professional baseball ...</td>\n",
       "      <td>True</td>\n",
       "      <td>False</td>\n",
       "    </tr>\n",
       "    <tr>\n",
       "      <th>1209</th>\n",
       "      <td>1997-02-09</td>\n",
       "      <td>U.S. northwest gas pipe explodes, no injuries.</td>\n",
       "      <td>365851</td>\n",
       "      <td>A gas pipeline operated by Northwest Pipeline ...</td>\n",
       "      <td>False</td>\n",
       "      <td>False</td>\n",
       "    </tr>\n",
       "    <tr>\n",
       "      <th>301</th>\n",
       "      <td>1997-04-17</td>\n",
       "      <td>Televisa says ex-CEO Azcarraga dies. [CORRECTE...</td>\n",
       "      <td>517182</td>\n",
       "      <td>Mexican media giant Grupo Televisa said on Wed...</td>\n",
       "      <td>False</td>\n",
       "      <td>False</td>\n",
       "    </tr>\n",
       "    <tr>\n",
       "      <th>626</th>\n",
       "      <td>1997-07-10</td>\n",
       "      <td>Text of ASEAN statement on Cambodia.</td>\n",
       "      <td>721017</td>\n",
       "      <td>Following is the text of a joint statement by ...</td>\n",
       "      <td>False</td>\n",
       "      <td>False</td>\n",
       "    </tr>\n",
       "    <tr>\n",
       "      <th>1454</th>\n",
       "      <td>1997-03-23</td>\n",
       "      <td>Stage is set for Hollywood's big Oscar night out.</td>\n",
       "      <td>462249</td>\n",
       "      <td>The stage was set, the red carpet was down and...</td>\n",
       "      <td>False</td>\n",
       "      <td>False</td>\n",
       "    </tr>\n",
       "    <tr>\n",
       "      <th>1106</th>\n",
       "      <td>1997-05-04</td>\n",
       "      <td>FRENCH ELECTION - LATEST OPINION POLLS.</td>\n",
       "      <td>558314</td>\n",
       "      <td>Following are the results of opinion polls con...</td>\n",
       "      <td>False</td>\n",
       "      <td>True</td>\n",
       "    </tr>\n",
       "    <tr>\n",
       "      <th>1209</th>\n",
       "      <td>1997-03-17</td>\n",
       "      <td>Black group to march against Philadelphia tens...</td>\n",
       "      <td>447270</td>\n",
       "      <td>The Nation of Islam said Monday it aimed to at...</td>\n",
       "      <td>False</td>\n",
       "      <td>True</td>\n",
       "    </tr>\n",
       "    <tr>\n",
       "      <th>2037</th>\n",
       "      <td>1997-02-06</td>\n",
       "      <td>Kuwait's health minister resigns - paper.</td>\n",
       "      <td>362101</td>\n",
       "      <td>Kuwait's Health Minister Anwar al-Nouri said h...</td>\n",
       "      <td>False</td>\n",
       "      <td>True</td>\n",
       "    </tr>\n",
       "    <tr>\n",
       "      <th>788</th>\n",
       "      <td>1996-12-13</td>\n",
       "      <td>RTRS-Cricket-Australian youngsters beat Pakistan.</td>\n",
       "      <td>254412</td>\n",
       "      <td>Pakistan started their short tour of Australia...</td>\n",
       "      <td>True</td>\n",
       "      <td>False</td>\n",
       "    </tr>\n",
       "    <tr>\n",
       "      <th>382</th>\n",
       "      <td>1997-05-23</td>\n",
       "      <td>Clinton delays seeking fast track trade powers.</td>\n",
       "      <td>609405</td>\n",
       "      <td>President Bill Clinton has decided to wait sev...</td>\n",
       "      <td>False</td>\n",
       "      <td>True</td>\n",
       "    </tr>\n",
       "    <tr>\n",
       "      <th>753</th>\n",
       "      <td>1997-01-06</td>\n",
       "      <td>Kinkel rejects Schroeder's stance on euro.</td>\n",
       "      <td>289551</td>\n",
       "      <td>Foreign Minister Klaus Kinkel said on Monday t...</td>\n",
       "      <td>False</td>\n",
       "      <td>True</td>\n",
       "    </tr>\n",
       "    <tr>\n",
       "      <th>970</th>\n",
       "      <td>1997-01-04</td>\n",
       "      <td>Australian bushfire forces evacuation of hundr...</td>\n",
       "      <td>286995</td>\n",
       "      <td>A bushfire near the west Australian city of Pe...</td>\n",
       "      <td>False</td>\n",
       "      <td>False</td>\n",
       "    </tr>\n",
       "    <tr>\n",
       "      <th>1143</th>\n",
       "      <td>1996-09-20</td>\n",
       "      <td>Prudential Insurance settlement opposed - WSJ.</td>\n",
       "      <td>67756</td>\n",
       "      <td>Seven states are opposing the class-action set...</td>\n",
       "      <td>False</td>\n",
       "      <td>False</td>\n",
       "    </tr>\n",
       "    <tr>\n",
       "      <th>1882</th>\n",
       "      <td>1997-02-06</td>\n",
       "      <td>Pakistan's Leghari arrives in Saudi for pilgri...</td>\n",
       "      <td>361343</td>\n",
       "      <td>Pakistani President Farooq Leghari arrived in ...</td>\n",
       "      <td>False</td>\n",
       "      <td>False</td>\n",
       "    </tr>\n",
       "    <tr>\n",
       "      <th>98</th>\n",
       "      <td>1996-09-19</td>\n",
       "      <td>CRICKET-SRI LANKA V ZIMBABWE SCOREBOARD.</td>\n",
       "      <td>63538</td>\n",
       "      <td>Scoreboard on the second day of the second cri...</td>\n",
       "      <td>True</td>\n",
       "      <td>False</td>\n",
       "    </tr>\n",
       "    <tr>\n",
       "      <th>1031</th>\n",
       "      <td>1996-11-22</td>\n",
       "      <td>Vietnam says still hoping for APEC membership ...</td>\n",
       "      <td>209858</td>\n",
       "      <td>Vietnam said on Friday it still hoped to join ...</td>\n",
       "      <td>False</td>\n",
       "      <td>False</td>\n",
       "    </tr>\n",
       "    <tr>\n",
       "      <th>1223</th>\n",
       "      <td>1996-10-30</td>\n",
       "      <td>SOCCER-MANCHESTER UNITED V FENERBAHCE TEAMS.</td>\n",
       "      <td>152745</td>\n",
       "      <td>Teams for Wednesday's European Cup Champions' ...</td>\n",
       "      <td>True</td>\n",
       "      <td>False</td>\n",
       "    </tr>\n",
       "    <tr>\n",
       "      <th>1045</th>\n",
       "      <td>1997-04-03</td>\n",
       "      <td>OSCE warns against delay in Albania force, polls.</td>\n",
       "      <td>484855</td>\n",
       "      <td>European mediator Franz Vranitzky said on Thur...</td>\n",
       "      <td>False</td>\n",
       "      <td>False</td>\n",
       "    </tr>\n",
       "    <tr>\n",
       "      <th>1587</th>\n",
       "      <td>1996-10-18</td>\n",
       "      <td>Belarus capital faces mass rally over poll cri...</td>\n",
       "      <td>126321</td>\n",
       "      <td>Opponents of Belarus President Alexander Lukas...</td>\n",
       "      <td>False</td>\n",
       "      <td>True</td>\n",
       "    </tr>\n",
       "    <tr>\n",
       "      <th>606</th>\n",
       "      <td>1996-08-24</td>\n",
       "      <td>Gambian barrister to run against Jammeh.</td>\n",
       "      <td>12669</td>\n",
       "      <td>Prominent Gambian barrister Ousseynou Darboe h...</td>\n",
       "      <td>False</td>\n",
       "      <td>True</td>\n",
       "    </tr>\n",
       "    <tr>\n",
       "      <th>547</th>\n",
       "      <td>1997-03-06</td>\n",
       "      <td>British nanny indicted for first degree murder.</td>\n",
       "      <td>424634</td>\n",
       "      <td>A grand jury indicted an 18-year-old British n...</td>\n",
       "      <td>False</td>\n",
       "      <td>False</td>\n",
       "    </tr>\n",
       "    <tr>\n",
       "      <th>1805</th>\n",
       "      <td>1997-07-03</td>\n",
       "      <td>Allied bomb defused near German president's of...</td>\n",
       "      <td>705300</td>\n",
       "      <td>Explosives experts on Thursday defused a World...</td>\n",
       "      <td>False</td>\n",
       "      <td>True</td>\n",
       "    </tr>\n",
       "  </tbody>\n",
       "</table>\n",
       "<p>15000 rows × 6 columns</p>\n",
       "</div>"
      ],
      "text/plain": [
       "            date                                           headline  itemid  \\\n",
       "1829  1997-01-22   Libya says plane flew to Ghana despite U.N. ban.  325883   \n",
       "1050  1997-07-06      Dirty laundry to be aired at Senate hearings.  709460   \n",
       "407   1996-09-08      BA denies report of 10,000 imminent job cuts.   39622   \n",
       "376   1996-12-30  Gulf states could reinstate Israel boycott - p...  281305   \n",
       "728   1997-03-06       Volvo Belgian plant to hold Friday stoppage.  425537   \n",
       "1267  1997-07-08  INSTANT VIEW - German unemployment data for June.  715078   \n",
       "1222  1997-06-20   Germany, France sign helicopter industrial deal.  676761   \n",
       "114   1996-11-15        Izetbegovic agrees to sack Minister - U.S..  192047   \n",
       "2086  1996-09-27        FEATURE - Telecom gets pre-election nerves.   82618   \n",
       "151   1997-03-06        Healthy Yeltsin cheers investors in Russia.  423451   \n",
       "2176  1997-04-10  Australia, China agree to formal human rights ...  501370   \n",
       "1407  1997-02-27  NFL AMERICAN FOOTBALL-REDSKINS RE-SIGN FREE AG...  406769   \n",
       "1585  1997-01-31   Yeltsin opposes NATO growth before Chirac talks.  346512   \n",
       "117   1997-03-03  NORDIC SKIING-VIALBE AND DAEHLIE SHINE, YEGORO...  414118   \n",
       "881   1996-12-23  U.S. envoy meets Moussa in Cairo for Hebron ta...  273743   \n",
       "182   1997-01-23    Brazilian coffee temperature and rain detailed.  327901   \n",
       "260   1996-12-09        PLO, Israel end Hebron University standoff.  243488   \n",
       "1458  1997-02-15  ALPINE SKIING-TOMBA GEARS UP FOR DRAMATIC FINALE.  380524   \n",
       "1629  1997-05-01  SOCCER-ROMARIO SCORES HAT-TRICK AS BRAZIL HAMM...  553148   \n",
       "1206  1997-05-13    Argentines arrested for fast food toilet theft.  578986   \n",
       "740   1997-05-02      Israel's Netanyahu warns of Syria, Iran arms.  557799   \n",
       "208   1996-10-22  Venezuelan jail fire kills at least 30 - offic...  133305   \n",
       "287   1996-10-16  Japan PM cautious on need for extra budget -- ...  120275   \n",
       "845   1997-03-07   CRICKET-LARA, HOOPER PUT WEST INDIES IN CONTROL.  425855   \n",
       "2248  1997-03-20                 China indicts six in Moslem riots.  457909   \n",
       "1412  1996-09-26    Australia appoints new ambassador to Indonesia.   80015   \n",
       "832   1996-11-25       KeyCorp cuts jobs in national restructuring.  215118   \n",
       "1580  1997-04-16  FEATURE-Grandmother senator winning Argentine ...  513160   \n",
       "1014  1997-04-28  Clinton heads back to Washington to work on bu...  544034   \n",
       "241   1996-10-10                 Ecuador's president holds concert.  107944   \n",
       "...          ...                                                ...     ...   \n",
       "767   1996-09-09  TENNIS-SAMPRAS IS CHAMPION AGAIN, ON LATE COAC...   40440   \n",
       "217   1997-04-05  Twelve killed, six hurt in shootout in Philipp...  489267   \n",
       "797   1997-06-11                                   GOVERNMENT LIST.  652547   \n",
       "1331  1997-05-07      Borland sues Microsoft. [corrected 23:40 gmt]  565201   \n",
       "120   1997-07-16  NZ SPORT - Coaching next step for retiring Patel.  731713   \n",
       "1051  1997-02-05      Satanist suspect held French priest's murder.  357523   \n",
       "1236  1996-11-19     FEATURE - Philippines gears up for APEC \"war\".  201640   \n",
       "1295  1997-04-01  One hurt in explosion at Austria munitions plant.  480624   \n",
       "916   1997-05-15   Baseball-Results of S.Korean pro baseball games.  585706   \n",
       "1209  1997-02-09     U.S. northwest gas pipe explodes, no injuries.  365851   \n",
       "301   1997-04-17  Televisa says ex-CEO Azcarraga dies. [CORRECTE...  517182   \n",
       "626   1997-07-10               Text of ASEAN statement on Cambodia.  721017   \n",
       "1454  1997-03-23  Stage is set for Hollywood's big Oscar night out.  462249   \n",
       "1106  1997-05-04            FRENCH ELECTION - LATEST OPINION POLLS.  558314   \n",
       "1209  1997-03-17  Black group to march against Philadelphia tens...  447270   \n",
       "2037  1997-02-06          Kuwait's health minister resigns - paper.  362101   \n",
       "788   1996-12-13  RTRS-Cricket-Australian youngsters beat Pakistan.  254412   \n",
       "382   1997-05-23    Clinton delays seeking fast track trade powers.  609405   \n",
       "753   1997-01-06         Kinkel rejects Schroeder's stance on euro.  289551   \n",
       "970   1997-01-04  Australian bushfire forces evacuation of hundr...  286995   \n",
       "1143  1996-09-20     Prudential Insurance settlement opposed - WSJ.   67756   \n",
       "1882  1997-02-06  Pakistan's Leghari arrives in Saudi for pilgri...  361343   \n",
       "98    1996-09-19           CRICKET-SRI LANKA V ZIMBABWE SCOREBOARD.   63538   \n",
       "1031  1996-11-22  Vietnam says still hoping for APEC membership ...  209858   \n",
       "1223  1996-10-30       SOCCER-MANCHESTER UNITED V FENERBAHCE TEAMS.  152745   \n",
       "1045  1997-04-03  OSCE warns against delay in Albania force, polls.  484855   \n",
       "1587  1996-10-18  Belarus capital faces mass rally over poll cri...  126321   \n",
       "606   1996-08-24           Gambian barrister to run against Jammeh.   12669   \n",
       "547   1997-03-06    British nanny indicted for first degree murder.  424634   \n",
       "1805  1997-07-03  Allied bomb defused near German president's of...  705300   \n",
       "\n",
       "                                                   text  sports  politics  \n",
       "1829  Libya said on Wednesday a Libyan plane had flo...   False     False  \n",
       "1050  A Senate investigation into political fund-rai...   False      True  \n",
       "407   British Airways (BA) denied on Monday a newspa...   False     False  \n",
       "376   Gulf Arab states could reinstate a boycott the...   False     False  \n",
       "728   Swedish vehicle maker AB Volvo said on Thursda...   False     False  \n",
       "1267  Following are economists' reactions to a repor...   False     False  \n",
       "1222  French and German officials Friday signed cont...   False     False  \n",
       "114   Bosnia's president bowed to U.S. pressure on F...   False      True  \n",
       "2086  Two weeks before a general election, New Zeala...   False      True  \n",
       "151   A healthy-looking Russian President Boris Yelt...   False      True  \n",
       "2176  Australia said on Thursday it had struck a dea...   False      True  \n",
       "1407  The Washington Redskins held on to their star ...    True     False  \n",
       "1585  Russian President Boris Yeltsin reiterated opp...   False     False  \n",
       "117   Yelena Vialbe and Bjorn Daehlie left only a fe...    True     False  \n",
       "881   U.S. Middle East envoy Dennis Ross met Egypt's...   False      True  \n",
       "182   Brazilian coffee region temperatures (centigra...   False     False  \n",
       "260   A confrontation at the Hebron University campu...   False     False  \n",
       "1458  Alberto Tomba has been dropping hints about a ...    True     False  \n",
       "1629  Striker Romario scored a hat trick as Brazil d...    True     False  \n",
       "1206  Two Argentine men were arrested on Tuesday aft...   False     False  \n",
       "740   Prime Minister Benjamin Netanyahu said in comm...   False     False  \n",
       "208   At least 30 inmates of a Venezuelan jail were ...   False     False  \n",
       "287   Further consideration is necessary before a de...   False      True  \n",
       "845   Inspired batting by Carl Hooper and Brian Lara...    True     False  \n",
       "2248  China has indicted six people in connection wi...   False     False  \n",
       "1412  Australian Foreign Minister Alexander Downer o...   False     False  \n",
       "832   KeyCorp said Monday that it is forming a singl...   False     False  \n",
       "1580  In a country bewitched by teenaged fashion mod...   False      True  \n",
       "1014  President Clinton said farewell Monday to a su...   False      True  \n",
       "241   Ecuadorean President Abdala Bucaram belted out...   False      True  \n",
       "...                                                 ...     ...       ...  \n",
       "767   When Pete Sampras won his first Grand Slam tit...    True     False  \n",
       "217   Twelve members of the Moslem extremist group A...   False     False  \n",
       "797   CANADA GOVERNMENT LIST (970611) Governor Gener...   False      True  \n",
       "1331  Software company Borland International Inc. sa...   False     False  \n",
       "120   WELLINGTON, July 16 - New Zealand offspinner D...    True     False  \n",
       "1051  A Frenchman suspected of belonging to a satani...   False     False  \n",
       "1236  For the 27,000 Philippine troops assigned to g...   False     False  \n",
       "1295  One worker suffered serious injuries in an exp...   False     False  \n",
       "916   Results of South Korean professional baseball ...    True     False  \n",
       "1209  A gas pipeline operated by Northwest Pipeline ...   False     False  \n",
       "301   Mexican media giant Grupo Televisa said on Wed...   False     False  \n",
       "626   Following is the text of a joint statement by ...   False     False  \n",
       "1454  The stage was set, the red carpet was down and...   False     False  \n",
       "1106  Following are the results of opinion polls con...   False      True  \n",
       "1209  The Nation of Islam said Monday it aimed to at...   False      True  \n",
       "2037  Kuwait's Health Minister Anwar al-Nouri said h...   False      True  \n",
       "788   Pakistan started their short tour of Australia...    True     False  \n",
       "382   President Bill Clinton has decided to wait sev...   False      True  \n",
       "753   Foreign Minister Klaus Kinkel said on Monday t...   False      True  \n",
       "970   A bushfire near the west Australian city of Pe...   False     False  \n",
       "1143  Seven states are opposing the class-action set...   False     False  \n",
       "1882  Pakistani President Farooq Leghari arrived in ...   False     False  \n",
       "98    Scoreboard on the second day of the second cri...    True     False  \n",
       "1031  Vietnam said on Friday it still hoped to join ...   False     False  \n",
       "1223  Teams for Wednesday's European Cup Champions' ...    True     False  \n",
       "1045  European mediator Franz Vranitzky said on Thur...   False     False  \n",
       "1587  Opponents of Belarus President Alexander Lukas...   False      True  \n",
       "606   Prominent Gambian barrister Ousseynou Darboe h...   False      True  \n",
       "547   A grand jury indicted an 18-year-old British n...   False     False  \n",
       "1805  Explosives experts on Thursday defused a World...   False      True  \n",
       "\n",
       "[15000 rows x 6 columns]"
      ]
     },
     "execution_count": 4,
     "metadata": {},
     "output_type": "execute_result"
    }
   ],
   "source": [
    "df"
   ]
  },
  {
   "cell_type": "markdown",
   "metadata": {
    "slideshow": {
     "slide_type": "slide"
    }
   },
   "source": [
    "## Tokenize"
   ]
  },
  {
   "cell_type": "code",
   "execution_count": 5,
   "metadata": {
    "collapsed": true,
    "slideshow": {
     "slide_type": "-"
    }
   },
   "outputs": [],
   "source": [
    "def tokenize(text):\n",
    "    return [tok.orth_ for tok in nlp.tokenizer(text)]\n",
    "df['tokens'] = df['text'].apply(tokenize)"
   ]
  },
  {
   "cell_type": "markdown",
   "metadata": {
    "slideshow": {
     "slide_type": "slide"
    }
   },
   "source": [
    "## Import sklearn"
   ]
  },
  {
   "cell_type": "code",
   "execution_count": 6,
   "metadata": {
    "collapsed": true,
    "slideshow": {
     "slide_type": "-"
    }
   },
   "outputs": [],
   "source": [
    "from sklearn.model_selection import *\n",
    "from sklearn.naive_bayes import *\n",
    "from sklearn.linear_model import *\n",
    "from sklearn.dummy import *\n",
    "from sklearn.pipeline import make_pipeline\n",
    "from sklearn.feature_extraction.text import *\n",
    "from sklearn.model_selection import *"
   ]
  },
  {
   "cell_type": "markdown",
   "metadata": {
    "slideshow": {
     "slide_type": "slide"
    }
   },
   "source": [
    "## Document-term matrix"
   ]
  },
  {
   "cell_type": "code",
   "execution_count": 7,
   "metadata": {
    "slideshow": {
     "slide_type": "-"
    }
   },
   "outputs": [],
   "source": [
    "V = CountVectorizer(analyzer=identity)\n",
    "X = V.fit_transform(df['tokens'])"
   ]
  },
  {
   "cell_type": "code",
   "execution_count": 8,
   "metadata": {
    "slideshow": {
     "slide_type": "subslide"
    }
   },
   "outputs": [
    {
     "data": {
      "text/plain": [
       "[array(['repeated', 'were', 'violations', 'if', 'curbs', 'tougher',\n",
       "        'recommending', 'consider', 'would', 'warned', 'After', 'June',\n",
       "        'summit', 'attend', 'back', 'Cairo', 'Gaddafi', 'Muammar', 'leader',\n",
       "        'registered', '1996', '1995', 'Arabia', 'Saudi', 'pilgrims',\n",
       "        'Moslem', 'flew', '--', 'broken', 'India', 'flight', 'world',\n",
       "        'around', 'attempted', 'his', 'short', 'cut', 'him', 'forced',\n",
       "        'fuel', 'loss', 'detour', 'though', 'minutes', '45', 'hour', 'he',\n",
       "        'Chicago', 'centre', 'control', 'According', 'changed', 'later',\n",
       "        'but', 'country', 'denied', 'first', 'hot', 'lot', 'saying',\n",
       "        'claim', 'rejected', 'Tuesday', 'source', 'committee', 'U.N.', 'A',\n",
       "        'council', 'document', 'as', 'circulated', 'be', 'asked',\n",
       "        'chairman', 'position', 'Tripoli', 'out', 'setting', 'letter',\n",
       "        'handed', 'diplomat', 'cross', 'Fossett', 'Steve', 'citizen',\n",
       "        'U.S.', 'permitted', 'states', 'from', 'aircraft', 'airspace',\n",
       "        'open', 'continue', 'will', 'airlines', 'informed', ')', '(', '\"',\n",
       "        ':', 'earlier', 'people', '270', 'killing', '1988', 'Scotland',\n",
       "        'Lockerbie', 'airliner', 'Am', 'Pan', 'bombing', 'role', 'alleged',\n",
       "        'their', 'Britain', 'States', 'indicted', 'Libyans', 'two', 'hand',\n",
       "        'refused', 'by', 'imposed', 'sanctions', 'part', 'is', 'which',\n",
       "        'violated', 'occasions', 'several', 'has', 'details', 'other',\n",
       "        'landed', 'when', 'say', 'not', 'did', 'It', 'visit', 'visiting',\n",
       "        'was', 'week', 'last', 'territoruy', 'overfly', 'balloon',\n",
       "        'piloted', 'American', 'for', 'permission', 'gave', 'after',\n",
       "        'embargo', 'air', 'subject', 'longer', 'no', 'itself', 'considered',\n",
       "        'that', 'Council', 'Security', 'told', 'it', 'Earlier', 'at',\n",
       "        'ministry', 'foreign', 'Ghanaian', 'Rawlings', 'Jerry', 'President',\n",
       "        'adviser', 'Tunis', 'in', 'monitored', ',', 'JANA', 'agency',\n",
       "        'news', 'The', 'greeted', 'being', 'officials', 'with', 'airport',\n",
       "        'reading', 'hall', 'arrival', 'over', 'sign', 'main', 'the', 'and',\n",
       "        'Airlines', 'Arab', 'of', 'footage', 'showed', 'television', 'run',\n",
       "        '-', 'state', '.', 'flights', 'international', 'its', 'ban',\n",
       "        'Nations', 'United', '1992', 'despite', 'Accra', 'capital', \"'s\",\n",
       "        'Ghana', 'to', 'delegation', 'official', 'an', 'flown', 'had',\n",
       "        'plane', 'Libyan', 'a', 'Wednesday', 'on', 'said', 'Libya'],\n",
       "       dtype='<U74')]"
      ]
     },
     "execution_count": 8,
     "metadata": {},
     "output_type": "execute_result"
    }
   ],
   "source": [
    "V.inverse_transform(X[0])"
   ]
  },
  {
   "cell_type": "markdown",
   "metadata": {
    "slideshow": {
     "slide_type": "slide"
    }
   },
   "source": [
    "## Baseline model\n",
    "\n",
    "Simplest predictor: most articles aren't about sports, so what if we guess that none of them are?"
   ]
  },
  {
   "cell_type": "code",
   "execution_count": 9,
   "metadata": {
    "slideshow": {
     "slide_type": "-"
    }
   },
   "outputs": [
    {
     "data": {
      "text/plain": [
       "(2562, 15000)"
      ]
     },
     "execution_count": 9,
     "metadata": {},
     "output_type": "execute_result"
    }
   ],
   "source": [
    "sum(df['sports']==True), len(df)"
   ]
  },
  {
   "cell_type": "code",
   "execution_count": 10,
   "metadata": {
    "slideshow": {
     "slide_type": "-"
    }
   },
   "outputs": [
    {
     "data": {
      "text/plain": [
       "(0.8292, 0.0001)"
      ]
     },
     "execution_count": 10,
     "metadata": {},
     "output_type": "execute_result"
    }
   ],
   "source": [
    "model = make_pipeline(CountVectorizer(analyzer=identity), DummyClassifier('most_frequent'))     \n",
    "score = cross_val_score(model, df['tokens'], df['sports'], cv=5, n_jobs=-1)\n",
    "score.mean(), score.std()"
   ]
  },
  {
   "cell_type": "markdown",
   "metadata": {
    "slideshow": {
     "slide_type": "slide"
    }
   },
   "source": [
    "## Simple NB\n",
    "\n",
    "Bernoulli Naive Bayes"
   ]
  },
  {
   "cell_type": "code",
   "execution_count": 11,
   "metadata": {
    "slideshow": {
     "slide_type": "-"
    }
   },
   "outputs": [
    {
     "data": {
      "text/plain": [
       "(0.9809, 0.0014)"
      ]
     },
     "execution_count": 11,
     "metadata": {},
     "output_type": "execute_result"
    }
   ],
   "source": [
    "model = make_pipeline(CountVectorizer(analyzer=identity), BernoulliNB())     \n",
    "score = cross_val_score(model, df['tokens'], df['sports'], cv=5, n_jobs=-1)\n",
    "score.mean(), score.std()"
   ]
  },
  {
   "cell_type": "markdown",
   "metadata": {
    "slideshow": {
     "slide_type": "slide"
    }
   },
   "source": [
    "## Feature pruning\n",
    "\n",
    "Very rare or very common words usually don't help very much with prediction and make learning more expensive, so skipping them sometimes improve results"
   ]
  },
  {
   "cell_type": "code",
   "execution_count": 12,
   "metadata": {
    "slideshow": {
     "slide_type": "-"
    }
   },
   "outputs": [
    {
     "data": {
      "text/plain": [
       "(0.9823, 0.0012)"
      ]
     },
     "execution_count": 12,
     "metadata": {},
     "output_type": "execute_result"
    }
   ],
   "source": [
    "model = make_pipeline(CountVectorizer(min_df=2, max_df=0.5, analyzer=identity), BernoulliNB())     \n",
    "score = cross_val_score(model, df['tokens'], df['sports'], cv=5, n_jobs=-1)\n",
    "score.mean(), score.std()"
   ]
  },
  {
   "cell_type": "markdown",
   "metadata": {
    "slideshow": {
     "slide_type": "slide"
    }
   },
   "source": [
    "## Hyperparameters\n",
    "\n",
    "What are the optimal values of `min_df` and `max_df`?"
   ]
  },
  {
   "cell_type": "code",
   "execution_count": 13,
   "metadata": {
    "slideshow": {
     "slide_type": "-"
    }
   },
   "outputs": [
    {
     "name": "stdout",
     "output_type": "stream",
     "text": [
      "Fitting 3 folds for each of 5 candidates, totalling 15 fits\n"
     ]
    },
    {
     "name": "stderr",
     "output_type": "stream",
     "text": [
      "[Parallel(n_jobs=-1)]: Done  15 out of  15 | elapsed:   27.3s finished\n"
     ]
    },
    {
     "data": {
      "text/plain": [
       "GridSearchCV(cv=None, error_score='raise',\n",
       "       estimator=Pipeline(memory=None,\n",
       "     steps=[('countvectorizer', CountVectorizer(analyzer=<cyfunction identity at 0x7f961a702a58>,\n",
       "        binary=False, decode_error='strict', dtype=<class 'numpy.int64'>,\n",
       "        encoding='utf-8', input='content', lowercase=True, max_df=1.0,\n",
       "        max_features=None, min_df=1, ngram_range=(1, 1), prepr...ary=None)), ('bernoullinb', BernoulliNB(alpha=1.0, binarize=0.0, class_prior=None, fit_prior=True))]),\n",
       "       fit_params=None, iid=True, n_jobs=-1,\n",
       "       param_grid={'countvectorizer__min_df': [1, 2, 5, 10, 25]},\n",
       "       pre_dispatch='2*n_jobs', refit=True, return_train_score=True,\n",
       "       scoring=None, verbose=1)"
      ]
     },
     "execution_count": 13,
     "metadata": {},
     "output_type": "execute_result"
    }
   ],
   "source": [
    "model = make_pipeline(CountVectorizer(analyzer=identity), BernoulliNB())     \n",
    "params = {'countvectorizer__min_df':[1, 2, 5, 10, 25]}\n",
    "grid_search = GridSearchCV(model, params, n_jobs=-1, verbose=1, return_train_score=True)\n",
    "grid_search.fit(df['tokens'], df['sports'])   "
   ]
  },
  {
   "cell_type": "code",
   "execution_count": 14,
   "metadata": {
    "slideshow": {
     "slide_type": "-"
    }
   },
   "outputs": [
    {
     "data": {
      "text/plain": [
       "(0.9805, {'countvectorizer__min_df': 1})"
      ]
     },
     "execution_count": 14,
     "metadata": {},
     "output_type": "execute_result"
    }
   ],
   "source": [
    "grid_search.best_score_, grid_search.best_params_"
   ]
  },
  {
   "cell_type": "code",
   "execution_count": 15,
   "metadata": {
    "slideshow": {
     "slide_type": "slide"
    }
   },
   "outputs": [
    {
     "data": {
      "text/plain": [
       "<matplotlib.axes._subplots.AxesSubplot at 0x7f95dc4b2ac8>"
      ]
     },
     "execution_count": 15,
     "metadata": {},
     "output_type": "execute_result"
    },
    {
     "data": {
      "image/png": "[encoded data removed]",
      "text/plain": [
       "<matplotlib.figure.Figure at 0x7f95dc4b2390>"
      ]
     },
     "metadata": {},
     "output_type": "display_data"
    }
   ],
   "source": [
    "grid = pd.DataFrame(grid_search.cv_results_, dtype=float)\n",
    "grid.plot.line('param_countvectorizer__min_df', 'mean_test_score')"
   ]
  },
  {
   "cell_type": "markdown",
   "metadata": {
    "slideshow": {
     "slide_type": "slide"
    }
   },
   "source": [
    "## Hyperparameters"
   ]
  },
  {
   "cell_type": "code",
   "execution_count": 16,
   "metadata": {
    "slideshow": {
     "slide_type": "-"
    }
   },
   "outputs": [
    {
     "name": "stdout",
     "output_type": "stream",
     "text": [
      "Fitting 3 folds for each of 4 candidates, totalling 12 fits\n"
     ]
    },
    {
     "name": "stderr",
     "output_type": "stream",
     "text": [
      "[Parallel(n_jobs=-1)]: Done  10 out of  12 | elapsed:   19.9s remaining:    4.0s\n",
      "[Parallel(n_jobs=-1)]: Done  12 out of  12 | elapsed:   22.1s finished\n"
     ]
    },
    {
     "data": {
      "text/plain": [
       "GridSearchCV(cv=None, error_score='raise',\n",
       "       estimator=Pipeline(memory=None,\n",
       "     steps=[('countvectorizer', CountVectorizer(analyzer=<cyfunction identity at 0x7f961a702a58>,\n",
       "        binary=False, decode_error='strict', dtype=<class 'numpy.int64'>,\n",
       "        encoding='utf-8', input='content', lowercase=True, max_df=1.0,\n",
       "        max_features=None, min_df=1, ngram_range=(1, 1), prepr...ary=None)), ('bernoullinb', BernoulliNB(alpha=1.0, binarize=0.0, class_prior=None, fit_prior=True))]),\n",
       "       fit_params=None, iid=True, n_jobs=-1,\n",
       "       param_grid={'countvectorizer__max_df': [0.01, 0.1, 0.5, 1.0]},\n",
       "       pre_dispatch='2*n_jobs', refit=True, return_train_score=True,\n",
       "       scoring=None, verbose=1)"
      ]
     },
     "execution_count": 16,
     "metadata": {},
     "output_type": "execute_result"
    }
   ],
   "source": [
    "model = make_pipeline(CountVectorizer(analyzer=identity), BernoulliNB())     \n",
    "params = {'countvectorizer__max_df':[0.01, 0.1, 0.5, 1.0]}\n",
    "grid_search = GridSearchCV(model, params, n_jobs=-1, verbose=1, return_train_score=True)\n",
    "grid_search.fit(df['tokens'], df['sports'])   "
   ]
  },
  {
   "cell_type": "code",
   "execution_count": 17,
   "metadata": {
    "slideshow": {
     "slide_type": "-"
    }
   },
   "outputs": [
    {
     "data": {
      "text/plain": [
       "(0.9838, {'countvectorizer__max_df': 0.5000})"
      ]
     },
     "execution_count": 17,
     "metadata": {},
     "output_type": "execute_result"
    }
   ],
   "source": [
    "grid_search.best_score_, grid_search.best_params_"
   ]
  },
  {
   "cell_type": "code",
   "execution_count": 18,
   "metadata": {
    "slideshow": {
     "slide_type": "slide"
    }
   },
   "outputs": [
    {
     "data": {
      "text/plain": [
       "<matplotlib.axes._subplots.AxesSubplot at 0x7f95da1f3978>"
      ]
     },
     "execution_count": 18,
     "metadata": {},
     "output_type": "execute_result"
    },
    {
     "data": {
      "image/png": "[encoded data removed]",
      "text/plain": [
       "<matplotlib.figure.Figure at 0x7f95dbfd46d8>"
      ]
     },
     "metadata": {},
     "output_type": "display_data"
    }
   ],
   "source": [
    "grid = pd.DataFrame(grid_search.cv_results_, dtype=float)\n",
    "grid.plot.line('param_countvectorizer__max_df', 'mean_test_score')"
   ]
  },
  {
   "cell_type": "markdown",
   "metadata": {
    "slideshow": {
     "slide_type": "slide"
    }
   },
   "source": [
    "## Inspect features"
   ]
  },
  {
   "cell_type": "code",
   "execution_count": 19,
   "metadata": {
    "collapsed": true,
    "slideshow": {
     "slide_type": "-"
    }
   },
   "outputs": [],
   "source": [
    "train = df[:10000]\n",
    "test = df[10000:]"
   ]
  },
  {
   "cell_type": "code",
   "execution_count": 20,
   "metadata": {
    "slideshow": {
     "slide_type": "-"
    }
   },
   "outputs": [
    {
     "data": {
      "text/plain": [
       "0.9840"
      ]
     },
     "execution_count": 20,
     "metadata": {},
     "output_type": "execute_result"
    }
   ],
   "source": [
    "V = CountVectorizer(max_df=0.25, analyzer=identity)\n",
    "model = BernoulliNB()\n",
    "model.fit(V.fit_transform(train['tokens']), train['sports'])\n",
    "model.score(V.transform(test['tokens']), test['sports'])"
   ]
  },
  {
   "cell_type": "code",
   "execution_count": 21,
   "metadata": {
    "slideshow": {
     "slide_type": "slide"
    }
   },
   "outputs": [
    {
     "data": {
      "text/plain": [
       "['finals',\n",
       " 'championships',\n",
       " 'striker',\n",
       " 'game',\n",
       " 'tournament',\n",
       " 'wickets',\n",
       " 'halftime',\n",
       " '1',\n",
       " '4',\n",
       " 'innings',\n",
       " 'Standings',\n",
       " 'coach',\n",
       " 'league',\n",
       " 'championship',\n",
       " '2',\n",
       " '3',\n",
       " 'match',\n",
       " 'matches',\n",
       " '0',\n",
       " 'Cup']"
      ]
     },
     "execution_count": 21,
     "metadata": {},
     "output_type": "execute_result"
    }
   ],
   "source": [
    "w = model.feature_log_prob_[0] / model.feature_log_prob_[1]\n",
    "[V.get_feature_names()[f] for f in w.argsort()[-20:]]"
   ]
  },
  {
   "cell_type": "code",
   "execution_count": 22,
   "metadata": {
    "collapsed": true,
    "slideshow": {
     "slide_type": "slide"
    }
   },
   "outputs": [],
   "source": [
    "pred = model.predict(V.transform(test['tokens']))"
   ]
  },
  {
   "cell_type": "code",
   "execution_count": 23,
   "metadata": {
    "slideshow": {
     "slide_type": "-"
    }
   },
   "outputs": [
    {
     "data": {
      "text/html": [
       "<div>\n",
       "<style>\n",
       "    .dataframe thead tr:only-child th {\n",
       "        text-align: right;\n",
       "    }\n",
       "\n",
       "    .dataframe thead th {\n",
       "        text-align: left;\n",
       "    }\n",
       "\n",
       "    .dataframe tbody tr th {\n",
       "        vertical-align: top;\n",
       "    }\n",
       "</style>\n",
       "<table border=\"1\" class=\"dataframe\">\n",
       "  <thead>\n",
       "    <tr style=\"text-align: right;\">\n",
       "      <th></th>\n",
       "      <th>date</th>\n",
       "      <th>headline</th>\n",
       "      <th>itemid</th>\n",
       "      <th>text</th>\n",
       "      <th>sports</th>\n",
       "      <th>politics</th>\n",
       "      <th>tokens</th>\n",
       "    </tr>\n",
       "  </thead>\n",
       "  <tbody>\n",
       "    <tr>\n",
       "      <th>99</th>\n",
       "      <td>1997-02-04</td>\n",
       "      <td>SOCCER-GERMANS ATTACK ENGLAND OVER RIVAL WORLD...</td>\n",
       "      <td>353403</td>\n",
       "      <td>German soccer chiefs attacked England on Tuesd...</td>\n",
       "      <td>True</td>\n",
       "      <td>False</td>\n",
       "      <td>[German, soccer, chiefs, attacked, England, on...</td>\n",
       "    </tr>\n",
       "    <tr>\n",
       "      <th>683</th>\n",
       "      <td>1996-12-10</td>\n",
       "      <td>MOTOR RACING-STEWART LAUNCH NEW FORMULA ONE CAR.</td>\n",
       "      <td>245590</td>\n",
       "      <td>Formula One newcomers Stewart-Ford unveiled th...</td>\n",
       "      <td>True</td>\n",
       "      <td>False</td>\n",
       "      <td>[Formula, One, newcomers, Stewart, -, Ford, un...</td>\n",
       "    </tr>\n",
       "    <tr>\n",
       "      <th>309</th>\n",
       "      <td>1997-02-02</td>\n",
       "      <td>SOCCER-UEFA CLAIM ENGLAND KNEW OF WORLD CUP PLAN.</td>\n",
       "      <td>349545</td>\n",
       "      <td>England soccer authorities insisted on Sunday ...</td>\n",
       "      <td>True</td>\n",
       "      <td>False</td>\n",
       "      <td>[England, soccer, authorities, insisted, on, S...</td>\n",
       "    </tr>\n",
       "    <tr>\n",
       "      <th>1207</th>\n",
       "      <td>1997-06-03</td>\n",
       "      <td>SOCCER-AUSTRIA TO BID FOR EURO 2004 WITH HUNGARY.</td>\n",
       "      <td>632920</td>\n",
       "      <td>The Austrian government on Tuesday pledged its...</td>\n",
       "      <td>True</td>\n",
       "      <td>False</td>\n",
       "      <td>[The, Austrian, government, on, Tuesday, pledg...</td>\n",
       "    </tr>\n",
       "    <tr>\n",
       "      <th>1590</th>\n",
       "      <td>1997-01-16</td>\n",
       "      <td>CYCLING-DOPING WIDESPREAD IN PRO RACING, RIDER...</td>\n",
       "      <td>311126</td>\n",
       "      <td>Doping has become commonplace in professional ...</td>\n",
       "      <td>True</td>\n",
       "      <td>False</td>\n",
       "      <td>[Doping, has, become, commonplace, in, profess...</td>\n",
       "    </tr>\n",
       "    <tr>\n",
       "      <th>790</th>\n",
       "      <td>1996-09-20</td>\n",
       "      <td>OLYMPICS-CROOKS WILL NOT HARM RIO'S 2004 BID, ...</td>\n",
       "      <td>66496</td>\n",
       "      <td>Rio de Janeiro's reputation as a city teeming ...</td>\n",
       "      <td>True</td>\n",
       "      <td>False</td>\n",
       "      <td>[Rio, de, Janeiro, 's, reputation, as, a, city...</td>\n",
       "    </tr>\n",
       "    <tr>\n",
       "      <th>1512</th>\n",
       "      <td>1997-03-05</td>\n",
       "      <td>Swingley in front of Iditarod race pack.</td>\n",
       "      <td>420601</td>\n",
       "      <td>Montana musher Doug Swingley held an eight-min...</td>\n",
       "      <td>True</td>\n",
       "      <td>False</td>\n",
       "      <td>[Montana, musher, Doug, Swingley, held, an, ei...</td>\n",
       "    </tr>\n",
       "    <tr>\n",
       "      <th>902</th>\n",
       "      <td>1997-08-05</td>\n",
       "      <td>SOCCER-STEAUA EYES DIVORCE FROM ROMANIA MILITARY.</td>\n",
       "      <td>778104</td>\n",
       "      <td>Romania's top soccer club Steaua Bucharest is ...</td>\n",
       "      <td>True</td>\n",
       "      <td>False</td>\n",
       "      <td>[Romania, 's, top, soccer, club, Steaua, Bucha...</td>\n",
       "    </tr>\n",
       "    <tr>\n",
       "      <th>405</th>\n",
       "      <td>1997-03-10</td>\n",
       "      <td>MOTOR RACING-DIGITAL TV DRIVES FORMULA ONE FLO...</td>\n",
       "      <td>429678</td>\n",
       "      <td>Formula One, revving up on Monday for a flotat...</td>\n",
       "      <td>True</td>\n",
       "      <td>False</td>\n",
       "      <td>[Formula, One, ,, revving, up, on, Monday, for...</td>\n",
       "    </tr>\n",
       "    <tr>\n",
       "      <th>678</th>\n",
       "      <td>1997-03-04</td>\n",
       "      <td>MOTOR RACING-WALKER MAINTAINS ATTACKS ON SCHUM...</td>\n",
       "      <td>416968</td>\n",
       "      <td>Australian Grand Prix chief Ron Walker continu...</td>\n",
       "      <td>True</td>\n",
       "      <td>False</td>\n",
       "      <td>[Australian, Grand, Prix, chief, Ron, Walker, ...</td>\n",
       "    </tr>\n",
       "    <tr>\n",
       "      <th>37</th>\n",
       "      <td>1997-08-18</td>\n",
       "      <td>RUGBY LEAGUE-SUPER LEAGUE PULLS OUT OF PEACE T...</td>\n",
       "      <td>804836</td>\n",
       "      <td>A bid to resolve Australian rugby league's pro...</td>\n",
       "      <td>True</td>\n",
       "      <td>False</td>\n",
       "      <td>[A, bid, to, resolve, Australian, rugby, leagu...</td>\n",
       "    </tr>\n",
       "    <tr>\n",
       "      <th>1701</th>\n",
       "      <td>1997-03-14</td>\n",
       "      <td>BASEBALL-LABOR AGREEMENT OFFICIALLY SIGNED.</td>\n",
       "      <td>441954</td>\n",
       "      <td>Baseball labour peace became official Friday w...</td>\n",
       "      <td>True</td>\n",
       "      <td>False</td>\n",
       "      <td>[Baseball, labour, peace, became, official, Fr...</td>\n",
       "    </tr>\n",
       "    <tr>\n",
       "      <th>693</th>\n",
       "      <td>1996-11-06</td>\n",
       "      <td>Clinton leads with 206 electoral votes by 0127...</td>\n",
       "      <td>170758</td>\n",
       "      <td>Democratic President Bill Clinton had won 18 s...</td>\n",
       "      <td>False</td>\n",
       "      <td>True</td>\n",
       "      <td>[Democratic, President, Bill, Clinton, had, wo...</td>\n",
       "    </tr>\n",
       "    <tr>\n",
       "      <th>1281</th>\n",
       "      <td>1996-08-28</td>\n",
       "      <td>Soccer-Burundi disqualification from African C...</td>\n",
       "      <td>18925</td>\n",
       "      <td>The African Football Confederation (CAF) on We...</td>\n",
       "      <td>True</td>\n",
       "      <td>False</td>\n",
       "      <td>[The, African, Football, Confederation, (, CAF...</td>\n",
       "    </tr>\n",
       "    <tr>\n",
       "      <th>1477</th>\n",
       "      <td>1997-05-22</td>\n",
       "      <td>SOCCER-ASPRILLA HEAD-BUTTED OFFICER, SAY POLICE.</td>\n",
       "      <td>604532</td>\n",
       "      <td>Colombian striker Faustino Asprilla has had an...</td>\n",
       "      <td>True</td>\n",
       "      <td>False</td>\n",
       "      <td>[Colombian, striker, Faustino, Asprilla, has, ...</td>\n",
       "    </tr>\n",
       "    <tr>\n",
       "      <th>60</th>\n",
       "      <td>1997-02-19</td>\n",
       "      <td>SOCCER-ALBANIAN LEAGUE STILL ON HOLD.</td>\n",
       "      <td>387224</td>\n",
       "      <td>Albanian soccer officials said on Wednesday th...</td>\n",
       "      <td>True</td>\n",
       "      <td>False</td>\n",
       "      <td>[Albanian, soccer, officials, said, on, Wednes...</td>\n",
       "    </tr>\n",
       "    <tr>\n",
       "      <th>743</th>\n",
       "      <td>1997-01-30</td>\n",
       "      <td>SOCCER-LABOUR PARTY BACKS ENGLAND WORLD CUP BID.</td>\n",
       "      <td>343166</td>\n",
       "      <td>The opposition Labour party, favourites to win...</td>\n",
       "      <td>True</td>\n",
       "      <td>False</td>\n",
       "      <td>[The, opposition, Labour, party, ,, favourites...</td>\n",
       "    </tr>\n",
       "    <tr>\n",
       "      <th>585</th>\n",
       "      <td>1996-11-15</td>\n",
       "      <td>SOCCER-PORTUGUESE ACT TO CURB SCANDALS.</td>\n",
       "      <td>194292</td>\n",
       "      <td>Portugal's soccer authorities, battling a seri...</td>\n",
       "      <td>True</td>\n",
       "      <td>False</td>\n",
       "      <td>[Portugal, 's, soccer, authorities, ,, battlin...</td>\n",
       "    </tr>\n",
       "    <tr>\n",
       "      <th>59</th>\n",
       "      <td>1997-01-08</td>\n",
       "      <td>SOCCER-URUGUAY BAN FANS WITH PAINTED FACES.</td>\n",
       "      <td>292952</td>\n",
       "      <td>Security-conscious authorities have banned fan...</td>\n",
       "      <td>True</td>\n",
       "      <td>False</td>\n",
       "      <td>[Security, -, conscious, authorities, have, ba...</td>\n",
       "    </tr>\n",
       "    <tr>\n",
       "      <th>330</th>\n",
       "      <td>1997-03-31</td>\n",
       "      <td>CRICKET-ISRAEL REMAIN IN KL DESPITE MATCH INVA...</td>\n",
       "      <td>475980</td>\n",
       "      <td>Israel is to continue playing in an Internatio...</td>\n",
       "      <td>True</td>\n",
       "      <td>False</td>\n",
       "      <td>[Israel, is, to, continue, playing, in, an, In...</td>\n",
       "    </tr>\n",
       "    <tr>\n",
       "      <th>663</th>\n",
       "      <td>1996-08-30</td>\n",
       "      <td>BOXING-BOWE FINED $250,000; NEWMAN SUSPENDED F...</td>\n",
       "      <td>23526</td>\n",
       "      <td>Boxer Riddick Bowe's camp was fined $250,000 a...</td>\n",
       "      <td>True</td>\n",
       "      <td>False</td>\n",
       "      <td>[Boxer, Riddick, Bowe, 's, camp, was, fined, $...</td>\n",
       "    </tr>\n",
       "    <tr>\n",
       "      <th>1465</th>\n",
       "      <td>1997-07-30</td>\n",
       "      <td>New Zealand city weather forecasts for Friday.</td>\n",
       "      <td>766237</td>\n",
       "      <td>Forecasts for tomorrow. speed dir tonight tomo...</td>\n",
       "      <td>False</td>\n",
       "      <td>False</td>\n",
       "      <td>[Forecasts, for, tomorrow, ., speed, dir, toni...</td>\n",
       "    </tr>\n",
       "    <tr>\n",
       "      <th>953</th>\n",
       "      <td>1997-08-05</td>\n",
       "      <td>ATHLETICS-FREEMAN DELIGHTED WITH TITLE BUT DIS...</td>\n",
       "      <td>778155</td>\n",
       "      <td>Cathy Freeman, unhappy with her technique in M...</td>\n",
       "      <td>True</td>\n",
       "      <td>False</td>\n",
       "      <td>[Cathy, Freeman, ,, unhappy, with, her, techni...</td>\n",
       "    </tr>\n",
       "    <tr>\n",
       "      <th>1314</th>\n",
       "      <td>1996-12-14</td>\n",
       "      <td>SOCCER-BELGIAN POLICE DETAIN 71 AHEAD OF WORLD...</td>\n",
       "      <td>256803</td>\n",
       "      <td>Belgian police said on Saturday they had detai...</td>\n",
       "      <td>True</td>\n",
       "      <td>False</td>\n",
       "      <td>[Belgian, police, said, on, Saturday, they, ha...</td>\n",
       "    </tr>\n",
       "    <tr>\n",
       "      <th>1350</th>\n",
       "      <td>1996-11-29</td>\n",
       "      <td>SQUASH-JANSHER ANGERS OFFICIALS WITH LATE WITH...</td>\n",
       "      <td>224500</td>\n",
       "      <td>World number one Jansher Khan has angered squa...</td>\n",
       "      <td>True</td>\n",
       "      <td>False</td>\n",
       "      <td>[World, number, one, Jansher, Khan, has, anger...</td>\n",
       "    </tr>\n",
       "    <tr>\n",
       "      <th>851</th>\n",
       "      <td>1997-04-24</td>\n",
       "      <td>China PICC Life pays rare claim to sports star.</td>\n",
       "      <td>534968</td>\n",
       "      <td>The Beijing branch of the People's Insurance C...</td>\n",
       "      <td>True</td>\n",
       "      <td>False</td>\n",
       "      <td>[The, Beijing, branch, of, the, People, 's, In...</td>\n",
       "    </tr>\n",
       "    <tr>\n",
       "      <th>800</th>\n",
       "      <td>1997-05-30</td>\n",
       "      <td>SOCCER-GERMANS OFFER TALKS WITH ENGLAND ON WOR...</td>\n",
       "      <td>625814</td>\n",
       "      <td>German soccer boss Egidius Braun said on Frida...</td>\n",
       "      <td>True</td>\n",
       "      <td>False</td>\n",
       "      <td>[German, soccer, boss, Egidius, Braun, said, o...</td>\n",
       "    </tr>\n",
       "    <tr>\n",
       "      <th>100</th>\n",
       "      <td>1997-03-09</td>\n",
       "      <td>OLYMPICS-INNSBRUCK \"NO\" TO POSSIBLE 2006 OLYMP...</td>\n",
       "      <td>428959</td>\n",
       "      <td>Innsbruck's hopes of a possible bid to host th...</td>\n",
       "      <td>True</td>\n",
       "      <td>False</td>\n",
       "      <td>[Innsbruck, 's, hopes, of, a, possible, bid, t...</td>\n",
       "    </tr>\n",
       "    <tr>\n",
       "      <th>779</th>\n",
       "      <td>1996-10-17</td>\n",
       "      <td>LAWYER FOR MARADONA'S MANAGER SLAMS SECRET WIT...</td>\n",
       "      <td>122847</td>\n",
       "      <td>The lawyer for Argentine soccer star Diego Mar...</td>\n",
       "      <td>True</td>\n",
       "      <td>False</td>\n",
       "      <td>[The, lawyer, for, Argentine, soccer, star, Di...</td>\n",
       "    </tr>\n",
       "    <tr>\n",
       "      <th>55</th>\n",
       "      <td>1997-03-21</td>\n",
       "      <td>rugby union-HK CELEBRATES RUGBY WITH CHINESE C...</td>\n",
       "      <td>458388</td>\n",
       "      <td>Out with the old and in with the new could hav...</td>\n",
       "      <td>True</td>\n",
       "      <td>False</td>\n",
       "      <td>[Out, with, the, old, and, in, with, the, new,...</td>\n",
       "    </tr>\n",
       "    <tr>\n",
       "      <th>...</th>\n",
       "      <td>...</td>\n",
       "      <td>...</td>\n",
       "      <td>...</td>\n",
       "      <td>...</td>\n",
       "      <td>...</td>\n",
       "      <td>...</td>\n",
       "      <td>...</td>\n",
       "    </tr>\n",
       "    <tr>\n",
       "      <th>1205</th>\n",
       "      <td>1997-04-28</td>\n",
       "      <td>CHAIRMAN OF ITALIAN SOCCER CLUB VICENZA ARRESTED.</td>\n",
       "      <td>544889</td>\n",
       "      <td>Police on Monday said they had arrested the ch...</td>\n",
       "      <td>True</td>\n",
       "      <td>False</td>\n",
       "      <td>[Police, on, Monday, said, they, had, arrested...</td>\n",
       "    </tr>\n",
       "    <tr>\n",
       "      <th>354</th>\n",
       "      <td>1997-01-27</td>\n",
       "      <td>PROSECUTORS STILL PROBING STEFFI GRAF OVER TAX.</td>\n",
       "      <td>334097</td>\n",
       "      <td>German prosecutors said on Monday they were st...</td>\n",
       "      <td>True</td>\n",
       "      <td>False</td>\n",
       "      <td>[German, prosecutors, said, on, Monday, they, ...</td>\n",
       "    </tr>\n",
       "    <tr>\n",
       "      <th>751</th>\n",
       "      <td>1997-01-15</td>\n",
       "      <td>SOCCER-DUTCH FOOTBALLER CLAIMED CASH CAME FROM...</td>\n",
       "      <td>307947</td>\n",
       "      <td>Former Wimbledon goalkeeper Hans Segers, on tr...</td>\n",
       "      <td>True</td>\n",
       "      <td>False</td>\n",
       "      <td>[Former, Wimbledon, goalkeeper, Hans, Segers, ...</td>\n",
       "    </tr>\n",
       "    <tr>\n",
       "      <th>43</th>\n",
       "      <td>1997-01-08</td>\n",
       "      <td>SOCCER-KEEGAN FANS CAN GET INSURANCE FOR STRESS.</td>\n",
       "      <td>292936</td>\n",
       "      <td>An insurance company with a policy against abd...</td>\n",
       "      <td>True</td>\n",
       "      <td>False</td>\n",
       "      <td>[An, insurance, company, with, a, policy, agai...</td>\n",
       "    </tr>\n",
       "    <tr>\n",
       "      <th>765</th>\n",
       "      <td>1997-03-19</td>\n",
       "      <td>BRITISH POLICE TO QUESTION SOCCER STAR GASCOIGNE.</td>\n",
       "      <td>452225</td>\n",
       "      <td>England soccer player Paul Gascoigne will be q...</td>\n",
       "      <td>True</td>\n",
       "      <td>False</td>\n",
       "      <td>[England, soccer, player, Paul, Gascoigne, wil...</td>\n",
       "    </tr>\n",
       "    <tr>\n",
       "      <th>407</th>\n",
       "      <td>1996-11-04</td>\n",
       "      <td>BRITISH OLYMPIC CHIEFS BACK SPORTS ACADEMY SCH...</td>\n",
       "      <td>162997</td>\n",
       "      <td>British Olympic chiefs, worried by the country...</td>\n",
       "      <td>True</td>\n",
       "      <td>False</td>\n",
       "      <td>[British, Olympic, chiefs, ,, worried, by, the...</td>\n",
       "    </tr>\n",
       "    <tr>\n",
       "      <th>926</th>\n",
       "      <td>1996-11-07</td>\n",
       "      <td>SOCCER-INTER BLAME AJAX, TO APPEAL TO FIFA ON ...</td>\n",
       "      <td>172066</td>\n",
       "      <td>Inter Milan, declaring Ajax to be \"seriously a...</td>\n",
       "      <td>True</td>\n",
       "      <td>False</td>\n",
       "      <td>[Inter, Milan, ,, declaring, Ajax, to, be, \", ...</td>\n",
       "    </tr>\n",
       "    <tr>\n",
       "      <th>707</th>\n",
       "      <td>1996-10-08</td>\n",
       "      <td>SHOW JUMPING-ARGENTINE SAYS RIDERS INNOCENT.</td>\n",
       "      <td>101800</td>\n",
       "      <td>The president of the Argentine Equestrian Fede...</td>\n",
       "      <td>True</td>\n",
       "      <td>False</td>\n",
       "      <td>[The, president, of, the, Argentine, Equestria...</td>\n",
       "    </tr>\n",
       "    <tr>\n",
       "      <th>876</th>\n",
       "      <td>1997-03-17</td>\n",
       "      <td>HONG KONG HORSERACING HIT BY GRAFT BUST, 36 AR...</td>\n",
       "      <td>446266</td>\n",
       "      <td>Hong Kong's wealthy horse-racing fraternity wa...</td>\n",
       "      <td>True</td>\n",
       "      <td>False</td>\n",
       "      <td>[Hong, Kong, 's, wealthy, horse, -, racing, fr...</td>\n",
       "    </tr>\n",
       "    <tr>\n",
       "      <th>669</th>\n",
       "      <td>1996-12-23</td>\n",
       "      <td>Yachting-Hobart sailors question yacht safety.</td>\n",
       "      <td>272748</td>\n",
       "      <td>The Sydney-to-Hobart starting Thursday is rega...</td>\n",
       "      <td>True</td>\n",
       "      <td>False</td>\n",
       "      <td>[The, Sydney, -, to, -, Hobart, starting, Thur...</td>\n",
       "    </tr>\n",
       "    <tr>\n",
       "      <th>29</th>\n",
       "      <td>1997-02-04</td>\n",
       "      <td>PROSECUTOR ASKS FRENCH COURT TO KEEP TAPIE IN ...</td>\n",
       "      <td>353333</td>\n",
       "      <td>A state prosecutor urged France's Supreme Cour...</td>\n",
       "      <td>True</td>\n",
       "      <td>False</td>\n",
       "      <td>[A, state, prosecutor, urged, France, 's, Supr...</td>\n",
       "    </tr>\n",
       "    <tr>\n",
       "      <th>811</th>\n",
       "      <td>1997-05-21</td>\n",
       "      <td>FEATURE - TOBACCO DEBATE RAISES QUESTIONS FOR ...</td>\n",
       "      <td>600852</td>\n",
       "      <td>Formula One, the world's most glamorous and ex...</td>\n",
       "      <td>True</td>\n",
       "      <td>False</td>\n",
       "      <td>[Formula, One, ,, the, world, 's, most, glamor...</td>\n",
       "    </tr>\n",
       "    <tr>\n",
       "      <th>1462</th>\n",
       "      <td>1997-02-21</td>\n",
       "      <td>RUGBY UNION-SARFU SCORES PART VICTORY OVER INQ...</td>\n",
       "      <td>393234</td>\n",
       "      <td>The embattled South African Rugby Football Uni...</td>\n",
       "      <td>True</td>\n",
       "      <td>False</td>\n",
       "      <td>[The, embattled, South, African, Rugby, Footba...</td>\n",
       "    </tr>\n",
       "    <tr>\n",
       "      <th>928</th>\n",
       "      <td>1996-09-24</td>\n",
       "      <td>TENNIS-GERMAN FEDERATION ADMITS PAYING GRAF FEES.</td>\n",
       "      <td>71942</td>\n",
       "      <td>The German Tennis Federation (DTB) conceded Tu...</td>\n",
       "      <td>True</td>\n",
       "      <td>False</td>\n",
       "      <td>[The, German, Tennis, Federation, (, DTB, ), c...</td>\n",
       "    </tr>\n",
       "    <tr>\n",
       "      <th>812</th>\n",
       "      <td>1997-02-14</td>\n",
       "      <td>SOCCER-CHINA PUTS PLAYERS THROUGH TOUGH WINTER...</td>\n",
       "      <td>377689</td>\n",
       "      <td>China's top soccer league is putting all its p...</td>\n",
       "      <td>True</td>\n",
       "      <td>False</td>\n",
       "      <td>[China, 's, top, soccer, league, is, putting, ...</td>\n",
       "    </tr>\n",
       "    <tr>\n",
       "      <th>36</th>\n",
       "      <td>1996-10-22</td>\n",
       "      <td>RUGBY UNION-TALKS BETWEEN RFU AND ENGLISH CLUB...</td>\n",
       "      <td>132825</td>\n",
       "      <td>Talks between the English Rugby Football Union...</td>\n",
       "      <td>True</td>\n",
       "      <td>False</td>\n",
       "      <td>[Talks, between, the, English, Rugby, Football...</td>\n",
       "    </tr>\n",
       "    <tr>\n",
       "      <th>36</th>\n",
       "      <td>1996-12-06</td>\n",
       "      <td>IOC TEAM ARRIVES TO ASSESS S.AFRICAN OLYMPIC BID.</td>\n",
       "      <td>239067</td>\n",
       "      <td>The International Olympic Committee's evaluati...</td>\n",
       "      <td>True</td>\n",
       "      <td>False</td>\n",
       "      <td>[The, International, Olympic, Committee, 's, e...</td>\n",
       "    </tr>\n",
       "    <tr>\n",
       "      <th>858</th>\n",
       "      <td>1997-07-06</td>\n",
       "      <td>SOCCER-AUSTRIAN KEEPER KONSEL POISED FOR ROMA ...</td>\n",
       "      <td>709153</td>\n",
       "      <td>Rapid Vienna goalkeeper Michael Konsel is pois...</td>\n",
       "      <td>True</td>\n",
       "      <td>False</td>\n",
       "      <td>[Rapid, Vienna, goalkeeper, Michael, Konsel, i...</td>\n",
       "    </tr>\n",
       "    <tr>\n",
       "      <th>776</th>\n",
       "      <td>1997-02-20</td>\n",
       "      <td>NORDIC SKIING-BLOOD TESTS TO BE PERFORMED AT W...</td>\n",
       "      <td>390452</td>\n",
       "      <td>Organisers of the Nordic skiing world champion...</td>\n",
       "      <td>True</td>\n",
       "      <td>False</td>\n",
       "      <td>[Organisers, of, the, Nordic, skiing, world, c...</td>\n",
       "    </tr>\n",
       "    <tr>\n",
       "      <th>1465</th>\n",
       "      <td>1996-10-18</td>\n",
       "      <td>ARGENTINE SOCCER HOOLIGANS SAID TERRORIZING CL...</td>\n",
       "      <td>125666</td>\n",
       "      <td>Bosses of one of Argentina's leading soccer cl...</td>\n",
       "      <td>True</td>\n",
       "      <td>False</td>\n",
       "      <td>[Bosses, of, one, of, Argentina, 's, leading, ...</td>\n",
       "    </tr>\n",
       "    <tr>\n",
       "      <th>1791</th>\n",
       "      <td>1996-09-12</td>\n",
       "      <td>FEATURE-Christopher Plummer returns to stage t...</td>\n",
       "      <td>50198</td>\n",
       "      <td>Christopher Plummer, one of Canada's most famo...</td>\n",
       "      <td>False</td>\n",
       "      <td>False</td>\n",
       "      <td>[Christopher, Plummer, ,, one, of, Canada, 's,...</td>\n",
       "    </tr>\n",
       "    <tr>\n",
       "      <th>656</th>\n",
       "      <td>1997-06-10</td>\n",
       "      <td>Formula 1's Ecclestone warns against tobacco a...</td>\n",
       "      <td>652036</td>\n",
       "      <td>Formula One motor racing supremo Bernie Eccles...</td>\n",
       "      <td>True</td>\n",
       "      <td>False</td>\n",
       "      <td>[Formula, One, motor, racing, supremo, Bernie,...</td>\n",
       "    </tr>\n",
       "    <tr>\n",
       "      <th>960</th>\n",
       "      <td>1997-04-15</td>\n",
       "      <td>Major league sports quietly oppose Moynihan bill.</td>\n",
       "      <td>510055</td>\n",
       "      <td>U.S. Sen. Daniel Patrick Moynihan's controvers...</td>\n",
       "      <td>True</td>\n",
       "      <td>True</td>\n",
       "      <td>[U.S., Sen., Daniel, Patrick, Moynihan, 's, co...</td>\n",
       "    </tr>\n",
       "    <tr>\n",
       "      <th>32</th>\n",
       "      <td>1997-02-19</td>\n",
       "      <td>CRICKET-WEST INDIES WANT WORLD CUP EVERY TWO Y...</td>\n",
       "      <td>387196</td>\n",
       "      <td>West Indies want cricket's World Cup to be sta...</td>\n",
       "      <td>True</td>\n",
       "      <td>False</td>\n",
       "      <td>[West, Indies, want, cricket, 's, World, Cup, ...</td>\n",
       "    </tr>\n",
       "    <tr>\n",
       "      <th>380</th>\n",
       "      <td>1997-01-14</td>\n",
       "      <td>Basketball's Rodman tops worst-dressed women l...</td>\n",
       "      <td>305922</td>\n",
       "      <td>Cross-dressing Chicago Bulls basketball star D...</td>\n",
       "      <td>False</td>\n",
       "      <td>False</td>\n",
       "      <td>[Cross, -, dressing, Chicago, Bulls, basketbal...</td>\n",
       "    </tr>\n",
       "    <tr>\n",
       "      <th>497</th>\n",
       "      <td>1997-06-16</td>\n",
       "      <td>Shanghai holds China Coast cricket tournament.</td>\n",
       "      <td>665183</td>\n",
       "      <td>The revived Shanghai Cricket Club held the fir...</td>\n",
       "      <td>True</td>\n",
       "      <td>False</td>\n",
       "      <td>[The, revived, Shanghai, Cricket, Club, held, ...</td>\n",
       "    </tr>\n",
       "    <tr>\n",
       "      <th>735</th>\n",
       "      <td>1997-06-30</td>\n",
       "      <td>Rugby League-Warriors asked to freeze negotiat...</td>\n",
       "      <td>695588</td>\n",
       "      <td>A group bidding to buy the Auckland Warriors h...</td>\n",
       "      <td>True</td>\n",
       "      <td>False</td>\n",
       "      <td>[A, group, bidding, to, buy, the, Auckland, Wa...</td>\n",
       "    </tr>\n",
       "    <tr>\n",
       "      <th>27</th>\n",
       "      <td>1997-07-10</td>\n",
       "      <td>ATHLETICS-KRABBE LOSES APPEAL AGAINST DOPING BAN.</td>\n",
       "      <td>718463</td>\n",
       "      <td>Former double world sprint champion Katrin Kra...</td>\n",
       "      <td>True</td>\n",
       "      <td>False</td>\n",
       "      <td>[Former, double, world, sprint, champion, Katr...</td>\n",
       "    </tr>\n",
       "    <tr>\n",
       "      <th>44</th>\n",
       "      <td>1997-02-13</td>\n",
       "      <td>OLYMPICS-NAGANO OFFICIALS DENY \"TERRORIST\" THR...</td>\n",
       "      <td>374711</td>\n",
       "      <td>Nagano Olympic officials denied on Thursday th...</td>\n",
       "      <td>True</td>\n",
       "      <td>False</td>\n",
       "      <td>[Nagano, Olympic, officials, denied, on, Thurs...</td>\n",
       "    </tr>\n",
       "    <tr>\n",
       "      <th>78</th>\n",
       "      <td>1997-01-14</td>\n",
       "      <td>NIGERIA TO HOST ALL-AFRICA GAMES IN 2003.</td>\n",
       "      <td>305047</td>\n",
       "      <td>Nigeria said on Tuesday it had been chosen to ...</td>\n",
       "      <td>True</td>\n",
       "      <td>False</td>\n",
       "      <td>[Nigeria, said, on, Tuesday, it, had, been, ch...</td>\n",
       "    </tr>\n",
       "  </tbody>\n",
       "</table>\n",
       "<p>80 rows × 7 columns</p>\n",
       "</div>"
      ],
      "text/plain": [
       "            date                                           headline  itemid  \\\n",
       "99    1997-02-04  SOCCER-GERMANS ATTACK ENGLAND OVER RIVAL WORLD...  353403   \n",
       "683   1996-12-10   MOTOR RACING-STEWART LAUNCH NEW FORMULA ONE CAR.  245590   \n",
       "309   1997-02-02  SOCCER-UEFA CLAIM ENGLAND KNEW OF WORLD CUP PLAN.  349545   \n",
       "1207  1997-06-03  SOCCER-AUSTRIA TO BID FOR EURO 2004 WITH HUNGARY.  632920   \n",
       "1590  1997-01-16  CYCLING-DOPING WIDESPREAD IN PRO RACING, RIDER...  311126   \n",
       "790   1996-09-20  OLYMPICS-CROOKS WILL NOT HARM RIO'S 2004 BID, ...   66496   \n",
       "1512  1997-03-05           Swingley in front of Iditarod race pack.  420601   \n",
       "902   1997-08-05  SOCCER-STEAUA EYES DIVORCE FROM ROMANIA MILITARY.  778104   \n",
       "405   1997-03-10  MOTOR RACING-DIGITAL TV DRIVES FORMULA ONE FLO...  429678   \n",
       "678   1997-03-04  MOTOR RACING-WALKER MAINTAINS ATTACKS ON SCHUM...  416968   \n",
       "37    1997-08-18  RUGBY LEAGUE-SUPER LEAGUE PULLS OUT OF PEACE T...  804836   \n",
       "1701  1997-03-14        BASEBALL-LABOR AGREEMENT OFFICIALLY SIGNED.  441954   \n",
       "693   1996-11-06  Clinton leads with 206 electoral votes by 0127...  170758   \n",
       "1281  1996-08-28  Soccer-Burundi disqualification from African C...   18925   \n",
       "1477  1997-05-22   SOCCER-ASPRILLA HEAD-BUTTED OFFICER, SAY POLICE.  604532   \n",
       "60    1997-02-19              SOCCER-ALBANIAN LEAGUE STILL ON HOLD.  387224   \n",
       "743   1997-01-30   SOCCER-LABOUR PARTY BACKS ENGLAND WORLD CUP BID.  343166   \n",
       "585   1996-11-15            SOCCER-PORTUGUESE ACT TO CURB SCANDALS.  194292   \n",
       "59    1997-01-08        SOCCER-URUGUAY BAN FANS WITH PAINTED FACES.  292952   \n",
       "330   1997-03-31  CRICKET-ISRAEL REMAIN IN KL DESPITE MATCH INVA...  475980   \n",
       "663   1996-08-30  BOXING-BOWE FINED $250,000; NEWMAN SUSPENDED F...   23526   \n",
       "1465  1997-07-30     New Zealand city weather forecasts for Friday.  766237   \n",
       "953   1997-08-05  ATHLETICS-FREEMAN DELIGHTED WITH TITLE BUT DIS...  778155   \n",
       "1314  1996-12-14  SOCCER-BELGIAN POLICE DETAIN 71 AHEAD OF WORLD...  256803   \n",
       "1350  1996-11-29  SQUASH-JANSHER ANGERS OFFICIALS WITH LATE WITH...  224500   \n",
       "851   1997-04-24    China PICC Life pays rare claim to sports star.  534968   \n",
       "800   1997-05-30  SOCCER-GERMANS OFFER TALKS WITH ENGLAND ON WOR...  625814   \n",
       "100   1997-03-09  OLYMPICS-INNSBRUCK \"NO\" TO POSSIBLE 2006 OLYMP...  428959   \n",
       "779   1996-10-17  LAWYER FOR MARADONA'S MANAGER SLAMS SECRET WIT...  122847   \n",
       "55    1997-03-21  rugby union-HK CELEBRATES RUGBY WITH CHINESE C...  458388   \n",
       "...          ...                                                ...     ...   \n",
       "1205  1997-04-28  CHAIRMAN OF ITALIAN SOCCER CLUB VICENZA ARRESTED.  544889   \n",
       "354   1997-01-27    PROSECUTORS STILL PROBING STEFFI GRAF OVER TAX.  334097   \n",
       "751   1997-01-15  SOCCER-DUTCH FOOTBALLER CLAIMED CASH CAME FROM...  307947   \n",
       "43    1997-01-08   SOCCER-KEEGAN FANS CAN GET INSURANCE FOR STRESS.  292936   \n",
       "765   1997-03-19  BRITISH POLICE TO QUESTION SOCCER STAR GASCOIGNE.  452225   \n",
       "407   1996-11-04  BRITISH OLYMPIC CHIEFS BACK SPORTS ACADEMY SCH...  162997   \n",
       "926   1996-11-07  SOCCER-INTER BLAME AJAX, TO APPEAL TO FIFA ON ...  172066   \n",
       "707   1996-10-08       SHOW JUMPING-ARGENTINE SAYS RIDERS INNOCENT.  101800   \n",
       "876   1997-03-17  HONG KONG HORSERACING HIT BY GRAFT BUST, 36 AR...  446266   \n",
       "669   1996-12-23     Yachting-Hobart sailors question yacht safety.  272748   \n",
       "29    1997-02-04  PROSECUTOR ASKS FRENCH COURT TO KEEP TAPIE IN ...  353333   \n",
       "811   1997-05-21  FEATURE - TOBACCO DEBATE RAISES QUESTIONS FOR ...  600852   \n",
       "1462  1997-02-21  RUGBY UNION-SARFU SCORES PART VICTORY OVER INQ...  393234   \n",
       "928   1996-09-24  TENNIS-GERMAN FEDERATION ADMITS PAYING GRAF FEES.   71942   \n",
       "812   1997-02-14  SOCCER-CHINA PUTS PLAYERS THROUGH TOUGH WINTER...  377689   \n",
       "36    1996-10-22  RUGBY UNION-TALKS BETWEEN RFU AND ENGLISH CLUB...  132825   \n",
       "36    1996-12-06  IOC TEAM ARRIVES TO ASSESS S.AFRICAN OLYMPIC BID.  239067   \n",
       "858   1997-07-06  SOCCER-AUSTRIAN KEEPER KONSEL POISED FOR ROMA ...  709153   \n",
       "776   1997-02-20  NORDIC SKIING-BLOOD TESTS TO BE PERFORMED AT W...  390452   \n",
       "1465  1996-10-18  ARGENTINE SOCCER HOOLIGANS SAID TERRORIZING CL...  125666   \n",
       "1791  1996-09-12  FEATURE-Christopher Plummer returns to stage t...   50198   \n",
       "656   1997-06-10  Formula 1's Ecclestone warns against tobacco a...  652036   \n",
       "960   1997-04-15  Major league sports quietly oppose Moynihan bill.  510055   \n",
       "32    1997-02-19  CRICKET-WEST INDIES WANT WORLD CUP EVERY TWO Y...  387196   \n",
       "380   1997-01-14  Basketball's Rodman tops worst-dressed women l...  305922   \n",
       "497   1997-06-16     Shanghai holds China Coast cricket tournament.  665183   \n",
       "735   1997-06-30  Rugby League-Warriors asked to freeze negotiat...  695588   \n",
       "27    1997-07-10  ATHLETICS-KRABBE LOSES APPEAL AGAINST DOPING BAN.  718463   \n",
       "44    1997-02-13  OLYMPICS-NAGANO OFFICIALS DENY \"TERRORIST\" THR...  374711   \n",
       "78    1997-01-14          NIGERIA TO HOST ALL-AFRICA GAMES IN 2003.  305047   \n",
       "\n",
       "                                                   text  sports  politics  \\\n",
       "99    German soccer chiefs attacked England on Tuesd...    True     False   \n",
       "683   Formula One newcomers Stewart-Ford unveiled th...    True     False   \n",
       "309   England soccer authorities insisted on Sunday ...    True     False   \n",
       "1207  The Austrian government on Tuesday pledged its...    True     False   \n",
       "1590  Doping has become commonplace in professional ...    True     False   \n",
       "790   Rio de Janeiro's reputation as a city teeming ...    True     False   \n",
       "1512  Montana musher Doug Swingley held an eight-min...    True     False   \n",
       "902   Romania's top soccer club Steaua Bucharest is ...    True     False   \n",
       "405   Formula One, revving up on Monday for a flotat...    True     False   \n",
       "678   Australian Grand Prix chief Ron Walker continu...    True     False   \n",
       "37    A bid to resolve Australian rugby league's pro...    True     False   \n",
       "1701  Baseball labour peace became official Friday w...    True     False   \n",
       "693   Democratic President Bill Clinton had won 18 s...   False      True   \n",
       "1281  The African Football Confederation (CAF) on We...    True     False   \n",
       "1477  Colombian striker Faustino Asprilla has had an...    True     False   \n",
       "60    Albanian soccer officials said on Wednesday th...    True     False   \n",
       "743   The opposition Labour party, favourites to win...    True     False   \n",
       "585   Portugal's soccer authorities, battling a seri...    True     False   \n",
       "59    Security-conscious authorities have banned fan...    True     False   \n",
       "330   Israel is to continue playing in an Internatio...    True     False   \n",
       "663   Boxer Riddick Bowe's camp was fined $250,000 a...    True     False   \n",
       "1465  Forecasts for tomorrow. speed dir tonight tomo...   False     False   \n",
       "953   Cathy Freeman, unhappy with her technique in M...    True     False   \n",
       "1314  Belgian police said on Saturday they had detai...    True     False   \n",
       "1350  World number one Jansher Khan has angered squa...    True     False   \n",
       "851   The Beijing branch of the People's Insurance C...    True     False   \n",
       "800   German soccer boss Egidius Braun said on Frida...    True     False   \n",
       "100   Innsbruck's hopes of a possible bid to host th...    True     False   \n",
       "779   The lawyer for Argentine soccer star Diego Mar...    True     False   \n",
       "55    Out with the old and in with the new could hav...    True     False   \n",
       "...                                                 ...     ...       ...   \n",
       "1205  Police on Monday said they had arrested the ch...    True     False   \n",
       "354   German prosecutors said on Monday they were st...    True     False   \n",
       "751   Former Wimbledon goalkeeper Hans Segers, on tr...    True     False   \n",
       "43    An insurance company with a policy against abd...    True     False   \n",
       "765   England soccer player Paul Gascoigne will be q...    True     False   \n",
       "407   British Olympic chiefs, worried by the country...    True     False   \n",
       "926   Inter Milan, declaring Ajax to be \"seriously a...    True     False   \n",
       "707   The president of the Argentine Equestrian Fede...    True     False   \n",
       "876   Hong Kong's wealthy horse-racing fraternity wa...    True     False   \n",
       "669   The Sydney-to-Hobart starting Thursday is rega...    True     False   \n",
       "29    A state prosecutor urged France's Supreme Cour...    True     False   \n",
       "811   Formula One, the world's most glamorous and ex...    True     False   \n",
       "1462  The embattled South African Rugby Football Uni...    True     False   \n",
       "928   The German Tennis Federation (DTB) conceded Tu...    True     False   \n",
       "812   China's top soccer league is putting all its p...    True     False   \n",
       "36    Talks between the English Rugby Football Union...    True     False   \n",
       "36    The International Olympic Committee's evaluati...    True     False   \n",
       "858   Rapid Vienna goalkeeper Michael Konsel is pois...    True     False   \n",
       "776   Organisers of the Nordic skiing world champion...    True     False   \n",
       "1465  Bosses of one of Argentina's leading soccer cl...    True     False   \n",
       "1791  Christopher Plummer, one of Canada's most famo...   False     False   \n",
       "656   Formula One motor racing supremo Bernie Eccles...    True     False   \n",
       "960   U.S. Sen. Daniel Patrick Moynihan's controvers...    True      True   \n",
       "32    West Indies want cricket's World Cup to be sta...    True     False   \n",
       "380   Cross-dressing Chicago Bulls basketball star D...   False     False   \n",
       "497   The revived Shanghai Cricket Club held the fir...    True     False   \n",
       "735   A group bidding to buy the Auckland Warriors h...    True     False   \n",
       "27    Former double world sprint champion Katrin Kra...    True     False   \n",
       "44    Nagano Olympic officials denied on Thursday th...    True     False   \n",
       "78    Nigeria said on Tuesday it had been chosen to ...    True     False   \n",
       "\n",
       "                                                 tokens  \n",
       "99    [German, soccer, chiefs, attacked, England, on...  \n",
       "683   [Formula, One, newcomers, Stewart, -, Ford, un...  \n",
       "309   [England, soccer, authorities, insisted, on, S...  \n",
       "1207  [The, Austrian, government, on, Tuesday, pledg...  \n",
       "1590  [Doping, has, become, commonplace, in, profess...  \n",
       "790   [Rio, de, Janeiro, 's, reputation, as, a, city...  \n",
       "1512  [Montana, musher, Doug, Swingley, held, an, ei...  \n",
       "902   [Romania, 's, top, soccer, club, Steaua, Bucha...  \n",
       "405   [Formula, One, ,, revving, up, on, Monday, for...  \n",
       "678   [Australian, Grand, Prix, chief, Ron, Walker, ...  \n",
       "37    [A, bid, to, resolve, Australian, rugby, leagu...  \n",
       "1701  [Baseball, labour, peace, became, official, Fr...  \n",
       "693   [Democratic, President, Bill, Clinton, had, wo...  \n",
       "1281  [The, African, Football, Confederation, (, CAF...  \n",
       "1477  [Colombian, striker, Faustino, Asprilla, has, ...  \n",
       "60    [Albanian, soccer, officials, said, on, Wednes...  \n",
       "743   [The, opposition, Labour, party, ,, favourites...  \n",
       "585   [Portugal, 's, soccer, authorities, ,, battlin...  \n",
       "59    [Security, -, conscious, authorities, have, ba...  \n",
       "330   [Israel, is, to, continue, playing, in, an, In...  \n",
       "663   [Boxer, Riddick, Bowe, 's, camp, was, fined, $...  \n",
       "1465  [Forecasts, for, tomorrow, ., speed, dir, toni...  \n",
       "953   [Cathy, Freeman, ,, unhappy, with, her, techni...  \n",
       "1314  [Belgian, police, said, on, Saturday, they, ha...  \n",
       "1350  [World, number, one, Jansher, Khan, has, anger...  \n",
       "851   [The, Beijing, branch, of, the, People, 's, In...  \n",
       "800   [German, soccer, boss, Egidius, Braun, said, o...  \n",
       "100   [Innsbruck, 's, hopes, of, a, possible, bid, t...  \n",
       "779   [The, lawyer, for, Argentine, soccer, star, Di...  \n",
       "55    [Out, with, the, old, and, in, with, the, new,...  \n",
       "...                                                 ...  \n",
       "1205  [Police, on, Monday, said, they, had, arrested...  \n",
       "354   [German, prosecutors, said, on, Monday, they, ...  \n",
       "751   [Former, Wimbledon, goalkeeper, Hans, Segers, ...  \n",
       "43    [An, insurance, company, with, a, policy, agai...  \n",
       "765   [England, soccer, player, Paul, Gascoigne, wil...  \n",
       "407   [British, Olympic, chiefs, ,, worried, by, the...  \n",
       "926   [Inter, Milan, ,, declaring, Ajax, to, be, \", ...  \n",
       "707   [The, president, of, the, Argentine, Equestria...  \n",
       "876   [Hong, Kong, 's, wealthy, horse, -, racing, fr...  \n",
       "669   [The, Sydney, -, to, -, Hobart, starting, Thur...  \n",
       "29    [A, state, prosecutor, urged, France, 's, Supr...  \n",
       "811   [Formula, One, ,, the, world, 's, most, glamor...  \n",
       "1462  [The, embattled, South, African, Rugby, Footba...  \n",
       "928   [The, German, Tennis, Federation, (, DTB, ), c...  \n",
       "812   [China, 's, top, soccer, league, is, putting, ...  \n",
       "36    [Talks, between, the, English, Rugby, Football...  \n",
       "36    [The, International, Olympic, Committee, 's, e...  \n",
       "858   [Rapid, Vienna, goalkeeper, Michael, Konsel, i...  \n",
       "776   [Organisers, of, the, Nordic, skiing, world, c...  \n",
       "1465  [Bosses, of, one, of, Argentina, 's, leading, ...  \n",
       "1791  [Christopher, Plummer, ,, one, of, Canada, 's,...  \n",
       "656   [Formula, One, motor, racing, supremo, Bernie,...  \n",
       "960   [U.S., Sen., Daniel, Patrick, Moynihan, 's, co...  \n",
       "32    [West, Indies, want, cricket, 's, World, Cup, ...  \n",
       "380   [Cross, -, dressing, Chicago, Bulls, basketbal...  \n",
       "497   [The, revived, Shanghai, Cricket, Club, held, ...  \n",
       "735   [A, group, bidding, to, buy, the, Auckland, Wa...  \n",
       "27    [Former, double, world, sprint, champion, Katr...  \n",
       "44    [Nagano, Olympic, officials, denied, on, Thurs...  \n",
       "78    [Nigeria, said, on, Tuesday, it, had, been, ch...  \n",
       "\n",
       "[80 rows x 7 columns]"
      ]
     },
     "execution_count": 23,
     "metadata": {},
     "output_type": "execute_result"
    }
   ],
   "source": [
    "wrong = test[test['sports']!=pred]\n",
    "wrong"
   ]
  },
  {
   "cell_type": "code",
   "execution_count": 24,
   "metadata": {
    "slideshow": {
     "slide_type": "slide"
    }
   },
   "outputs": [
    {
     "data": {
      "text/plain": [
       "'German soccer chiefs attacked England on Tuesday for not consulting them before the country decided on a rival European bid for the 2006 World Cup finals. The German soccer federation (DFB), caught up in a row which also involves England and Europe\\'s governing body UEFA over bidding for the event, said it had announced back in 1993 that it would try to get the finals. It feels the English Football Association (F.A.) should have told Germany of its intentions before it expressed interest in the event much later following the country\\'s successful hosting of last year\\'s European championship. \"You have to ask the question whether a country should go to a partner and tell them rather than let them be informed through the media,\" DFB spokesman Wolfgang Niersbach said. \"It is normal that countries should talk to each other. I told (F.A. official) David Davies that we are not happy that things started like this. It shouldn\\'t happen like that. \"Perhaps it is forgotten but (DFB chief) Egidius Braun was a huge supporter of England to get Euro 96 at times when some people were saying the event can\\'t go to England because of the hooligans.\" Last Friday UEFA announced it would be backing the Germans\\' campaign, setting off outrage in British sporting and political circles. The F.A. called the decision undemocratic. But the Germans believe Europe can fend off competition from Africa and South America to get the tournament only if the continent speaks with one voice. They are desperate to avoid the kind of costly squabbling which marred the contest for the 2002 tournament between Asian rivals Japan and South Korea. The event was eventually awarded jointly to the two bitter rivals -- a development which the Germans say is out of the question in this case. The F.A., whose argument is largely with UEFA, has also attempted to build bridges with the DFB. \"We have received a fax from (F.A chief executive Graham) Kelly saying that the argument is not with the Germans and we want to stay good friends and colleagues,\" Niersbach said. \"There have been no dirty tricks on our part in all this. We have always put our cards firmly on the table.\" Germany plans to put Franz Becemnauer, the most successful figure in its footballing history, at the top of its bid. The former World Cup-winning captain and coach has agreed to take on the same kind of leading role which France gave to its former leading light Michel Platini in its successful bid for the 1998 finals. The DFB wants to avoid using taxpayers\\' money during the bidding process but millions of dollars will be pumped into rebuilding the country\\'s stadia if it wins. There are already plans to spend around $60 million rebuilding Munich\\'s Olympic stadium which staged the final the last time the country held the tournament in 1974. The Germans plan to put a new roof over the whole of the stadium.'"
      ]
     },
     "execution_count": 24,
     "metadata": {},
     "output_type": "execute_result"
    }
   ],
   "source": [
    "wrong['text'][99]"
   ]
  },
  {
   "cell_type": "code",
   "execution_count": 25,
   "metadata": {
    "slideshow": {
     "slide_type": "slide"
    }
   },
   "outputs": [
    {
     "data": {
      "text/plain": [
       "\"Democratic President Bill Clinton had won 18 states and 206 electoral votes in the presidential election, according to projections by major news organisations as of 8:27 p.m. EST (0127 GMT). In comparison, Republican challenger Bob Dole was projected the victor in six states with 74 electoral votes. The 50 U.S. states and the District of Columbia have 538 votes. A candidate needs 270 of these electoral votes to win the election. DC, with three electoral votes, is included in Clinton's state tally. U.S. Presidential Election - State Vote 1996 vs 1992 Snapshot at 8:27 p.m. EST (0127 GMT) Electoral State Votes 1996 1992 ----- ----- ---- ---- ALABAMA 9 Dole Bush ALASKA 3 ---------- Bush ARIZONA 8 ---------- Bush ARKANSAS 6 ---------- Clinton CALIFORNIA 54 ---------- Clinton COLORADO 8 ---------- Clinton CONNECTICUT 8 Clinton Clinton DELAWARE 3 Clinton Clinton DISTRICT OF COLUMBIA 3 Clinton Clinton FLORIDA 25 Clinton Bush GEORGIA 13 ---------- Clinton HAWAII 4 ---------- Clinton IDAHO 4 ---------- Clinton ILLINOIS 22 Clinton Clinton INDIANA 12 Dole Bush IOWA 7 ---------- Clinton KANSAS 6 Dole Bush KENTUCKY 8 Clinton Clinton LOUISIANA 9 ---------- Clinton MAINE 4 Clinton Clinton MARYLAND 10 Clinton Clinton MASSACHUSETTS 12 Clinton Clinton MICHIGAN 18 Clinton Clinton MINNESOTA 10 ---------- Clinton MISSISSIPPI 7 Dole Bush MISSOURI 11 Clinton Clinton MONTANA 3 ---------- Clinton NEBRASKA 5 ---------- Bush NEVADA 4 ---------- Clinton NEW HAMPSHIRE 4 Clinton Clinton NEW JERSEY 15 Clinton Clinton NEW MEXICO 5 ---------- Clinton NEW YORK 33 ---------- Clinton NORTH CAROLINA 14 ---------- Bush NORTH DAKOTA 3 ---------- Bush OHIO 21 Clinton Clinton OKLAHOMA 8 Dole Bush OREGON 7 ---------- Clinton PENNSYLVANIA 23 Clinton Clinton RHODE ISLAND 4 ---------- Clinton SOUTH CAROLINA 8 ---------- Bush SOUTH DAKOTA 3 ---------- Bush TENNESSEE 11 Clinton Clinton TEXAS 32 Dole Bush UTAH 5 ---------- Bush VERMONT 3 Clinton Clinton VIRGINIA 13 ---------- Bush WASHINGTON 11 ---------- Clinton WEST VIRGINIA 5 Clinton Clinton WISCONSIN 11 ---------- Clinton WYOMING 3 ---------- Bush ============================================================ Clinton: 206 electoral votes and 18 states, including DC Dole: 74 electoral votes and 6 states Perot: 0 electoral votes and 0 states ------ Maine and Nebraska are the only states which do not automatically allocate all electoral votes to the winner in their states, although a split allocation in this election is viewed as extremely remote.\""
      ]
     },
     "execution_count": 25,
     "metadata": {},
     "output_type": "execute_result"
    }
   ],
   "source": [
    "wrong['text'][693]"
   ]
  },
  {
   "cell_type": "markdown",
   "metadata": {
    "slideshow": {
     "slide_type": "slide"
    }
   },
   "source": [
    "## Try politics"
   ]
  },
  {
   "cell_type": "code",
   "execution_count": 26,
   "metadata": {
    "slideshow": {
     "slide_type": "-"
    }
   },
   "outputs": [
    {
     "data": {
      "text/plain": [
       "(0.7135, 0.0001)"
      ]
     },
     "execution_count": 26,
     "metadata": {},
     "output_type": "execute_result"
    }
   ],
   "source": [
    "model = make_pipeline(CountVectorizer(analyzer=identity), DummyClassifier('most_frequent'))     \n",
    "score = cross_val_score(model, df['tokens'], df['politics'], cv=5, n_jobs=-1)\n",
    "score.mean(), score.std()"
   ]
  },
  {
   "cell_type": "code",
   "execution_count": 27,
   "metadata": {
    "slideshow": {
     "slide_type": "-"
    }
   },
   "outputs": [
    {
     "data": {
      "text/plain": [
       "(0.8153, 0.0063)"
      ]
     },
     "execution_count": 27,
     "metadata": {},
     "output_type": "execute_result"
    }
   ],
   "source": [
    "model = make_pipeline(CountVectorizer(analyzer=identity), BernoulliNB())     \n",
    "score = cross_val_score(model, df['tokens'], df['politics'], cv=5, n_jobs=-1)\n",
    "score.mean(), score.std()"
   ]
  },
  {
   "cell_type": "markdown",
   "metadata": {
    "slideshow": {
     "slide_type": "slide"
    }
   },
   "source": [
    "## Your task\n",
    "\n",
    "Develop classifiers that improve on these scores for both sports and politics articles.  Some things to try changing:\n",
    "\n",
    "* hyperparameters for feature selection and classifiers\n",
    "* alternate tokenization\n",
    "* TfidfTransformer\n",
    "* MultinomialNB"
   ]
  }
 ],
 "metadata": {
  "celltoolbar": "Slideshow",
  "kernelspec": {
   "display_name": "Python 3",
   "language": "python",
   "name": "python3"
  },
  "language_info": {
   "codemirror_mode": {
    "name": "ipython",
    "version": 3
   },
   "file_extension": ".py",
   "mimetype": "text/x-python",
   "name": "python",
   "nbconvert_exporter": "python",
   "pygments_lexer": "ipython3",
   "version": "3.6.3"
  }
 },
 "nbformat": 4,
 "nbformat_minor": 2
}
