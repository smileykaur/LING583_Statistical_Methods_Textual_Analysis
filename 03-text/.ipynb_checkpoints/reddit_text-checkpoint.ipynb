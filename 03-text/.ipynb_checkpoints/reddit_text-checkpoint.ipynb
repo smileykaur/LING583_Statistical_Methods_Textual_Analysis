{
 "cells": [
  {
   "cell_type": "markdown",
   "metadata": {
    "deletable": true,
    "editable": true
   },
   "source": [
    "# Reddit text\n",
    "\n",
    "Collect some text from a subreddit  \n",
    "\n",
    "Ling 583  \n",
    "1 Feb 2018"
   ]
  },
  {
   "cell_type": "code",
   "execution_count": 1,
   "metadata": {
    "collapsed": true,
    "deletable": true,
    "editable": true
   },
   "outputs": [],
   "source": [
    "import pandas as pd\n",
    "import praw\n",
    "from cytoolz import take"
   ]
  },
  {
   "cell_type": "markdown",
   "metadata": {
    "deletable": true,
    "editable": true
   },
   "source": [
    "Open a connection to the Reddit API and log in using OAuth2"
   ]
  },
  {
   "cell_type": "code",
   "execution_count": 2,
   "metadata": {
    "collapsed": true,
    "deletable": true,
    "editable": true
   },
   "outputs": [],
   "source": [
    "reddit = praw.Reddit(client_id='Z_yQxDWsidF6Fw',\n",
    "                     client_secret='6a-h_znMl24biUtjLt2azg6QhD0',\n",
    "                     user_agent='python program')"
   ]
  },
  {
   "cell_type": "markdown",
   "metadata": {
    "deletable": true,
    "editable": true
   },
   "source": [
    "Get the top submission in the r/MachineLearning subreddit"
   ]
  },
  {
   "cell_type": "code",
   "execution_count": 3,
   "metadata": {
    "collapsed": false,
    "deletable": true,
    "editable": true
   },
   "outputs": [
    {
     "data": {
      "text/plain": [
       "Submission(id='7tn2ax')"
      ]
     },
     "execution_count": 3,
     "metadata": {},
     "output_type": "execute_result"
    }
   ],
   "source": [
    "subreddit = reddit.subreddit('MachineLearning')\n",
    "s = next(subreddit.hot())\n",
    "s"
   ]
  },
  {
   "cell_type": "code",
   "execution_count": 4,
   "metadata": {
    "collapsed": false,
    "deletable": true,
    "editable": true
   },
   "outputs": [
    {
     "data": {
      "text/plain": [
       "{'_comments_by_id': {},\n",
       " '_fetched': False,\n",
       " '_flair': None,\n",
       " '_info_params': {},\n",
       " '_mod': None,\n",
       " '_reddit': <praw.reddit.Reddit at 0xa1ba09828>,\n",
       " 'approved_at_utc': None,\n",
       " 'approved_by': None,\n",
       " 'archived': False,\n",
       " 'author': Redditor(name='ML_WAYR_bot'),\n",
       " 'author_flair_css_class': None,\n",
       " 'author_flair_text': None,\n",
       " 'banned_at_utc': None,\n",
       " 'banned_by': None,\n",
       " 'brand_safe': True,\n",
       " 'can_gild': False,\n",
       " 'can_mod_post': False,\n",
       " 'clicked': False,\n",
       " 'comment_limit': 2048,\n",
       " 'comment_sort': 'best',\n",
       " 'contest_mode': False,\n",
       " 'created': 1517202005.0,\n",
       " 'created_utc': 1517173205.0,\n",
       " 'distinguished': None,\n",
       " 'domain': 'self.MachineLearning',\n",
       " 'downs': 0,\n",
       " 'edited': False,\n",
       " 'gilded': 0,\n",
       " 'hidden': False,\n",
       " 'hide_score': False,\n",
       " 'id': '7tn2ax',\n",
       " 'is_crosspostable': False,\n",
       " 'is_reddit_media_domain': False,\n",
       " 'is_self': True,\n",
       " 'is_video': False,\n",
       " 'likes': None,\n",
       " 'link_flair_css_class': 'one',\n",
       " 'link_flair_text': 'Discussion',\n",
       " 'locked': False,\n",
       " 'media': None,\n",
       " 'media_embed': {},\n",
       " 'mod_note': None,\n",
       " 'mod_reason_by': None,\n",
       " 'mod_reason_title': None,\n",
       " 'mod_reports': [],\n",
       " 'name': 't3_7tn2ax',\n",
       " 'num_comments': 16,\n",
       " 'num_crossposts': 0,\n",
       " 'num_reports': None,\n",
       " 'over_18': False,\n",
       " 'parent_whitelist_status': 'all_ads',\n",
       " 'permalink': '/r/MachineLearning/comments/7tn2ax/d_machine_learning_wayr_what_are_you_reading_week/',\n",
       " 'pinned': False,\n",
       " 'quarantine': False,\n",
       " 'removal_reason': None,\n",
       " 'report_reasons': None,\n",
       " 'saved': False,\n",
       " 'score': 36,\n",
       " 'secure_media': None,\n",
       " 'secure_media_embed': {},\n",
       " 'selftext': \"This is a place to share machine learning research papers, journals, and articles that you're reading this week. If it relates to what you're researching, by all means elaborate and give us your insight, otherwise it could just be an interesting paper you've read.\\n\\nPlease try to provide some insight from your understanding and please don't post things which are present in wiki.\\n\\nPreferably you should link the arxiv page (not the PDF, you can easily access the PDF from the summary page but not the other way around) or any other pertinent links.\\n\\nPrevious weeks :\\n\\n|1-10|11-20|21-30|31-40|\\n|----|-----|-----|-----|\\n|[Week 1](https://www.reddit.com/r/MachineLearning/comments/4qyjiq/machine_learning_wayr_what_are_you_reading_week_1/)|[Week 11](https://www.reddit.com/r/MachineLearning/comments/57xw56/discussion_machine_learning_wayr_what_are_you/)|[Week 21](https://www.reddit.com/r/MachineLearning/comments/60ildf/d_machine_learning_wayr_what_are_you_reading_week/)|[Week 31](https://www.reddit.com/r/MachineLearning/comments/6s0k1u/d_machine_learning_wayr_what_are_you_reading_week/)||\\n|[Week 2](https://www.reddit.com/r/MachineLearning/comments/4s2xqm/machine_learning_wayr_what_are_you_reading_week_2/)|[Week 12](https://www.reddit.com/r/MachineLearning/comments/5acb1t/d_machine_learning_wayr_what_are_you_reading_week/)|[Week 22](https://www.reddit.com/r/MachineLearning/comments/64jwde/d_machine_learning_wayr_what_are_you_reading_week/)|[Week 32](https://www.reddit.com/r/MachineLearning/comments/72ab5y/d_machine_learning_wayr_what_are_you_reading_week/)||\\n|[Week 3](https://www.reddit.com/r/MachineLearning/comments/4t7mqm/machine_learning_wayr_what_are_you_reading_week_3/)|[Week 13](https://www.reddit.com/r/MachineLearning/comments/5cwfb6/d_machine_learning_wayr_what_are_you_reading_week/)|[Week 23](https://www.reddit.com/r/MachineLearning/comments/674331/d_machine_learning_wayr_what_are_you_reading_week/)|[Week 33](https://www.reddit.com/r/MachineLearning/comments/75405d/d_machine_learning_wayr_what_are_you_reading_week/)||\\n|[Week 4](https://www.reddit.com/r/MachineLearning/comments/4ub2kw/machine_learning_wayr_what_are_you_reading_week_4/)|[Week 14](https://www.reddit.com/r/MachineLearning/comments/5fc5mh/d_machine_learning_wayr_what_are_you_reading_week/)|[Week 24](https://www.reddit.com/r/MachineLearning/comments/68hhhb/d_machine_learning_wayr_what_are_you_reading_week/)|[Week 34](https://www.reddit.com/r/MachineLearning/comments/782js9/d_machine_learning_wayr_what_are_you_reading_week/)||\\n|[Week 5](https://www.reddit.com/r/MachineLearning/comments/4xomf7/machine_learning_wayr_what_are_you_reading_week_5/)|[Week 15](https://www.reddit.com/r/MachineLearning/comments/5hy4ur/d_machine_learning_wayr_what_are_you_reading_week/)|[Week 25](https://www.reddit.com/r/MachineLearning/comments/69teiz/d_machine_learning_wayr_what_are_you_reading_week/)|[Week 35](https://www.reddit.com/r/MachineLearning/comments/7b0av0/d_machine_learning_wayr_what_are_you_reading_week/)||\\n|[Week 6](https://www.reddit.com/r/MachineLearning/comments/4zcyvk/machine_learning_wayr_what_are_you_reading_week_6/)|[Week 16](https://www.reddit.com/r/MachineLearning/comments/5kd6vd/d_machine_learning_wayr_what_are_you_reading_week/)|[Week 26](https://www.reddit.com/r/MachineLearning/comments/6d7nb1/d_machine_learning_wayr_what_are_you_reading_week/)|[Week 36](https://www.reddit.com/r/MachineLearning/comments/7e3fx6/d_machine_learning_wayr_what_are_you_reading_week/)||\\n|[Week 7](https://www.reddit.com/r/MachineLearning/comments/52t6mo/machine_learning_wayr_what_are_you_reading_week_7/)|[Week 17](https://www.reddit.com/r/MachineLearning/comments/5ob7dx/discussion_machine_learning_wayr_what_are_you/)|[Week 27](https://www.reddit.com/r/MachineLearning/comments/6gngwc/d_machine_learning_wayr_what_are_you_reading_week/)|[Week 37](https://www.reddit.com/r/MachineLearning/comments/7hcc2c/d_machine_learning_wayr_what_are_you_reading_week/)||\\n|[Week 8](https://www.reddit.com/r/MachineLearning/comments/53heol/machine_learning_wayr_what_are_you_reading_week_8/)|[Week 18](https://www.reddit.com/r/MachineLearning/comments/5r14yd/discussion_machine_learning_wayr_what_are_you/)|[Week 28](https://www.reddit.com/r/MachineLearning/comments/6jgdva/d_machine_learning_wayr_what_are_you_reading_week/)|[Week 38](https://www.reddit.com/r/MachineLearning/comments/7kgcqr/d_machine_learning_wayr_what_are_you_reading_week/)||\\n|[Week 9](https://www.reddit.com/r/MachineLearning/comments/54kvsu/machine_learning_wayr_what_are_you_reading_week_9/)|[Week 19](https://www.reddit.com/r/MachineLearning/comments/5tt9cz/discussion_machine_learning_wayr_what_are_you/)|[Week 29](https://www.reddit.com/r/MachineLearning/comments/6m9l1v/d_machine_learning_wayr_what_are_you_reading_week/)|[Week 39](https://www.reddit.com/r/MachineLearning/comments/7nayri/d_machine_learning_wayr_what_are_you_reading_week/)||\\n|[Week 10](https://www.reddit.com/r/MachineLearning/comments/56s2oa/discussion_machine_learning_wayr_what_are_you/)|[Week 20](https://www.reddit.com/r/MachineLearning/comments/5wh2wb/d_machine_learning_wayr_what_are_you_reading_week/)|[Week 30](https://www.reddit.com/r/MachineLearning/comments/6p3ha7/d_machine_learning_wayr_what_are_you_reading_week/)|[Week 40](https://www.reddit.com/r/MachineLearning/comments/7qel9p/d_machine_learning_wayr_what_are_you_reading_week/)||\\n\\nMost upvoted papers two weeks ago:\\n\\n/u/Mehdi2277: https://arxiv.org/abs/1605.06640)\\n\\n/u/theology_: http://www.cs.cornell.edu/~asaxena/reconstruction3d/saxena_iccv_3drr07_learning3d.pdf\\n\\nBesides that, there are no rules, have fun.\",\n",
       " 'selftext_html': '<!-- SC_OFF --><div class=\"md\"><p>This is a place to share machine learning research papers, journals, and articles that you&#39;re reading this week. If it relates to what you&#39;re researching, by all means elaborate and give us your insight, otherwise it could just be an interesting paper you&#39;ve read.</p>\\n\\n<p>Please try to provide some insight from your understanding and please don&#39;t post things which are present in wiki.</p>\\n\\n<p>Preferably you should link the arxiv page (not the PDF, you can easily access the PDF from the summary page but not the other way around) or any other pertinent links.</p>\\n\\n<p>Previous weeks :</p>\\n\\n<table><thead>\\n<tr>\\n<th>1-10</th>\\n<th>11-20</th>\\n<th>21-30</th>\\n<th>31-40</th>\\n</tr>\\n</thead><tbody>\\n<tr>\\n<td><a href=\"https://www.reddit.com/r/MachineLearning/comments/4qyjiq/machine_learning_wayr_what_are_you_reading_week_1/\">Week 1</a></td>\\n<td><a href=\"https://www.reddit.com/r/MachineLearning/comments/57xw56/discussion_machine_learning_wayr_what_are_you/\">Week 11</a></td>\\n<td><a href=\"https://www.reddit.com/r/MachineLearning/comments/60ildf/d_machine_learning_wayr_what_are_you_reading_week/\">Week 21</a></td>\\n<td><a href=\"https://www.reddit.com/r/MachineLearning/comments/6s0k1u/d_machine_learning_wayr_what_are_you_reading_week/\">Week 31</a></td>\\n</tr>\\n<tr>\\n<td><a href=\"https://www.reddit.com/r/MachineLearning/comments/4s2xqm/machine_learning_wayr_what_are_you_reading_week_2/\">Week 2</a></td>\\n<td><a href=\"https://www.reddit.com/r/MachineLearning/comments/5acb1t/d_machine_learning_wayr_what_are_you_reading_week/\">Week 12</a></td>\\n<td><a href=\"https://www.reddit.com/r/MachineLearning/comments/64jwde/d_machine_learning_wayr_what_are_you_reading_week/\">Week 22</a></td>\\n<td><a href=\"https://www.reddit.com/r/MachineLearning/comments/72ab5y/d_machine_learning_wayr_what_are_you_reading_week/\">Week 32</a></td>\\n</tr>\\n<tr>\\n<td><a href=\"https://www.reddit.com/r/MachineLearning/comments/4t7mqm/machine_learning_wayr_what_are_you_reading_week_3/\">Week 3</a></td>\\n<td><a href=\"https://www.reddit.com/r/MachineLearning/comments/5cwfb6/d_machine_learning_wayr_what_are_you_reading_week/\">Week 13</a></td>\\n<td><a href=\"https://www.reddit.com/r/MachineLearning/comments/674331/d_machine_learning_wayr_what_are_you_reading_week/\">Week 23</a></td>\\n<td><a href=\"https://www.reddit.com/r/MachineLearning/comments/75405d/d_machine_learning_wayr_what_are_you_reading_week/\">Week 33</a></td>\\n</tr>\\n<tr>\\n<td><a href=\"https://www.reddit.com/r/MachineLearning/comments/4ub2kw/machine_learning_wayr_what_are_you_reading_week_4/\">Week 4</a></td>\\n<td><a href=\"https://www.reddit.com/r/MachineLearning/comments/5fc5mh/d_machine_learning_wayr_what_are_you_reading_week/\">Week 14</a></td>\\n<td><a href=\"https://www.reddit.com/r/MachineLearning/comments/68hhhb/d_machine_learning_wayr_what_are_you_reading_week/\">Week 24</a></td>\\n<td><a href=\"https://www.reddit.com/r/MachineLearning/comments/782js9/d_machine_learning_wayr_what_are_you_reading_week/\">Week 34</a></td>\\n</tr>\\n<tr>\\n<td><a href=\"https://www.reddit.com/r/MachineLearning/comments/4xomf7/machine_learning_wayr_what_are_you_reading_week_5/\">Week 5</a></td>\\n<td><a href=\"https://www.reddit.com/r/MachineLearning/comments/5hy4ur/d_machine_learning_wayr_what_are_you_reading_week/\">Week 15</a></td>\\n<td><a href=\"https://www.reddit.com/r/MachineLearning/comments/69teiz/d_machine_learning_wayr_what_are_you_reading_week/\">Week 25</a></td>\\n<td><a href=\"https://www.reddit.com/r/MachineLearning/comments/7b0av0/d_machine_learning_wayr_what_are_you_reading_week/\">Week 35</a></td>\\n</tr>\\n<tr>\\n<td><a href=\"https://www.reddit.com/r/MachineLearning/comments/4zcyvk/machine_learning_wayr_what_are_you_reading_week_6/\">Week 6</a></td>\\n<td><a href=\"https://www.reddit.com/r/MachineLearning/comments/5kd6vd/d_machine_learning_wayr_what_are_you_reading_week/\">Week 16</a></td>\\n<td><a href=\"https://www.reddit.com/r/MachineLearning/comments/6d7nb1/d_machine_learning_wayr_what_are_you_reading_week/\">Week 26</a></td>\\n<td><a href=\"https://www.reddit.com/r/MachineLearning/comments/7e3fx6/d_machine_learning_wayr_what_are_you_reading_week/\">Week 36</a></td>\\n</tr>\\n<tr>\\n<td><a href=\"https://www.reddit.com/r/MachineLearning/comments/52t6mo/machine_learning_wayr_what_are_you_reading_week_7/\">Week 7</a></td>\\n<td><a href=\"https://www.reddit.com/r/MachineLearning/comments/5ob7dx/discussion_machine_learning_wayr_what_are_you/\">Week 17</a></td>\\n<td><a href=\"https://www.reddit.com/r/MachineLearning/comments/6gngwc/d_machine_learning_wayr_what_are_you_reading_week/\">Week 27</a></td>\\n<td><a href=\"https://www.reddit.com/r/MachineLearning/comments/7hcc2c/d_machine_learning_wayr_what_are_you_reading_week/\">Week 37</a></td>\\n</tr>\\n<tr>\\n<td><a href=\"https://www.reddit.com/r/MachineLearning/comments/53heol/machine_learning_wayr_what_are_you_reading_week_8/\">Week 8</a></td>\\n<td><a href=\"https://www.reddit.com/r/MachineLearning/comments/5r14yd/discussion_machine_learning_wayr_what_are_you/\">Week 18</a></td>\\n<td><a href=\"https://www.reddit.com/r/MachineLearning/comments/6jgdva/d_machine_learning_wayr_what_are_you_reading_week/\">Week 28</a></td>\\n<td><a href=\"https://www.reddit.com/r/MachineLearning/comments/7kgcqr/d_machine_learning_wayr_what_are_you_reading_week/\">Week 38</a></td>\\n</tr>\\n<tr>\\n<td><a href=\"https://www.reddit.com/r/MachineLearning/comments/54kvsu/machine_learning_wayr_what_are_you_reading_week_9/\">Week 9</a></td>\\n<td><a href=\"https://www.reddit.com/r/MachineLearning/comments/5tt9cz/discussion_machine_learning_wayr_what_are_you/\">Week 19</a></td>\\n<td><a href=\"https://www.reddit.com/r/MachineLearning/comments/6m9l1v/d_machine_learning_wayr_what_are_you_reading_week/\">Week 29</a></td>\\n<td><a href=\"https://www.reddit.com/r/MachineLearning/comments/7nayri/d_machine_learning_wayr_what_are_you_reading_week/\">Week 39</a></td>\\n</tr>\\n<tr>\\n<td><a href=\"https://www.reddit.com/r/MachineLearning/comments/56s2oa/discussion_machine_learning_wayr_what_are_you/\">Week 10</a></td>\\n<td><a href=\"https://www.reddit.com/r/MachineLearning/comments/5wh2wb/d_machine_learning_wayr_what_are_you_reading_week/\">Week 20</a></td>\\n<td><a href=\"https://www.reddit.com/r/MachineLearning/comments/6p3ha7/d_machine_learning_wayr_what_are_you_reading_week/\">Week 30</a></td>\\n<td><a href=\"https://www.reddit.com/r/MachineLearning/comments/7qel9p/d_machine_learning_wayr_what_are_you_reading_week/\">Week 40</a></td>\\n</tr>\\n</tbody></table>\\n\\n<p>Most upvoted papers two weeks ago:</p>\\n\\n<p><a href=\"/u/Mehdi2277\">/u/Mehdi2277</a>: <a href=\"https://arxiv.org/abs/1605.06640\">https://arxiv.org/abs/1605.06640</a>)</p>\\n\\n<p><a href=\"/u/theology_\">/u/theology_</a>: <a href=\"http://www.cs.cornell.edu/%7Easaxena/reconstruction3d/saxena_iccv_3drr07_learning3d.pdf\">http://www.cs.cornell.edu/~asaxena/reconstruction3d/saxena_iccv_3drr07_learning3d.pdf</a></p>\\n\\n<p>Besides that, there are no rules, have fun.</p>\\n</div><!-- SC_ON -->',\n",
       " 'spoiler': False,\n",
       " 'stickied': True,\n",
       " 'subreddit': Subreddit(display_name='MachineLearning'),\n",
       " 'subreddit_id': 't5_2r3gv',\n",
       " 'subreddit_name_prefixed': 'r/MachineLearning',\n",
       " 'subreddit_type': 'public',\n",
       " 'suggested_sort': None,\n",
       " 'thumbnail': 'self',\n",
       " 'thumbnail_height': None,\n",
       " 'thumbnail_width': None,\n",
       " 'title': '[D] Machine Learning - WAYR (What Are You Reading) - Week 41',\n",
       " 'ups': 36,\n",
       " 'url': 'https://www.reddit.com/r/MachineLearning/comments/7tn2ax/d_machine_learning_wayr_what_are_you_reading_week/',\n",
       " 'user_reports': [],\n",
       " 'view_count': None,\n",
       " 'visited': False,\n",
       " 'whitelist_status': 'all_ads'}"
      ]
     },
     "execution_count": 4,
     "metadata": {},
     "output_type": "execute_result"
    }
   ],
   "source": [
    "vars(s)"
   ]
  },
  {
   "cell_type": "markdown",
   "metadata": {
    "deletable": true,
    "editable": true
   },
   "source": [
    "Extract the text from all the comments on this submission "
   ]
  },
  {
   "cell_type": "code",
   "execution_count": 5,
   "metadata": {
    "collapsed": false,
    "deletable": true,
    "editable": true
   },
   "outputs": [
    {
     "data": {
      "text/plain": [
       "[]"
      ]
     },
     "execution_count": 5,
     "metadata": {},
     "output_type": "execute_result"
    }
   ],
   "source": [
    "s.comments.replace_more(limit=None)"
   ]
  },
  {
   "cell_type": "code",
   "execution_count": 6,
   "metadata": {
    "collapsed": true,
    "deletable": true,
    "editable": true
   },
   "outputs": [],
   "source": [
    "comments = [{'author':c.author.name,'body':c.body,'score':c.score}\n",
    "            for c in s.comments.list() if c.author]"
   ]
  },
  {
   "cell_type": "code",
   "execution_count": 7,
   "metadata": {
    "collapsed": false,
    "deletable": true,
    "editable": true
   },
   "outputs": [
    {
     "data": {
      "text/html": [
       "<div>\n",
       "<style>\n",
       "    .dataframe thead tr:only-child th {\n",
       "        text-align: right;\n",
       "    }\n",
       "\n",
       "    .dataframe thead th {\n",
       "        text-align: left;\n",
       "    }\n",
       "\n",
       "    .dataframe tbody tr th {\n",
       "        vertical-align: top;\n",
       "    }\n",
       "</style>\n",
       "<table border=\"1\" class=\"dataframe\">\n",
       "  <thead>\n",
       "    <tr style=\"text-align: right;\">\n",
       "      <th></th>\n",
       "      <th>author</th>\n",
       "      <th>body</th>\n",
       "      <th>score</th>\n",
       "    </tr>\n",
       "  </thead>\n",
       "  <tbody>\n",
       "    <tr>\n",
       "      <th>0</th>\n",
       "      <td>rrmuller</td>\n",
       "      <td>I'm currently reading \"[Bayesian Learning via ...</td>\n",
       "      <td>8</td>\n",
       "    </tr>\n",
       "    <tr>\n",
       "      <th>1</th>\n",
       "      <td>probablyuntrue</td>\n",
       "      <td>Are these not stickied anymore?</td>\n",
       "      <td>7</td>\n",
       "    </tr>\n",
       "    <tr>\n",
       "      <th>2</th>\n",
       "      <td>quick_dudley</td>\n",
       "      <td>I'm currently reading [Entity Embeddings of Ca...</td>\n",
       "      <td>5</td>\n",
       "    </tr>\n",
       "    <tr>\n",
       "      <th>3</th>\n",
       "      <td>HansJung</td>\n",
       "      <td>Currently reading [Causal inference for recomm...</td>\n",
       "      <td>3</td>\n",
       "    </tr>\n",
       "    <tr>\n",
       "      <th>4</th>\n",
       "      <td>sritee</td>\n",
       "      <td>Noise in parameters space for reinforcement le...</td>\n",
       "      <td>2</td>\n",
       "    </tr>\n",
       "    <tr>\n",
       "      <th>5</th>\n",
       "      <td>AnyAppointment</td>\n",
       "      <td>Probably in past weeks, but FigureQA: \\nhttps:...</td>\n",
       "      <td>1</td>\n",
       "    </tr>\n",
       "    <tr>\n",
       "      <th>6</th>\n",
       "      <td>howmahgee</td>\n",
       "      <td>Im looking at [ A Correspondence Between Rando...</td>\n",
       "      <td>1</td>\n",
       "    </tr>\n",
       "    <tr>\n",
       "      <th>7</th>\n",
       "      <td>temporal_templar</td>\n",
       "      <td>Currently reading [A Learning and Masking Appr...</td>\n",
       "      <td>1</td>\n",
       "    </tr>\n",
       "    <tr>\n",
       "      <th>8</th>\n",
       "      <td>whoop1es</td>\n",
       "      <td>To learn ml, how do you get your data samples?...</td>\n",
       "      <td>1</td>\n",
       "    </tr>\n",
       "    <tr>\n",
       "      <th>9</th>\n",
       "      <td>pooja307</td>\n",
       "      <td>Found this video interesting: https://www.yout...</td>\n",
       "      <td>1</td>\n",
       "    </tr>\n",
       "    <tr>\n",
       "      <th>10</th>\n",
       "      <td>ML_WAYR_bot</td>\n",
       "      <td>Sometimes it just takes the mods a day or two ...</td>\n",
       "      <td>1</td>\n",
       "    </tr>\n",
       "    <tr>\n",
       "      <th>11</th>\n",
       "      <td>itss_shubham</td>\n",
       "      <td>I'm reading the same thing, please share any o...</td>\n",
       "      <td>1</td>\n",
       "    </tr>\n",
       "    <tr>\n",
       "      <th>12</th>\n",
       "      <td>AnyAppointment</td>\n",
       "      <td>https://arxiv.org/abs/1801.08163 too</td>\n",
       "      <td>1</td>\n",
       "    </tr>\n",
       "    <tr>\n",
       "      <th>13</th>\n",
       "      <td>dan994</td>\n",
       "      <td>Check out the [UCI Machine Learning Repository...</td>\n",
       "      <td>3</td>\n",
       "    </tr>\n",
       "    <tr>\n",
       "      <th>14</th>\n",
       "      <td>quick_dudley</td>\n",
       "      <td>I'm pretty new to the idea except in the case ...</td>\n",
       "      <td>2</td>\n",
       "    </tr>\n",
       "    <tr>\n",
       "      <th>15</th>\n",
       "      <td>itss_shubham</td>\n",
       "      <td>That's a great application, would be looking f...</td>\n",
       "      <td>1</td>\n",
       "    </tr>\n",
       "  </tbody>\n",
       "</table>\n",
       "</div>"
      ],
      "text/plain": [
       "              author                                               body  score\n",
       "0           rrmuller  I'm currently reading \"[Bayesian Learning via ...      8\n",
       "1     probablyuntrue                   Are these not stickied anymore?       7\n",
       "2       quick_dudley  I'm currently reading [Entity Embeddings of Ca...      5\n",
       "3           HansJung  Currently reading [Causal inference for recomm...      3\n",
       "4             sritee  Noise in parameters space for reinforcement le...      2\n",
       "5     AnyAppointment  Probably in past weeks, but FigureQA: \\nhttps:...      1\n",
       "6          howmahgee  Im looking at [ A Correspondence Between Rando...      1\n",
       "7   temporal_templar  Currently reading [A Learning and Masking Appr...      1\n",
       "8           whoop1es  To learn ml, how do you get your data samples?...      1\n",
       "9           pooja307  Found this video interesting: https://www.yout...      1\n",
       "10       ML_WAYR_bot  Sometimes it just takes the mods a day or two ...      1\n",
       "11      itss_shubham  I'm reading the same thing, please share any o...      1\n",
       "12    AnyAppointment               https://arxiv.org/abs/1801.08163 too      1\n",
       "13            dan994  Check out the [UCI Machine Learning Repository...      3\n",
       "14      quick_dudley  I'm pretty new to the idea except in the case ...      2\n",
       "15      itss_shubham  That's a great application, would be looking f...      1"
      ]
     },
     "execution_count": 7,
     "metadata": {},
     "output_type": "execute_result"
    }
   ],
   "source": [
    "df = pd.DataFrame(comments)\n",
    "df"
   ]
  },
  {
   "cell_type": "code",
   "execution_count": 8,
   "metadata": {
    "collapsed": true,
    "deletable": true,
    "editable": true
   },
   "outputs": [],
   "source": [
    "df.to_csv('machinelearning-mini.csv', index=False)"
   ]
  },
  {
   "cell_type": "markdown",
   "metadata": {
    "deletable": true,
    "editable": true
   },
   "source": [
    "Now gather a much bigger sample of comments for analysis"
   ]
  },
  {
   "cell_type": "code",
   "execution_count": 17,
   "metadata": {
    "collapsed": true,
    "deletable": true,
    "editable": true
   },
   "outputs": [],
   "source": [
    "from ipywidgets import IntProgress\n",
    "from IPython.display import display"
   ]
  },
  {
   "cell_type": "code",
   "execution_count": 19,
   "metadata": {
    "collapsed": false,
    "deletable": true,
    "editable": true
   },
   "outputs": [
    {
     "data": {
      "application/vnd.jupyter.widget-view+json": {
       "model_id": "0d7ddd45311b49728fd7531cae0fdda5",
       "version_major": 2,
       "version_minor": 0
      },
      "text/plain": [
       "A Jupyter Widget"
      ]
     },
     "metadata": {},
     "output_type": "display_data"
    },
    {
     "name": "stdout",
     "output_type": "stream",
     "text": [
      "CPU times: user 55.4 s, sys: 4.33 s, total: 59.7 s\n",
      "Wall time: 23min 21s\n"
     ]
    }
   ],
   "source": [
    "%%time\n",
    "\n",
    "bar = IntProgress(min=0, max=5000)\n",
    "display(bar)\n",
    "\n",
    "comments = [ ]\n",
    "for s in take(5000, subreddit.submissions()):\n",
    "    bar.value += 1\n",
    "    s.comments.replace_more(limit=None)\n",
    "    comments.extend([{'author':c.author.name,\n",
    "                      'body':c.body,\n",
    "                      'score':c.score}\n",
    "            for c in s.comments.list() if c.author])"
   ]
  },
  {
   "cell_type": "code",
   "execution_count": 20,
   "metadata": {
    "collapsed": true,
    "deletable": true,
    "editable": true
   },
   "outputs": [],
   "source": [
    "df = pd.DataFrame(comments)"
   ]
  },
  {
   "cell_type": "code",
   "execution_count": 21,
   "metadata": {
    "collapsed": true,
    "deletable": true,
    "editable": true
   },
   "outputs": [],
   "source": [
    "df.to_csv('machinelearning.csv', index=False)"
   ]
  },
  {
   "cell_type": "code",
   "execution_count": 22,
   "metadata": {
    "collapsed": false,
    "deletable": true,
    "editable": true
   },
   "outputs": [
    {
     "data": {
      "text/plain": [
       "59047"
      ]
     },
     "execution_count": 22,
     "metadata": {},
     "output_type": "execute_result"
    }
   ],
   "source": [
    "len(df)"
   ]
  }
 ],
 "metadata": {
  "kernelspec": {
   "display_name": "Python 2",
   "language": "python",
   "name": "python2"
  },
  "language_info": {
   "codemirror_mode": {
    "name": "ipython",
    "version": 2
   },
   "file_extension": ".py",
   "mimetype": "text/x-python",
   "name": "python",
   "nbconvert_exporter": "python",
   "pygments_lexer": "ipython2",
   "version": "2.7.13"
  }
 },
 "nbformat": 4,
 "nbformat_minor": 2
}
