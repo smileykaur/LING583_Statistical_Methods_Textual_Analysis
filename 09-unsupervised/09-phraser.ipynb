{
 "cells": [
  {
   "cell_type": "markdown",
   "metadata": {},
   "source": [
    "# Phrase extraction\n",
    "\n",
    "Find common phrases using Mikolov et al.'s (2013) method"
   ]
  },
  {
   "cell_type": "code",
   "execution_count": 39,
   "metadata": {
    "collapsed": true
   },
   "outputs": [],
   "source": [
    "import pandas as pd\n",
    "import spacy\n",
    "from cytoolz import *\n",
    "from gensim.models.phrases import Phrases, Phraser"
   ]
  },
  {
   "cell_type": "markdown",
   "metadata": {},
   "source": [
    "## Load and tokenize data"
   ]
  },
  {
   "cell_type": "code",
   "execution_count": 24,
   "metadata": {
    "collapsed": true
   },
   "outputs": [],
   "source": [
    "nlp = spacy.load('en', disable=['tagger', 'ner', 'parser'])"
   ]
  },
  {
   "cell_type": "code",
   "execution_count": 25,
   "metadata": {
    "collapsed": true
   },
   "outputs": [],
   "source": [
    "df = pd.read_csv('http://bulba.sdsu.edu/cellartracker.csv.gz',na_filter=False)\n",
    "df = df.sample(50000)"
   ]
  },
  {
   "cell_type": "code",
   "execution_count": 26,
   "metadata": {},
   "outputs": [],
   "source": [
    "def tokenize(text):\n",
    "    return [tok.orth_ for tok in nlp.tokenizer(text)]\n",
    "df['tokens'] = df['review_text'].apply(tokenize)"
   ]
  },
  {
   "cell_type": "markdown",
   "metadata": {},
   "source": [
    "## Find bigram phrases"
   ]
  },
  {
   "cell_type": "code",
   "execution_count": 30,
   "metadata": {},
   "outputs": [],
   "source": [
    "P1 = Phraser(Phrases(df['tokens'], threshold=20, common_terms={'of', 'to', '-'}))"
   ]
  },
  {
   "cell_type": "code",
   "execution_count": 44,
   "metadata": {},
   "outputs": [
    {
     "name": "stdout",
     "output_type": "stream",
     "text": [
      "Popped & poured at local_restaurant . Some muted cherries on the nose . Not a great_deal of action on the palate . Cherries , some tartness on the finish . Not much body .\n",
      "\n",
      "This wine was superb . Different than pinot 's from the Williamette Valley , which I 'm a big_fan . superior to anything from CA . Was comparing it to my_favorite pinot from Oregon , Shea 's Block 23 . Lighter , with much more subtle complexity . Hints of cherry & strawberry , with a marvelous mid_palette and finish . I just bought more of this to lay_down , though it probably_wo n't make it , I 'll easily consume this sometime soon :)\n",
      "\n",
      "The nose had good dark fruit aromas and finished with some leather and coffee . The palate had a bunch of black_currant mixed with chocolate , and expresso , and finished with a hint of leather .\n",
      "\n",
      "absolutely divine . hands_down the best wine i 've_had in a very long time . rich , lush and full - bodied . major fruit with a slight undertone of oak on the nose . simultaneously fruity ( mostly raspberry ) and a bit spicy on the nose , berry and chocolately on the tongue . i will definitely be_buying a few more bottles of this amazing wine .\n",
      "\n",
      "Inky dark , and velvety smooth , with tremendously concentrated doses of licorice , tobacco and coffee . This is truly among California 's best wines , year over year . It takes the miracle that is Paso_Robles terroir to the n'th degree . Seriously good stuff . Just released , the 2007 Estate Cuvee is showing great quality and potential for aging .\n",
      "\n"
     ]
    }
   ],
   "source": [
    "for s in take(5, df['tokens']):\n",
    "    print(' '.join(P1[s]))\n",
    "    print()"
   ]
  },
  {
   "cell_type": "markdown",
   "metadata": {},
   "source": [
    "## Find (up to) trigram phrases"
   ]
  },
  {
   "cell_type": "code",
   "execution_count": 32,
   "metadata": {},
   "outputs": [],
   "source": [
    "P2 = Phraser(Phrases(P1[list(df['tokens'])], threshold=15, common_terms={'of', 'to', '-'}))"
   ]
  },
  {
   "cell_type": "code",
   "execution_count": 45,
   "metadata": {},
   "outputs": [
    {
     "name": "stdout",
     "output_type": "stream",
     "text": [
      "Popped & poured at local_restaurant . Some muted cherries on the nose . Not a great_deal of action on the palate . Cherries , some tartness on the finish . Not much body .\n",
      "\n",
      "This wine was superb . Different than pinot 's from the Williamette Valley , which I_'m a big_fan . superior to anything from CA . Was comparing it to my_favorite pinot from Oregon , Shea 's Block 23 . Lighter , with much more subtle complexity . Hints of cherry & strawberry , with a marvelous mid_palette and finish . I just bought more of this to lay_down , though it probably_wo_n't make it , I 'll easily consume this sometime soon :)\n",
      "\n",
      "The nose had good dark fruit aromas and finished with some leather and coffee . The palate had a bunch of black_currant mixed with chocolate , and expresso , and finished with a hint of leather .\n",
      "\n",
      "absolutely divine . hands_down the best wine i 've_had in a very long time . rich , lush and full_-_bodied . major fruit with a slight undertone of oak on the nose . simultaneously fruity ( mostly raspberry ) and a bit spicy on the nose , berry and chocolately on the tongue . i will definitely be_buying a few_more bottles of this amazing wine .\n",
      "\n",
      "Inky dark , and velvety smooth , with tremendously concentrated doses of licorice , tobacco and coffee . This is truly among California 's best wines , year over year . It takes the miracle that is Paso_Robles terroir to the n'th degree . Seriously good stuff . Just released , the 2007 Estate Cuvee is showing great quality and potential for aging .\n",
      "\n"
     ]
    }
   ],
   "source": [
    "for s in take(5, df['tokens']):\n",
    "    print(' '.join(P2[P1[s]]))\n",
    "    print()"
   ]
  },
  {
   "cell_type": "markdown",
   "metadata": {},
   "source": [
    "## Find (up to) four-gram phrases"
   ]
  },
  {
   "cell_type": "code",
   "execution_count": 34,
   "metadata": {},
   "outputs": [],
   "source": [
    "P3 = Phraser(Phrases(P2[P1[list(df['tokens'])]], threshold=10, common_terms={'of', 'to', '-'}))"
   ]
  },
  {
   "cell_type": "code",
   "execution_count": 48,
   "metadata": {},
   "outputs": [
    {
     "name": "stdout",
     "output_type": "stream",
     "text": [
      "Popped_& poured at local_restaurant . Some muted cherries on the nose . Not a great_deal of action on the palate . Cherries , some tartness on the finish . Not_much body .\n",
      "\n",
      "This wine was superb . Different than pinot 's from the Williamette Valley , which I_'m a big_fan . superior to anything from CA . Was comparing it to my_favorite pinot from Oregon , Shea 's Block 23 . Lighter , with much more subtle complexity . Hints of cherry & strawberry , with a marvelous mid_palette and finish . I just bought more of this to lay_down , though it probably_wo_n't make it , I_'ll easily consume this sometime soon :)\n",
      "\n",
      "The nose had good dark fruit aromas and finished with some leather and coffee . The palate had a bunch of black_currant mixed with chocolate , and expresso , and finished with a hint of leather .\n",
      "\n",
      "absolutely divine . hands_down the best wine i_'ve_had in a very long time . rich , lush and full_-_bodied . major fruit with a slight undertone of oak on the nose . simultaneously fruity ( mostly raspberry ) and a bit spicy on the nose , berry and chocolately on the tongue . i will_definitely be_buying a few_more_bottles of this amazing wine .\n",
      "\n",
      "Inky dark , and velvety smooth , with tremendously concentrated doses of licorice , tobacco and coffee . This is truly among California 's best wines , year over year . It takes the miracle that is Paso_Robles terroir to the n'th degree . Seriously good stuff . Just released , the 2007 Estate Cuvee is showing great quality and potential for aging .\n",
      "\n"
     ]
    }
   ],
   "source": [
    "for s in take(5, df['tokens']):\n",
    "    print(' '.join(P3[P2[P1[s]]]))\n",
    "    print()"
   ]
  },
  {
   "cell_type": "code",
   "execution_count": 36,
   "metadata": {},
   "outputs": [
    {
     "name": "stdout",
     "output_type": "stream",
     "text": [
      "The nose had good dark fruit aromas and finished with some leather and coffee . The palate had a bunch of black_currant mixed with chocolate , and expresso , and finished with a hint of leather .\n"
     ]
    }
   ],
   "source": [
    "print(' '.join(P3[P2[P1[list(df['tokens'].iloc[2])]]]))"
   ]
  },
  {
   "cell_type": "code",
   "execution_count": null,
   "metadata": {
    "collapsed": true
   },
   "outputs": [],
   "source": []
  }
 ],
 "metadata": {
  "kernelspec": {
   "display_name": "Python 3",
   "language": "python",
   "name": "python3"
  },
  "language_info": {
   "codemirror_mode": {
    "name": "ipython",
    "version": 3
   },
   "file_extension": ".py",
   "mimetype": "text/x-python",
   "name": "python",
   "nbconvert_exporter": "python",
   "pygments_lexer": "ipython3",
   "version": "3.6.3"
  }
 },
 "nbformat": 4,
 "nbformat_minor": 2
}
