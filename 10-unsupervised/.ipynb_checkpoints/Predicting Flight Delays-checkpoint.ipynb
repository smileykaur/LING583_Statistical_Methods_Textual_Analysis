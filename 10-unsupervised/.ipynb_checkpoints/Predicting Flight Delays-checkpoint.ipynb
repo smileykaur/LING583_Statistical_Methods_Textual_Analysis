{
 "cells": [
  {
   "cell_type": "code",
   "execution_count": 45,
   "metadata": {
    "collapsed": false
   },
   "outputs": [
    {
     "ename": "ImportError",
     "evalue": "No module named basemap",
     "output_type": "error",
     "traceback": [
      "\u001b[0;31m---------------------------------------------------------------------------\u001b[0m",
      "\u001b[0;31mImportError\u001b[0m                               Traceback (most recent call last)",
      "\u001b[0;32m<ipython-input-45-9dafa3829ab5>\u001b[0m in \u001b[0;36m<module>\u001b[0;34m()\u001b[0m\n\u001b[1;32m      5\u001b[0m \u001b[0;34m\u001b[0m\u001b[0m\n\u001b[1;32m      6\u001b[0m \u001b[0;34m\u001b[0m\u001b[0m\n\u001b[0;32m----> 7\u001b[0;31m \u001b[0;32mfrom\u001b[0m \u001b[0mmpl_toolkits\u001b[0m\u001b[0;34m.\u001b[0m\u001b[0mbasemap\u001b[0m \u001b[0;32mimport\u001b[0m \u001b[0mBasemap\u001b[0m\u001b[0;34m\u001b[0m\u001b[0m\n\u001b[0m\u001b[1;32m      8\u001b[0m \u001b[0;32mimport\u001b[0m \u001b[0mmatplotlib\u001b[0m\u001b[0;34m.\u001b[0m\u001b[0mpyplot\u001b[0m \u001b[0;32mas\u001b[0m \u001b[0mplt\u001b[0m\u001b[0;34m\u001b[0m\u001b[0m\n",
      "\u001b[0;31mImportError\u001b[0m: No module named basemap"
     ]
    }
   ],
   "source": [
    "import pandas as pd  \n",
    "import numpy as np\n",
    "from sklearn.feature_extraction import *\n",
    "import datetime, warnings, scipy\n",
    "\n",
    "\n",
    "from mpl_toolkits.basemap import Basemap\n",
    "import matplotlib.pyplot as plt\n",
    "import datetime"
   ]
  },
  {
   "cell_type": "code",
   "execution_count": 47,
   "metadata": {
    "collapsed": false
   },
   "outputs": [
    {
     "name": "stdout",
     "output_type": "stream",
     "text": [
      "Collecting proj\n",
      "  Downloading proj-0.1.0-py2.py3-none-any.whl\n",
      "Collecting click>=3.3 (from proj)\n",
      "  Downloading click-6.7-py2.py3-none-any.whl (71kB)\n",
      "\u001b[K    100% |████████████████████████████████| 71kB 1.6MB/s ta 0:00:011\n",
      "\u001b[?25hCollecting arrow>=0.4.4 (from proj)\n",
      "  Downloading arrow-0.12.1.tar.gz (65kB)\n",
      "\u001b[K    100% |████████████████████████████████| 71kB 6.2MB/s eta 0:00:01\n",
      "\u001b[?25hRequirement already satisfied: python-dateutil in /Users/Smiley/Library/Enthought/Canopy/edm/envs/User/lib/python2.7/site-packages (from arrow>=0.4.4->proj)\n",
      "Collecting backports.functools_lru_cache>=1.2.1 (from arrow>=0.4.4->proj)\n",
      "  Downloading backports.functools_lru_cache-1.5-py2.py3-none-any.whl\n",
      "Requirement already satisfied: six>=1.5 in /Users/Smiley/Library/Enthought/Canopy/edm/envs/User/lib/python2.7/site-packages (from python-dateutil->arrow>=0.4.4->proj)\n",
      "Installing collected packages: click, backports.functools-lru-cache, arrow, proj\n",
      "  Running setup.py install for arrow ... \u001b[?25l-\b \bdone\n",
      "\u001b[?25hSuccessfully installed arrow-0.12.1 backports.functools-lru-cache-1.5 click-6.7 proj-0.1.0\n"
     ]
    }
   ],
   "source": [
    "!pip install proj"
   ]
  },
  {
   "cell_type": "code",
   "execution_count": 67,
   "metadata": {
    "collapsed": false
   },
   "outputs": [
    {
     "ename": "TypeError",
     "evalue": "Required argument 'year' (pos 1) not found",
     "output_type": "error",
     "traceback": [
      "\u001b[0;31m---------------------------------------------------------------------------\u001b[0m",
      "\u001b[0;31mTypeError\u001b[0m                                 Traceback (most recent call last)",
      "\u001b[0;32m<ipython-input-67-70d31622bc28>\u001b[0m in \u001b[0;36m<module>\u001b[0;34m()\u001b[0m\n\u001b[0;32m----> 1\u001b[0;31m \u001b[0mdatetime\u001b[0m\u001b[0;34m.\u001b[0m\u001b[0mdatetime\u001b[0m\u001b[0;34m(\u001b[0m\u001b[0;34m)\u001b[0m\u001b[0;34m\u001b[0m\u001b[0m\n\u001b[0m",
      "\u001b[0;31mTypeError\u001b[0m: Required argument 'year' (pos 1) not found"
     ]
    }
   ],
   "source": []
  },
  {
   "cell_type": "code",
   "execution_count": 35,
   "metadata": {
    "collapsed": false
   },
   "outputs": [],
   "source": [
    "flights_df=pd.read_csv(\"/Users/Smiley/Documents/Spring_2018/MIS749_Bussiness Analytics/Project/flight-delays/flights.csv\")"
   ]
  },
  {
   "cell_type": "code",
   "execution_count": 19,
   "metadata": {
    "collapsed": false
   },
   "outputs": [
    {
     "data": {
      "text/plain": [
       "(5819079, 31)"
      ]
     },
     "execution_count": 19,
     "metadata": {},
     "output_type": "execute_result"
    }
   ],
   "source": [
    "flights_df.shape"
   ]
  },
  {
   "cell_type": "code",
   "execution_count": 21,
   "metadata": {
    "collapsed": false
   },
   "outputs": [
    {
     "data": {
      "text/plain": [
       "YEAR                         0\n",
       "MONTH                        0\n",
       "DAY                          0\n",
       "DAY_OF_WEEK                  0\n",
       "AIRLINE                      0\n",
       "FLIGHT_NUMBER                0\n",
       "TAIL_NUMBER              14721\n",
       "ORIGIN_AIRPORT               0\n",
       "DESTINATION_AIRPORT          0\n",
       "SCHEDULED_DEPARTURE          0\n",
       "DEPARTURE_TIME           86153\n",
       "DEPARTURE_DELAY          86153\n",
       "TAXI_OUT                 89047\n",
       "WHEELS_OFF               89047\n",
       "SCHEDULED_TIME               6\n",
       "ELAPSED_TIME            105071\n",
       "AIR_TIME                105071\n",
       "DISTANCE                     0\n",
       "WHEELS_ON                92513\n",
       "TAXI_IN                  92513\n",
       "SCHEDULED_ARRIVAL            0\n",
       "ARRIVAL_TIME             92513\n",
       "ARRIVAL_DELAY           105071\n",
       "DIVERTED                     0\n",
       "CANCELLED                    0\n",
       "CANCELLATION_REASON    5729195\n",
       "AIR_SYSTEM_DELAY       4755640\n",
       "SECURITY_DELAY         4755640\n",
       "AIRLINE_DELAY          4755640\n",
       "LATE_AIRCRAFT_DELAY    4755640\n",
       "WEATHER_DELAY          4755640\n",
       "dtype: int64"
      ]
     },
     "execution_count": 21,
     "metadata": {},
     "output_type": "execute_result"
    }
   ],
   "source": [
    "flights_df.isnull().sum()"
   ]
  },
  {
   "cell_type": "code",
   "execution_count": 33,
   "metadata": {
    "collapsed": false
   },
   "outputs": [],
   "source": [
    "airports_df=pd.read_csv(\"/Users/Smiley/Documents/Spring_2018/MIS749_Bussiness Analytics/Project/flight-delays/airports.csv\")"
   ]
  },
  {
   "cell_type": "code",
   "execution_count": 34,
   "metadata": {
    "collapsed": false
   },
   "outputs": [
    {
     "data": {
      "text/html": [
       "<div>\n",
       "<table border=\"1\" class=\"dataframe\">\n",
       "  <thead>\n",
       "    <tr style=\"text-align: right;\">\n",
       "      <th></th>\n",
       "      <th>IATA_CODE</th>\n",
       "      <th>AIRPORT</th>\n",
       "      <th>CITY</th>\n",
       "      <th>STATE</th>\n",
       "      <th>COUNTRY</th>\n",
       "      <th>LATITUDE</th>\n",
       "      <th>LONGITUDE</th>\n",
       "    </tr>\n",
       "  </thead>\n",
       "  <tbody>\n",
       "    <tr>\n",
       "      <th>0</th>\n",
       "      <td>ABE</td>\n",
       "      <td>Lehigh Valley International Airport</td>\n",
       "      <td>Allentown</td>\n",
       "      <td>PA</td>\n",
       "      <td>USA</td>\n",
       "      <td>40.65236</td>\n",
       "      <td>-75.44040</td>\n",
       "    </tr>\n",
       "    <tr>\n",
       "      <th>1</th>\n",
       "      <td>ABI</td>\n",
       "      <td>Abilene Regional Airport</td>\n",
       "      <td>Abilene</td>\n",
       "      <td>TX</td>\n",
       "      <td>USA</td>\n",
       "      <td>32.41132</td>\n",
       "      <td>-99.68190</td>\n",
       "    </tr>\n",
       "    <tr>\n",
       "      <th>2</th>\n",
       "      <td>ABQ</td>\n",
       "      <td>Albuquerque International Sunport</td>\n",
       "      <td>Albuquerque</td>\n",
       "      <td>NM</td>\n",
       "      <td>USA</td>\n",
       "      <td>35.04022</td>\n",
       "      <td>-106.60919</td>\n",
       "    </tr>\n",
       "    <tr>\n",
       "      <th>3</th>\n",
       "      <td>ABR</td>\n",
       "      <td>Aberdeen Regional Airport</td>\n",
       "      <td>Aberdeen</td>\n",
       "      <td>SD</td>\n",
       "      <td>USA</td>\n",
       "      <td>45.44906</td>\n",
       "      <td>-98.42183</td>\n",
       "    </tr>\n",
       "    <tr>\n",
       "      <th>4</th>\n",
       "      <td>ABY</td>\n",
       "      <td>Southwest Georgia Regional Airport</td>\n",
       "      <td>Albany</td>\n",
       "      <td>GA</td>\n",
       "      <td>USA</td>\n",
       "      <td>31.53552</td>\n",
       "      <td>-84.19447</td>\n",
       "    </tr>\n",
       "    <tr>\n",
       "      <th>5</th>\n",
       "      <td>ACK</td>\n",
       "      <td>Nantucket Memorial Airport</td>\n",
       "      <td>Nantucket</td>\n",
       "      <td>MA</td>\n",
       "      <td>USA</td>\n",
       "      <td>41.25305</td>\n",
       "      <td>-70.06018</td>\n",
       "    </tr>\n",
       "    <tr>\n",
       "      <th>6</th>\n",
       "      <td>ACT</td>\n",
       "      <td>Waco Regional Airport</td>\n",
       "      <td>Waco</td>\n",
       "      <td>TX</td>\n",
       "      <td>USA</td>\n",
       "      <td>31.61129</td>\n",
       "      <td>-97.23052</td>\n",
       "    </tr>\n",
       "    <tr>\n",
       "      <th>7</th>\n",
       "      <td>ACV</td>\n",
       "      <td>Arcata Airport</td>\n",
       "      <td>Arcata/Eureka</td>\n",
       "      <td>CA</td>\n",
       "      <td>USA</td>\n",
       "      <td>40.97812</td>\n",
       "      <td>-124.10862</td>\n",
       "    </tr>\n",
       "    <tr>\n",
       "      <th>8</th>\n",
       "      <td>ACY</td>\n",
       "      <td>Atlantic City International Airport</td>\n",
       "      <td>Atlantic City</td>\n",
       "      <td>NJ</td>\n",
       "      <td>USA</td>\n",
       "      <td>39.45758</td>\n",
       "      <td>-74.57717</td>\n",
       "    </tr>\n",
       "    <tr>\n",
       "      <th>9</th>\n",
       "      <td>ADK</td>\n",
       "      <td>Adak Airport</td>\n",
       "      <td>Adak</td>\n",
       "      <td>AK</td>\n",
       "      <td>USA</td>\n",
       "      <td>51.87796</td>\n",
       "      <td>-176.64603</td>\n",
       "    </tr>\n",
       "  </tbody>\n",
       "</table>\n",
       "</div>"
      ],
      "text/plain": [
       "  IATA_CODE                              AIRPORT           CITY STATE COUNTRY  \\\n",
       "0       ABE  Lehigh Valley International Airport      Allentown    PA     USA   \n",
       "1       ABI             Abilene Regional Airport        Abilene    TX     USA   \n",
       "2       ABQ    Albuquerque International Sunport    Albuquerque    NM     USA   \n",
       "3       ABR            Aberdeen Regional Airport       Aberdeen    SD     USA   \n",
       "4       ABY   Southwest Georgia Regional Airport         Albany    GA     USA   \n",
       "5       ACK           Nantucket Memorial Airport      Nantucket    MA     USA   \n",
       "6       ACT                Waco Regional Airport           Waco    TX     USA   \n",
       "7       ACV                       Arcata Airport  Arcata/Eureka    CA     USA   \n",
       "8       ACY  Atlantic City International Airport  Atlantic City    NJ     USA   \n",
       "9       ADK                         Adak Airport           Adak    AK     USA   \n",
       "\n",
       "   LATITUDE  LONGITUDE  \n",
       "0  40.65236  -75.44040  \n",
       "1  32.41132  -99.68190  \n",
       "2  35.04022 -106.60919  \n",
       "3  45.44906  -98.42183  \n",
       "4  31.53552  -84.19447  \n",
       "5  41.25305  -70.06018  \n",
       "6  31.61129  -97.23052  \n",
       "7  40.97812 -124.10862  \n",
       "8  39.45758  -74.57717  \n",
       "9  51.87796 -176.64603  "
      ]
     },
     "execution_count": 34,
     "metadata": {},
     "output_type": "execute_result"
    }
   ],
   "source": [
    "airports_df[:10]"
   ]
  },
  {
   "cell_type": "code",
   "execution_count": 31,
   "metadata": {
    "collapsed": true
   },
   "outputs": [],
   "source": [
    "airlines_df=pd.read_csv(\"/Users/Smiley/Documents/Spring_2018/MIS749_Bussiness Analytics/Project/flight-delays/airlines.csv\")"
   ]
  },
  {
   "cell_type": "code",
   "execution_count": 32,
   "metadata": {
    "collapsed": false
   },
   "outputs": [
    {
     "data": {
      "text/html": [
       "<div>\n",
       "<table border=\"1\" class=\"dataframe\">\n",
       "  <thead>\n",
       "    <tr style=\"text-align: right;\">\n",
       "      <th></th>\n",
       "      <th>IATA_CODE</th>\n",
       "      <th>AIRLINE</th>\n",
       "    </tr>\n",
       "  </thead>\n",
       "  <tbody>\n",
       "    <tr>\n",
       "      <th>0</th>\n",
       "      <td>UA</td>\n",
       "      <td>United Air Lines Inc.</td>\n",
       "    </tr>\n",
       "    <tr>\n",
       "      <th>1</th>\n",
       "      <td>AA</td>\n",
       "      <td>American Airlines Inc.</td>\n",
       "    </tr>\n",
       "    <tr>\n",
       "      <th>2</th>\n",
       "      <td>US</td>\n",
       "      <td>US Airways Inc.</td>\n",
       "    </tr>\n",
       "    <tr>\n",
       "      <th>3</th>\n",
       "      <td>F9</td>\n",
       "      <td>Frontier Airlines Inc.</td>\n",
       "    </tr>\n",
       "    <tr>\n",
       "      <th>4</th>\n",
       "      <td>B6</td>\n",
       "      <td>JetBlue Airways</td>\n",
       "    </tr>\n",
       "    <tr>\n",
       "      <th>5</th>\n",
       "      <td>OO</td>\n",
       "      <td>Skywest Airlines Inc.</td>\n",
       "    </tr>\n",
       "    <tr>\n",
       "      <th>6</th>\n",
       "      <td>AS</td>\n",
       "      <td>Alaska Airlines Inc.</td>\n",
       "    </tr>\n",
       "    <tr>\n",
       "      <th>7</th>\n",
       "      <td>NK</td>\n",
       "      <td>Spirit Air Lines</td>\n",
       "    </tr>\n",
       "    <tr>\n",
       "      <th>8</th>\n",
       "      <td>WN</td>\n",
       "      <td>Southwest Airlines Co.</td>\n",
       "    </tr>\n",
       "    <tr>\n",
       "      <th>9</th>\n",
       "      <td>DL</td>\n",
       "      <td>Delta Air Lines Inc.</td>\n",
       "    </tr>\n",
       "  </tbody>\n",
       "</table>\n",
       "</div>"
      ],
      "text/plain": [
       "  IATA_CODE                 AIRLINE\n",
       "0        UA   United Air Lines Inc.\n",
       "1        AA  American Airlines Inc.\n",
       "2        US         US Airways Inc.\n",
       "3        F9  Frontier Airlines Inc.\n",
       "4        B6         JetBlue Airways\n",
       "5        OO   Skywest Airlines Inc.\n",
       "6        AS    Alaska Airlines Inc.\n",
       "7        NK        Spirit Air Lines\n",
       "8        WN  Southwest Airlines Co.\n",
       "9        DL    Delta Air Lines Inc."
      ]
     },
     "execution_count": 32,
     "metadata": {},
     "output_type": "execute_result"
    }
   ],
   "source": [
    "airlines_df[:10]"
   ]
  },
  {
   "cell_type": "code",
   "execution_count": 36,
   "metadata": {
    "collapsed": false
   },
   "outputs": [
    {
     "ename": "NameError",
     "evalue": "name 'airlines' is not defined",
     "output_type": "error",
     "traceback": [
      "\u001b[0;31m---------------------------------------------------------------------------\u001b[0m",
      "\u001b[0;31mNameError\u001b[0m                                 Traceback (most recent call last)",
      "\u001b[0;32m<ipython-input-36-d52816a99ec0>\u001b[0m in \u001b[0;36m<module>\u001b[0;34m()\u001b[0m\n\u001b[0;32m----> 1\u001b[0;31m \u001b[0mairlines\u001b[0m\u001b[0;34m.\u001b[0m\u001b[0mstats\u001b[0m\u001b[0;34m\u001b[0m\u001b[0m\n\u001b[0m",
      "\u001b[0;31mNameError\u001b[0m: name 'airlines' is not defined"
     ]
    }
   ],
   "source": [
    "a"
   ]
  },
  {
   "cell_type": "code",
   "execution_count": null,
   "metadata": {
    "collapsed": true
   },
   "outputs": [],
   "source": []
  }
 ],
 "metadata": {
  "kernelspec": {
   "display_name": "Python 2",
   "language": "python",
   "name": "python2"
  },
  "language_info": {
   "codemirror_mode": {
    "name": "ipython",
    "version": 2
   },
   "file_extension": ".py",
   "mimetype": "text/x-python",
   "name": "python",
   "nbconvert_exporter": "python",
   "pygments_lexer": "ipython2",
   "version": "2.7.13"
  }
 },
 "nbformat": 4,
 "nbformat_minor": 2
}
