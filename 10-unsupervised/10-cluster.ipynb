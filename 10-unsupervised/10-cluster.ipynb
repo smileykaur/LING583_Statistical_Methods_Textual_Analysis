{
 "cells": [
  {
   "cell_type": "markdown",
   "metadata": {
    "deletable": true,
    "editable": true
   },
   "source": [
    "# Conspiracy Theories\n",
    "\n",
    "A sample of texts from `r/conspiracy`"
   ]
  },
  {
   "cell_type": "code",
   "execution_count": 1,
   "metadata": {
    "collapsed": true,
    "deletable": true,
    "editable": true
   },
   "outputs": [],
   "source": [
    "import pandas as pd\n",
    "import numpy as np\n",
    "from cytoolz import *\n",
    "\n",
    "pd.set_option('display.max_colwidth', 200)"
   ]
  },
  {
   "cell_type": "code",
   "execution_count": 2,
   "metadata": {
    "collapsed": true,
    "deletable": true,
    "editable": true
   },
   "outputs": [],
   "source": [
    "from sklearn.feature_extraction.text import *\n",
    "from sklearn.feature_extraction import *\n",
    "from sklearn.decomposition import *\n",
    "from sklearn.cluster import *\n",
    "from sklearn.metrics import *"
   ]
  },
  {
   "cell_type": "code",
   "execution_count": 3,
   "metadata": {
    "collapsed": true,
    "deletable": true,
    "editable": true
   },
   "outputs": [],
   "source": [
    "df = pd.read_msgpack('http://bulba.sdsu.edu/conspiracy.dat')\n",
    "df['tokens'] = df['tokens'].apply(list)"
   ]
  },
  {
   "cell_type": "markdown",
   "metadata": {
    "deletable": true,
    "editable": true
   },
   "source": [
    "## Make document-term matrix"
   ]
  },
  {
   "cell_type": "code",
   "execution_count": 6,
   "metadata": {
    "collapsed": true,
    "deletable": true,
    "editable": true
   },
   "outputs": [],
   "source": [
    "X = TfidfVectorizer(analyzer=identity, min_df=3, max_df=0.25, norm='l2', use_idf=True) \\\n",
    "        .fit_transform(df['tokens'])"
   ]
  },
  {
   "cell_type": "markdown",
   "metadata": {
    "deletable": true,
    "editable": true
   },
   "source": [
    "## K Means\n",
    "\n",
    "Use **k-means** algorithm to group texts into 25 clusters and compute **silhoutte** coefficients:"
   ]
  },
  {
   "cell_type": "code",
   "execution_count": 7,
   "metadata": {
    "collapsed": true,
    "deletable": true,
    "editable": true
   },
   "outputs": [],
   "source": [
    "kmeans = KMeans(25).fit(X)\n",
    "df['cluster'] = kmeans.labels_\n",
    "df['silhouette'] = silhouette_samples(X, df['cluster'])"
   ]
  },
  {
   "cell_type": "markdown",
   "metadata": {
    "deletable": true,
    "editable": true
   },
   "source": [
    "Silhoutte scores compare the distances among texts within a cluster to distances among texts in different clusters.  A 'good' cluster should have a large score:"
   ]
  },
  {
   "cell_type": "code",
   "execution_count": 15,
   "metadata": {
    "collapsed": false,
    "deletable": true,
    "editable": true
   },
   "outputs": [
    {
     "data": {
      "text/plain": [
       "cluster\n",
       "12   -0.010933\n",
       "8    -0.004242\n",
       "16   -0.003312\n",
       "9    -0.001044\n",
       "2     0.001081\n",
       "22    0.003083\n",
       "13    0.007372\n",
       "0     0.008634\n",
       "23    0.009156\n",
       "4     0.010539\n",
       "21    0.011745\n",
       "7     0.012702\n",
       "5     0.013449\n",
       "6     0.014152\n",
       "17    0.016739\n",
       "18    0.024096\n",
       "14    0.027015\n",
       "19    0.028172\n",
       "15    0.030637\n",
       "20    0.036436\n",
       "24    0.048049\n",
       "3     0.055859\n",
       "10    0.064804\n",
       "1     0.064842\n",
       "11    0.069698\n",
       "Name: silhouette, dtype: float64"
      ]
     },
     "execution_count": 15,
     "metadata": {},
     "output_type": "execute_result"
    }
   ],
   "source": [
    "df.groupby('cluster')['silhouette'].mean().sort_values()"
   ]
  },
  {
   "cell_type": "markdown",
   "metadata": {
    "deletable": true,
    "editable": true
   },
   "source": [
    "The number of texts in a cluster is also instructive.  Interesting clusters are usually medium-sized. Clusters with only a few texts are picking up noise, and clusters with a large number of texts are probably incoherent."
   ]
  },
  {
   "cell_type": "code",
   "execution_count": 17,
   "metadata": {
    "collapsed": false,
    "deletable": true,
    "editable": true
   },
   "outputs": [
    {
     "data": {
      "text/plain": [
       "cluster\n",
       "0      179\n",
       "1      163\n",
       "2      318\n",
       "3      261\n",
       "4      269\n",
       "5      240\n",
       "6      135\n",
       "7      193\n",
       "8      365\n",
       "9     1058\n",
       "10     135\n",
       "11      54\n",
       "12    3991\n",
       "13     229\n",
       "14     118\n",
       "15     114\n",
       "16      19\n",
       "17      26\n",
       "18     459\n",
       "19     348\n",
       "20     302\n",
       "21     297\n",
       "22     281\n",
       "23     384\n",
       "24      62\n",
       "Name: text, dtype: int64"
      ]
     },
     "execution_count": 17,
     "metadata": {},
     "output_type": "execute_result"
    }
   ],
   "source": [
    "df.groupby('cluster')['text'].count()"
   ]
  },
  {
   "cell_type": "markdown",
   "metadata": {
    "deletable": true,
    "editable": true
   },
   "source": [
    "## Keywords\n",
    "\n",
    "To get some insight into what a text cluster represents, we can find its keywords using PMI:"
   ]
  },
  {
   "cell_type": "code",
   "execution_count": 20,
   "metadata": {
    "collapsed": true,
    "deletable": true,
    "editable": true
   },
   "outputs": [],
   "source": [
    "def keywords(cluster, n=10):\n",
    "    f = pd.DataFrame({'all': pd.value_counts(list(concat(df['tokens'])))})\n",
    "    f['cl'] = pd.value_counts(list(concat(df[df['cluster']==cluster]['tokens'])))\n",
    "    f['pmi'] = np.log2( (f['cl'] * np.sum(f['all'])) / \n",
    "                        (f['all'] * np.sum(f['cl'])) )\n",
    "    return list(f['pmi'][f['all']>25].sort_values(ascending=False)[:n].index)\n"
   ]
  },
  {
   "cell_type": "code",
   "execution_count": 21,
   "metadata": {
    "collapsed": false,
    "deletable": true,
    "editable": true
   },
   "outputs": [
    {
     "data": {
      "text/plain": [
       "['lander',\n",
       " 'astronauts',\n",
       " 'lunar',\n",
       " 'moon',\n",
       " 'module',\n",
       " 'landings',\n",
       " 'moonlight',\n",
       " 'Moon',\n",
       " 'manned',\n",
       " 'missions']"
      ]
     },
     "execution_count": 21,
     "metadata": {},
     "output_type": "execute_result"
    }
   ],
   "source": [
    "keywords(11)"
   ]
  },
  {
   "cell_type": "markdown",
   "metadata": {
    "deletable": true,
    "editable": true
   },
   "source": [
    "Looks like cluster 11 has something to do with moon landings, but it's hard to tell what they're saying from keywords alone.  So, we can also find some representative texts that are close to the center of the cluster"
   ]
  },
  {
   "cell_type": "code",
   "execution_count": 24,
   "metadata": {
    "collapsed": false,
    "deletable": true,
    "editable": true
   },
   "outputs": [
    {
     "data": {
      "text/plain": [
       "8021    We're supposed to believe U.S. suddenly lost interest in moon missions in 1972? Did you ever stop to consider this? From 1968 to 1972, eight of nine Project Apollo missions took Americans out of L...\n",
       "3001    Have humans ever actually been to the moon? I think its obvious to most people that we clearly didn't go in 1969 but i wanted to know what you guys thought, have we ever actually been? Edit: if yo...\n",
       "3671    Archive of nearly 20,000 faked moon landing pictures. (huge torrent file of proof!) 12GB Archive of faked moon landing pictures with 1 gbps+ seeds. \u0001 \u0001 \u0001 \u0001 This archive contains almost 20,000 fake...\n",
       "2943    Did you know the moon landing was fake !? Whaaaaa wow mind blown... wait where have you been? So your saying we really didn't go to the moon?.... But, where did all of those moon rocks I bought fr...\n",
       "1778    Another clear proof of the flat earth, clouds moving BEHIND the moon. haha fucking really? I guess planes have to be careful not to run into the moon right? well, if this is the case, it should be...\n",
       "4403    Do you think photos like this one (taken circa 2012) are good evidence the moon landing did happen? not when it came from the same source. the sites could have been \"manufactured\" recently or the ...\n",
       "8754    Ok so some people believe that Aliens inhabit the dark side of the moon and are spying on us in league with world governments. Bull or is there more to it? Which side of the moon is the \"dark side...\n",
       "1029    We've reached a point in history where /r/conspiracy is a more reliable source of current events than /r/news. I used to come here for fringe stories or other things bizarre...as it stands, even c...\n",
       "8269    Why the moon landings could never have been faked. \u0001 Seriously, this sketch is about the best argument against any conspiracy theories relating to the moon. Millions of people saw a massive rocket...\n",
       "9274    Conspiracy theorists of reddit, What is the one conspiracy theory that you just can't buy into? I don't want this to turn into a bashing of any one conspiracy theory or anything like that. I just ...\n",
       "Name: text, dtype: object"
      ]
     },
     "execution_count": 24,
     "metadata": {},
     "output_type": "execute_result"
    }
   ],
   "source": [
    "dist = kmeans.transform(X)\n",
    "df['text'][dist[:,11].argsort()[:10]]"
   ]
  },
  {
   "cell_type": "markdown",
   "metadata": {
    "deletable": true,
    "editable": true
   },
   "source": [
    "The moon landings were faked?!  \n",
    "-----\n",
    "Try the same thing for cluster #1\n"
   ]
  },
  {
   "cell_type": "code",
   "execution_count": 25,
   "metadata": {
    "collapsed": false,
    "deletable": true,
    "editable": true
   },
   "outputs": [
    {
     "data": {
      "text/plain": [
       "['thermitic',\n",
       " 'Bazant',\n",
       " 'CIT',\n",
       " 'girders',\n",
       " 'Acknowledge',\n",
       " '7500',\n",
       " 'columns',\n",
       " '2.25',\n",
       " 'angled',\n",
       " 'shear']"
      ]
     },
     "execution_count": 25,
     "metadata": {},
     "output_type": "execute_result"
    }
   ],
   "source": [
    "keywords(1)"
   ]
  },
  {
   "cell_type": "code",
   "execution_count": 26,
   "metadata": {
    "collapsed": false,
    "deletable": true,
    "editable": true
   },
   "outputs": [
    {
     "data": {
      "text/plain": [
       "5702    9/11 WTC Towers Had Power Turned Off For 36 Hours the Weekend Before the Attack - Security Systems disabled, unknown \"workers\" everywhere. I'm just upvoting this because it's not directly politics...\n",
       "2780    Top Down Collapse - no explosives required (Jref thread) \u0001 from 9/11 blogger. Its long been claimed (by truthers) that the top portion of the WTC couldn't have brought down the building, or that t...\n",
       "1449    Only six corporations own all mainstream media in the United States It's getting smaller too. And almost nobody reports on the deals that these corporations make. remember way back when, in '96, w...\n",
       "874     Intelligence Officer: Every Single Terrorist Attack In U.S Was a False Flag Attack ... Or Egged On By the Government Washington's Blog : /r/news Is Censoring Reddit Again! Damn those sub rules tha...\n",
       "7929    Russia Is Bombing Ambulances in Syria Do US media companies receive any capitol for agreeing to work with the propaganda folks or are they just beaten into submission? Like, targeting them directl...\n",
       "8813    It isn't a \"Conspiracy\" .... Jews are seeking to disarm Americans A partial list of Jews seeking to disarm law abiding Americans. ________________________________ > **Michael Bloomberg: Gun Contro...\n",
       "9640    9/11 A new pearl Harbor ___ **INTRODUCTION** ___ \u0001 \u0001 ___ **PART 1 - AIR DEFENSE** ___ \u0001 \u0001 \u0001 \u0001 \u0001 \u0001 \u0001 \u0001 \u0001 _______ **PART 2 - THE HIJACKERS** ___ \u0001 \u0001 \u0001 \u0001 \u0001 \u0001 \u0001 \u0001 \u0001 ________ **PART 3 - THE AIRPLANES**...\n",
       "7856    Germany: Village of 4,000 Germans FORCED TO HOST 3,000 migrants. - All local elected government officials were bypassed by the Merkel's Govt. and residents told “If you don’t like hosting refugees...\n",
       "1271    So what will happen to you and your loved ones if you do refuse the flu vaccine? Will you be treated like a criminal? The answer is yes. You will be identified, tracked, treated and quarantined. I...\n",
       "4016    Big Brother Propaganda Video: \"Give Our One World A Chance\" WHAT THE FUCK, that's it. This has gone too far. Um... Are they fucking with us?? Aside from the Nokia thing, it seems like blackwellbri...\n",
       "Name: text, dtype: object"
      ]
     },
     "execution_count": 26,
     "metadata": {},
     "output_type": "execute_result"
    }
   ],
   "source": [
    "df['text'][dist[:,1].argsort()[:10]]"
   ]
  },
  {
   "cell_type": "markdown",
   "metadata": {
    "deletable": true,
    "editable": true
   },
   "source": [
    "And 10:"
   ]
  },
  {
   "cell_type": "code",
   "execution_count": 27,
   "metadata": {
    "collapsed": false,
    "deletable": true,
    "editable": true
   },
   "outputs": [
    {
     "data": {
      "text/plain": [
       "['HPV',\n",
       " 'thimerosal',\n",
       " 'pertussis',\n",
       " 'Measles',\n",
       " 'polio',\n",
       " 'unvaccinated',\n",
       " 'cervical',\n",
       " 'Polio',\n",
       " 'immunization',\n",
       " 'SIDS']"
      ]
     },
     "execution_count": 27,
     "metadata": {},
     "output_type": "execute_result"
    }
   ],
   "source": [
    "keywords(10)"
   ]
  },
  {
   "cell_type": "code",
   "execution_count": 28,
   "metadata": {
    "collapsed": false,
    "deletable": true,
    "editable": true
   },
   "outputs": [
    {
     "data": {
      "text/plain": [
       "5942    What is r/conspiracy take on vaccinations? There's a post on the front page stating that Italy is on its way to making vaccinations a legal requirement? Is there any reliable sources proving that ...\n",
       "4299    Vaccine Maker Admits on FDA Website That DTaP Vaccine Causes Autism Internal communications admit that bad batches of the same vaccine are the cause of Crib Death, their solution was to split the ...\n",
       "4197    Why I am against mandatory vaccinations, and any government mandated medical procedures. Here are 50 unethical medical experiments conducted by the United States since the start of the 20th centur...\n",
       "3898    Robert F. Kennedy Jr: “All the things that I do are bent on forcing this vaccine debate out into the open—because once it is, the CDC’s position is so fragile, it’s an edifice of fraud, fraud stac...\n",
       "4636    Being pro-vaccine is essentially being a member of a religious cult, the type who self-harm or take part in mass suicides. The worst part is that they also believe you should do the same, they don...\n",
       "3958    Why Do Children Receive So Many Vaccines at Once- CDC Exposed! Nov. 29, 2012 For those reading this thread and saying to yourselves \"an unvaccinated child can't pose a danger to a vaccinated one, ...\n",
       "9880    It’s Getting Harder to Hide Infants from Questionable Vaccinations: There is no scientific evidence to justify infant Hep-B vaccination. This carries one of the largest unjustified risks and subst...\n",
       "5065    Top Doctor Sounds The Alarm on Supposed Science Behind the Annual Flu Vaccine **Dr. Mark Geier discusses aspects of the flu vaccine** https://www.youtube.com/watch?v=nvXIqUyOdK4 In the video above...\n",
       "534     The MMR Vaccine Package Insert – Facts or Fibs? Many medical professions practice only *partial informed consent* since they do not reveal the numerous health-threatening facts about vaccines as p...\n",
       "6403    Robert F. Kennedy, Jr. Exposes Corruption and Scientific Misconduct at CDC: Kennedy has found additional evidence of criminal activity by the CDC consultant, Poul Thorsen, the author of multiple C...\n",
       "Name: text, dtype: object"
      ]
     },
     "execution_count": 28,
     "metadata": {},
     "output_type": "execute_result"
    }
   ],
   "source": [
    "df['text'][dist[:,10].argsort()[:10]]"
   ]
  },
  {
   "cell_type": "code",
   "execution_count": 5,
   "metadata": {
    "collapsed": false,
    "deletable": true,
    "editable": true
   },
   "outputs": [
    {
     "ename": "NameError",
     "evalue": "name 'words' is not defined",
     "output_type": "error",
     "traceback": [
      "\u001b[0;31m---------------------------------------------------------------------------\u001b[0m",
      "\u001b[0;31mNameError\u001b[0m                                 Traceback (most recent call last)",
      "\u001b[0;32m<ipython-input-5-39cd6ec8393d>\u001b[0m in \u001b[0;36m<module>\u001b[0;34m()\u001b[0m\n\u001b[0;32m----> 1\u001b[0;31m \u001b[0mwords\u001b[0m\u001b[0;34m(\u001b[0m\u001b[0;36m11\u001b[0m\u001b[0;34m)\u001b[0m\u001b[0;34m\u001b[0m\u001b[0m\n\u001b[0m",
      "\u001b[0;31mNameError\u001b[0m: name 'words' is not defined"
     ]
    }
   ],
   "source": [
    "words(11),words(1),words(10)"
   ]
  },
  {
   "cell_type": "code",
   "execution_count": null,
   "metadata": {
    "collapsed": true
   },
   "outputs": [],
   "source": []
  }
 ],
 "metadata": {
  "kernelspec": {
   "display_name": "Python 2",
   "language": "python",
   "name": "python2"
  },
  "language_info": {
   "codemirror_mode": {
    "name": "ipython",
    "version": 2
   },
   "file_extension": ".py",
   "mimetype": "text/x-python",
   "name": "python",
   "nbconvert_exporter": "python",
   "pygments_lexer": "ipython2",
   "version": "2.7.13"
  }
 },
 "nbformat": 4,
 "nbformat_minor": 2
}
