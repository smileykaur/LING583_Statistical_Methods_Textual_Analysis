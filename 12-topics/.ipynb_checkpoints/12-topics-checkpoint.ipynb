{
 "cells": [
  {
   "cell_type": "code",
   "execution_count": 7,
   "metadata": {
    "collapsed": true
   },
   "outputs": [],
   "source": [
    "import numpy as np\n",
    "from cytoolz import identity\n",
    "from sklearn.feature_extraction.text import CountVectorizer, ENGLISH_STOP_WORDS\n",
    "\n",
    "from gensim.models.wrappers import LdaVowpalWabbit\n",
    "from gensim.matutils import Sparse2Corpus"
   ]
  },
  {
   "cell_type": "code",
   "execution_count": 9,
   "metadata": {
    "collapsed": true
   },
   "outputs": [],
   "source": [
    "def read_corpus(name):\n",
    "    for line in open(name):\n",
    "        yield [tok for tok in line.lower().split() if tok.isalpha() and tok not in ENGLISH_STOP_WORDS]"
   ]
  },
  {
   "cell_type": "code",
   "execution_count": 10,
   "metadata": {
    "collapsed": true
   },
   "outputs": [],
   "source": [
    "V = CountVectorizer(analyzer=identity, min_df=20, max_df=.5)\n",
    "X = V.fit_transform(read_corpus('/opt/local/conspiracy-200k.txt'))"
   ]
  },
  {
   "cell_type": "code",
   "execution_count": 11,
   "metadata": {},
   "outputs": [
    {
     "data": {
      "text/plain": [
       "(199732, 50563)"
      ]
     },
     "execution_count": 11,
     "metadata": {},
     "output_type": "execute_result"
    }
   ],
   "source": [
    "X.shape"
   ]
  },
  {
   "cell_type": "code",
   "execution_count": 12,
   "metadata": {
    "collapsed": true
   },
   "outputs": [],
   "source": [
    "vwpath = '/opt/local/bin/vw'"
   ]
  },
  {
   "cell_type": "code",
   "execution_count": 13,
   "metadata": {
    "collapsed": true
   },
   "outputs": [],
   "source": [
    "vocab = dict((v,k) for (k,v) in V.vocabulary_.items())\n",
    "corpus = Sparse2Corpus(X, documents_columns=False)"
   ]
  },
  {
   "cell_type": "code",
   "execution_count": 14,
   "metadata": {},
   "outputs": [
    {
     "name": "stdout",
     "output_type": "stream",
     "text": [
      "CPU times: user 35.9 s, sys: 237 ms, total: 36.1 s\n",
      "Wall time: 4min 34s\n"
     ]
    }
   ],
   "source": [
    "%%time\n",
    "\n",
    "k = 75\n",
    "lda = LdaVowpalWabbit(vwpath, corpus, id2word=vocab, alpha=1/k, eta=1/k, num_topics=k)"
   ]
  },
  {
   "cell_type": "code",
   "execution_count": 15,
   "metadata": {},
   "outputs": [
    {
     "data": {
      "text/plain": [
       "['0.165*tony + 0.143*broadcasting + 0.058*freud + 0.058*portugal + 0.049*marking + 0.044*descriptions + 0.022*portuguese + 0.022*abiotic + 0.021*bling + 0.020*madeleine',\n",
       " '0.074*cooper + 0.064*episode + 0.056*listen + 0.046*adam + 0.040*james + 0.037*listening + 0.036*book + 0.035*great + 0.028*ama + 0.025*check',\n",
       " '0.094*olympics + 0.061*knight + 0.059*hop + 0.042*olympic + 0.036*aerosol + 0.027*nick + 0.023*feinstein + 0.022*lennon + 0.020*perped + 0.020*molybdenum',\n",
       " '0.180*car + 0.072*cars + 0.043*driving + 0.037*drive + 0.034*vehicle + 0.034*driver + 0.028*road + 0.022*engine + 0.020*accident + 0.020*license',\n",
       " '0.558*jones + 0.087*joe + 0.076*interview + 0.041*martin + 0.025*rogan + 0.022*listened + 0.018*listen + 0.007*podcast + 0.006*guy + 0.006*jordan',\n",
       " '0.095*israel + 0.092*jews + 0.060*jewish + 0.039*zionist + 0.026*israeli + 0.023*zionists + 0.023*anti + 0.021*jew + 0.015*holocaust + 0.013*zionism',\n",
       " '0.012*cancer + 0.011*food + 0.011*vaccine + 0.010*flu + 0.008*vaccines + 0.007*health + 0.007*monsanto + 0.006*study + 0.005*virus + 0.005*disease',\n",
       " '0.039*pp + 0.036*mahmoud + 0.036*piper + 0.034*panetta + 0.034*dialectic + 0.032*synthesis + 0.030*changers + 0.030*hegelian + 0.028*organizational + 0.028*modus',\n",
       " '0.013*new + 0.012*bank + 0.010*bush + 0.009*cia + 0.009*family + 0.009*president + 0.008*rothschild + 0.008*world + 0.008*reserve + 0.008*central',\n",
       " '0.072*school + 0.067*children + 0.057*kids + 0.032*child + 0.030*parents + 0.022*education + 0.021*kid + 0.018*schools + 0.015*students + 0.015*born']"
      ]
     },
     "execution_count": 15,
     "metadata": {},
     "output_type": "execute_result"
    }
   ],
   "source": [
    "lda.show_topics()"
   ]
  },
  {
   "cell_type": "code",
   "execution_count": 16,
   "metadata": {
    "collapsed": true
   },
   "outputs": [],
   "source": [
    "T = lda.get_topics()"
   ]
  },
  {
   "cell_type": "code",
   "execution_count": 17,
   "metadata": {},
   "outputs": [
    {
     "data": {
      "text/plain": [
       "(75, 50563)"
      ]
     },
     "execution_count": 17,
     "metadata": {},
     "output_type": "execute_result"
    }
   ],
   "source": [
    "T.shape"
   ]
  },
  {
   "cell_type": "code",
   "execution_count": 19,
   "metadata": {
    "collapsed": true
   },
   "outputs": [],
   "source": [
    "def term_to_topics(term, t=0.01):\n",
    "    vec = T[:,V.vocabulary_[term]]\n",
    "    return list(np.nonzero(vec > t)[0])"
   ]
  },
  {
   "cell_type": "code",
   "execution_count": 25,
   "metadata": {},
   "outputs": [
    {
     "data": {
      "text/plain": [
       "[14, 65]"
      ]
     },
     "execution_count": 25,
     "metadata": {},
     "output_type": "execute_result"
    }
   ],
   "source": [
    "term_to_topics('kennedy',0.001)"
   ]
  },
  {
   "cell_type": "code",
   "execution_count": 26,
   "metadata": {},
   "outputs": [
    {
     "data": {
      "text/plain": [
       "([(0.061026476, 'plane'),\n",
       "  (0.03579673, 'pentagon'),\n",
       "  (0.027859494, 'planes'),\n",
       "  (0.021240167, 'flight'),\n",
       "  (0.019286957, 'air'),\n",
       "  (0.016836036, 'aircraft'),\n",
       "  (0.01556307, 'crash'),\n",
       "  (0.013998805, 'hit'),\n",
       "  (0.01309337, 'flying'),\n",
       "  (0.01283956, 'military')],\n",
       " [(0.04931316, 'obama'),\n",
       "  (0.02441159, 'paul'),\n",
       "  (0.01986041, 'president'),\n",
       "  (0.019740302, 'bush'),\n",
       "  (0.018488161, 'ron'),\n",
       "  (0.01276458, 'party'),\n",
       "  (0.008606819, 'political'),\n",
       "  (0.00719178, 'right'),\n",
       "  (0.007171116, 'media'),\n",
       "  (0.007170652, 'republican')])"
      ]
     },
     "execution_count": 26,
     "metadata": {},
     "output_type": "execute_result"
    }
   ],
   "source": [
    "lda.show_topic(65), lda.show_topic(14)"
   ]
  },
  {
   "cell_type": "code",
   "execution_count": 28,
   "metadata": {},
   "outputs": [
    {
     "data": {
      "text/plain": [
       "[6]"
      ]
     },
     "execution_count": 28,
     "metadata": {},
     "output_type": "execute_result"
    }
   ],
   "source": [
    "term_to_topics('gmo',0.001)"
   ]
  },
  {
   "cell_type": "code",
   "execution_count": 29,
   "metadata": {},
   "outputs": [
    {
     "data": {
      "text/plain": [
       "[(0.012429553, 'cancer'),\n",
       " (0.011275802, 'food'),\n",
       " (0.010620969, 'vaccine'),\n",
       " (0.009613137, 'flu'),\n",
       " (0.0077309194, 'vaccines'),\n",
       " (0.007466435, 'health'),\n",
       " (0.006813445, 'monsanto'),\n",
       " (0.005853053, 'study'),\n",
       " (0.0053451327, 'virus'),\n",
       " (0.0053008394, 'disease')]"
      ]
     },
     "execution_count": 29,
     "metadata": {},
     "output_type": "execute_result"
    }
   ],
   "source": [
    "lda.show_topic(6)"
   ]
  },
  {
   "cell_type": "code",
   "execution_count": 30,
   "metadata": {},
   "outputs": [
    {
     "data": {
      "text/plain": [
       "[43]"
      ]
     },
     "execution_count": 30,
     "metadata": {},
     "output_type": "execute_result"
    }
   ],
   "source": [
    "term_to_topics('moon',0.001)"
   ]
  },
  {
   "cell_type": "code",
   "execution_count": 31,
   "metadata": {},
   "outputs": [
    {
     "data": {
      "text/plain": [
       "[(0.010570947, 'earth'),\n",
       " (0.006781754, 'time'),\n",
       " (0.0062258192, 'moon'),\n",
       " (0.006221685, 'space'),\n",
       " (0.006008058, 'aliens'),\n",
       " (0.004951934, 'years'),\n",
       " (0.0049329167, 'planet'),\n",
       " (0.004850756, 'does'),\n",
       " (0.0046831267, 'alien'),\n",
       " (0.004302676, 'ufo')]"
      ]
     },
     "execution_count": 31,
     "metadata": {},
     "output_type": "execute_result"
    }
   ],
   "source": [
    "lda.show_topic(43)"
   ]
  },
  {
   "cell_type": "code",
   "execution_count": 32,
   "metadata": {},
   "outputs": [
    {
     "name": "stdout",
     "output_type": "stream",
     "text": [
      "CPU times: user 38.3 s, sys: 355 ms, total: 38.7 s\n",
      "Wall time: 4min 5s\n"
     ]
    }
   ],
   "source": [
    "%%time \n",
    "\n",
    "D = lda._predict(corpus)[0]"
   ]
  },
  {
   "cell_type": "code",
   "execution_count": 33,
   "metadata": {},
   "outputs": [
    {
     "data": {
      "text/plain": [
       "(199732, 75)"
      ]
     },
     "execution_count": 33,
     "metadata": {},
     "output_type": "execute_result"
    }
   ],
   "source": [
    "D.shape"
   ]
  },
  {
   "cell_type": "code",
   "execution_count": 41,
   "metadata": {},
   "outputs": [
    {
     "data": {
      "text/plain": [
       "array([6.8376015e-05, 6.8376015e-05, 6.8376015e-05, 6.8376015e-05,\n",
       "       6.8376015e-05, 6.8376015e-05, 6.8376015e-05, 6.8376015e-05,\n",
       "       6.8376015e-05, 6.8376015e-05, 6.8376015e-05, 6.8376015e-05,\n",
       "       6.8376015e-05, 6.8376015e-05, 6.8376015e-05, 6.8376015e-05,\n",
       "       6.8376015e-05, 6.8376015e-05, 6.8376015e-05, 6.8376015e-05,\n",
       "       6.8376015e-05, 6.8376015e-05, 5.8693439e-01, 6.8376015e-05,\n",
       "       6.8376525e-05, 6.8376015e-05, 6.8376015e-05, 8.8528872e-02,\n",
       "       6.8376015e-05, 9.4337597e-02, 6.8376015e-05, 8.8058107e-02,\n",
       "       6.8376015e-05, 6.8376015e-05, 6.8376015e-05, 6.8376015e-05,\n",
       "       6.8376015e-05, 6.8376015e-05, 1.3090843e-02, 6.8376015e-05,\n",
       "       6.8376015e-05, 6.8376015e-05, 6.8376015e-05, 6.8376015e-05,\n",
       "       6.8376015e-05, 6.8376015e-05, 6.8376015e-05, 6.8376015e-05,\n",
       "       6.8376015e-05, 6.8376015e-05, 6.8376015e-05, 6.8376015e-05,\n",
       "       6.8376015e-05, 6.8376015e-05, 6.8376015e-05, 6.8376015e-05,\n",
       "       2.3858812e-02, 6.8376015e-05, 6.8376015e-05, 6.8376015e-05,\n",
       "       6.8376015e-05, 6.8376015e-05, 6.8376015e-05, 6.8376015e-05,\n",
       "       6.8376015e-05, 6.8376015e-05, 6.8376015e-05, 6.8376015e-05,\n",
       "       6.8376015e-05, 8.4674507e-03, 9.2142724e-02, 6.8376015e-05,\n",
       "       6.8376015e-05, 6.8376015e-05, 6.8376525e-05], dtype=float32)"
      ]
     },
     "execution_count": 41,
     "metadata": {},
     "output_type": "execute_result"
    }
   ],
   "source": [
    "D[1,:]"
   ]
  },
  {
   "cell_type": "code",
   "execution_count": 42,
   "metadata": {},
   "outputs": [
    {
     "data": {
      "text/plain": [
       "array([1.1220134e-06, 1.1395159e-06, 1.2090967e-06, ..., 2.9710522e-01,\n",
       "       3.8490814e-01, 4.9984959e-01], dtype=float32)"
      ]
     },
     "execution_count": 42,
     "metadata": {},
     "output_type": "execute_result"
    }
   ],
   "source": [
    "np.sort(D[:,1])"
   ]
  },
  {
   "cell_type": "code",
   "execution_count": 43,
   "metadata": {},
   "outputs": [
    {
     "data": {
      "text/plain": [
       "array([ 0, 51, 50, 49, 48, 47, 46, 52, 45, 43, 42, 41, 40, 39, 73, 44, 36,\n",
       "       53, 55, 72, 71, 68, 67, 66, 65, 54, 64, 62, 61, 60, 59, 58, 57, 63,\n",
       "       35, 37, 33, 14, 13, 12, 11, 10,  9, 34,  8,  6,  5,  4,  3,  2,  1,\n",
       "        7, 16, 15, 18, 19, 32, 20, 21, 30, 23, 28, 25, 26, 17, 74, 24, 69,\n",
       "       38, 56, 31, 27, 70, 29, 22])"
      ]
     },
     "execution_count": 43,
     "metadata": {},
     "output_type": "execute_result"
    }
   ],
   "source": [
    "np.argsort(D[1,:])"
   ]
  },
  {
   "cell_type": "code",
   "execution_count": 44,
   "metadata": {},
   "outputs": [
    {
     "data": {
      "text/plain": [
       "([(0.019209592, 'reddit'),\n",
       "  (0.016833527, 'post'),\n",
       "  (0.012505063, 'conspiracy'),\n",
       "  (0.009225953, 'r'),\n",
       "  (0.009069905, 'comments'),\n",
       "  (0.008051941, 'posts'),\n",
       "  (0.007463077, 'comment'),\n",
       "  (0.0074209957, 'subreddit'),\n",
       "  (0.0070462516, 'page'),\n",
       "  (0.006639664, 'site')],\n",
       " [(0.014167913, 'law'),\n",
       "  (0.013612784, 'government'),\n",
       "  (0.0085298335, 'state'),\n",
       "  (0.007631069, 'states'),\n",
       "  (0.006769868, 'public'),\n",
       "  (0.0061742803, 'security'),\n",
       "  (0.0053589195, 'rights'),\n",
       "  (0.0051079304, 'act'),\n",
       "  (0.004819045, 'laws'),\n",
       "  (0.0046671596, 'united')],\n",
       " [(0.01689206, 'conspiracy'),\n",
       "  (0.0090449145, 'does'),\n",
       "  (0.007951437, 'evidence'),\n",
       "  (0.0077678775, 'believe'),\n",
       "  (0.0068962597, 'truth'),\n",
       "  (0.0058662808, 'say'),\n",
       "  (0.0052562375, 'point'),\n",
       "  (0.00517097, 'really'),\n",
       "  (0.005041404, 'fact'),\n",
       "  (0.004910185, 'make')])"
      ]
     },
     "execution_count": 44,
     "metadata": {},
     "output_type": "execute_result"
    }
   ],
   "source": [
    "lda.show_topic(22), lda.show_topic(29), lda.show_topic(70)"
   ]
  },
  {
   "cell_type": "code",
   "execution_count": 47,
   "metadata": {},
   "outputs": [
    {
     "data": {
      "text/plain": [
       "[43]"
      ]
     },
     "execution_count": 47,
     "metadata": {},
     "output_type": "execute_result"
    }
   ],
   "source": [
    "term_to_topics('haarp', t=0.001)"
   ]
  },
  {
   "cell_type": "code",
   "execution_count": 48,
   "metadata": {},
   "outputs": [
    {
     "data": {
      "text/plain": [
       "[(0.010570947, 'earth'),\n",
       " (0.006781754, 'time'),\n",
       " (0.0062258192, 'moon'),\n",
       " (0.006221685, 'space'),\n",
       " (0.006008058, 'aliens'),\n",
       " (0.004951934, 'years'),\n",
       " (0.0049329167, 'planet'),\n",
       " (0.004850756, 'does'),\n",
       " (0.0046831267, 'alien'),\n",
       " (0.004302676, 'ufo')]"
      ]
     },
     "execution_count": 48,
     "metadata": {},
     "output_type": "execute_result"
    }
   ],
   "source": [
    "lda.show_topic(43)"
   ]
  },
  {
   "cell_type": "code",
   "execution_count": 49,
   "metadata": {},
   "outputs": [
    {
     "data": {
      "text/plain": [
       "array([ 29627,  12832,  18105, ..., 185750, 108280,   7077])"
      ]
     },
     "execution_count": 49,
     "metadata": {},
     "output_type": "execute_result"
    }
   ],
   "source": [
    "np.argsort(D[:,43])"
   ]
  },
  {
   "cell_type": "code",
   "execution_count": 51,
   "metadata": {},
   "outputs": [
    {
     "data": {
      "text/plain": [
       "array([ 0, 53, 52, 51, 50, 49, 48, 54, 47, 45, 44, 42, 41, 40, 39, 46, 55,\n",
       "       56, 57, 72, 71, 70, 69, 68, 67, 66, 65, 64, 63, 62, 61, 60, 59, 58,\n",
       "       38, 73, 37, 35, 15, 14, 13, 12, 11, 10,  9,  8,  7,  6,  5,  4,  3,\n",
       "        2,  1, 16, 17, 18, 19, 34, 33, 32, 31, 30, 29, 36, 28, 26, 25, 24,\n",
       "       23, 22, 21, 20, 27, 74, 43])"
      ]
     },
     "execution_count": 51,
     "metadata": {},
     "output_type": "execute_result"
    }
   ],
   "source": [
    "np.argsort(D[7077,:])"
   ]
  },
  {
   "cell_type": "code",
   "execution_count": 52,
   "metadata": {},
   "outputs": [
    {
     "data": {
      "text/plain": [
       "[(0.12351408, 'bin'),\n",
       " (0.11596859, 'laden'),\n",
       " (0.064268626, 'osama'),\n",
       " (0.058583025, 'game'),\n",
       " (0.03510481, 'team'),\n",
       " (0.030541938, 'games'),\n",
       " (0.019274333, 'obl'),\n",
       " (0.015925482, 'play'),\n",
       " (0.014598551, 'sports'),\n",
       " (0.013321561, 'football')]"
      ]
     },
     "execution_count": 52,
     "metadata": {},
     "output_type": "execute_result"
    }
   ],
   "source": [
    "lda.show_topic(74)"
   ]
  },
  {
   "cell_type": "code",
   "execution_count": 58,
   "metadata": {},
   "outputs": [
    {
     "data": {
      "text/plain": [
       "[44]"
      ]
     },
     "execution_count": 58,
     "metadata": {},
     "output_type": "execute_result"
    }
   ],
   "source": [
    "term_to_topics('pizza', t=0.0001)"
   ]
  },
  {
   "cell_type": "code",
   "execution_count": 56,
   "metadata": {},
   "outputs": [
    {
     "data": {
      "text/plain": [
       "[(0.013929236, 'music'),\n",
       " (0.009757301, 'hollywood'),\n",
       " (0.008398948, 'child'),\n",
       " (0.007061041, 'alex'),\n",
       " (0.0059647188, 'song'),\n",
       " (0.005521118, 'sex'),\n",
       " (0.0052520437, 'movies'),\n",
       " (0.0051279604, 'industry'),\n",
       " (0.004984133, 'porn'),\n",
       " (0.004941053, 'grove')]"
      ]
     },
     "execution_count": 56,
     "metadata": {},
     "output_type": "execute_result"
    }
   ],
   "source": [
    "lda.show_topic(44)"
   ]
  },
  {
   "cell_type": "code",
   "execution_count": 59,
   "metadata": {},
   "outputs": [
    {
     "data": {
      "text/plain": [
       "array([     8,    347,     19,    398,     87,   9452,  14283,      6,\n",
       "         9441,   2364,     12,    655,    225,      2,  30116,      1,\n",
       "        43260,     15,      3, 134694,      7,  15497,  38373,      2,\n",
       "          849,     79,  16127,    927,      1,  32634,   4324,  49095,\n",
       "         6780,   3930,    391,     32,     22,     20,   2860,   3254,\n",
       "          602,  28066,     68,  24407,  11497,     20,      6,      6,\n",
       "          273,     44,   2972,     76,     15,     16,   1123,      0,\n",
       "        19753,  21008,     60,   1510,    163,      6,     10,     24,\n",
       "          981,   4280,     11,      2,     18,  16486,  75912,   3356,\n",
       "            2,      3,    666])"
      ]
     },
     "execution_count": 59,
     "metadata": {},
     "output_type": "execute_result"
    }
   ],
   "source": [
    "total = np.count_nonzero(np.where(D>0.1,D,0.0),axis=0)\n",
    "total"
   ]
  },
  {
   "cell_type": "code",
   "execution_count": 66,
   "metadata": {},
   "outputs": [
    {
     "data": {
      "text/plain": [
       "19"
      ]
     },
     "execution_count": 66,
     "metadata": {},
     "output_type": "execute_result"
    }
   ],
   "source": [
    "total[2]"
   ]
  },
  {
   "cell_type": "code",
   "execution_count": 61,
   "metadata": {},
   "outputs": [
    {
     "data": {
      "text/plain": [
       "array([55, 15, 28, 23, 72, 67, 13, 73, 18, 46,  7, 61, 47, 20,  0, 62, 66,\n",
       "       10, 17, 52, 53, 68,  2, 45, 37, 36, 63, 35, 49, 58, 42, 51, 25,  4,\n",
       "       60, 12, 48,  1, 34,  3, 40, 11, 74, 24, 27, 64, 54, 59,  9, 38, 50,\n",
       "       39, 71, 33, 65, 30, 32,  8,  5, 44,  6, 21, 26, 69, 56, 57, 43, 41,\n",
       "       14, 29, 22, 16, 31, 70, 19])"
      ]
     },
     "execution_count": 61,
     "metadata": {},
     "output_type": "execute_result"
    }
   ],
   "source": [
    "np.argsort(total)"
   ]
  },
  {
   "cell_type": "code",
   "execution_count": 62,
   "metadata": {},
   "outputs": [
    {
     "data": {
      "text/plain": [
       "[(0.10645409, 'iran'),\n",
       " (0.0944573, 'nuclear'),\n",
       " (0.048704173, 'china'),\n",
       " (0.035525687, 'war'),\n",
       " (0.031856045, 'weapons'),\n",
       " (0.027171787, 'north'),\n",
       " (0.026390575, 'japan'),\n",
       " (0.024531955, 'russia'),\n",
       " (0.022812387, 'attack'),\n",
       " (0.021032993, 'korea')]"
      ]
     },
     "execution_count": 62,
     "metadata": {},
     "output_type": "execute_result"
    }
   ],
   "source": [
    "lda.show_topic(39)"
   ]
  },
  {
   "cell_type": "code",
   "execution_count": 63,
   "metadata": {},
   "outputs": [
    {
     "data": {
      "text/plain": [
       "[(0.061026476, 'plane'),\n",
       " (0.03579673, 'pentagon'),\n",
       " (0.027859494, 'planes'),\n",
       " (0.021240167, 'flight'),\n",
       " (0.019286957, 'air'),\n",
       " (0.016836036, 'aircraft'),\n",
       " (0.01556307, 'crash'),\n",
       " (0.013998805, 'hit'),\n",
       " (0.01309337, 'flying'),\n",
       " (0.01283956, 'military')]"
      ]
     },
     "execution_count": 63,
     "metadata": {},
     "output_type": "execute_result"
    }
   ],
   "source": [
    "lda.show_topic(65)"
   ]
  },
  {
   "cell_type": "code",
   "execution_count": 64,
   "metadata": {},
   "outputs": [
    {
     "data": {
      "text/plain": [
       "[(0.012429553, 'cancer'),\n",
       " (0.011275802, 'food'),\n",
       " (0.010620969, 'vaccine'),\n",
       " (0.009613137, 'flu'),\n",
       " (0.0077309194, 'vaccines'),\n",
       " (0.007466435, 'health'),\n",
       " (0.006813445, 'monsanto'),\n",
       " (0.005853053, 'study'),\n",
       " (0.0053451327, 'virus'),\n",
       " (0.0053008394, 'disease')]"
      ]
     },
     "execution_count": 64,
     "metadata": {},
     "output_type": "execute_result"
    }
   ],
   "source": [
    "lda.show_topic(6)"
   ]
  },
  {
   "cell_type": "code",
   "execution_count": 65,
   "metadata": {},
   "outputs": [
    {
     "data": {
      "text/plain": [
       "[(0.12351408, 'bin'),\n",
       " (0.11596859, 'laden'),\n",
       " (0.064268626, 'osama'),\n",
       " (0.058583025, 'game'),\n",
       " (0.03510481, 'team'),\n",
       " (0.030541938, 'games'),\n",
       " (0.019274333, 'obl'),\n",
       " (0.015925482, 'play'),\n",
       " (0.014598551, 'sports'),\n",
       " (0.013321561, 'football')]"
      ]
     },
     "execution_count": 65,
     "metadata": {},
     "output_type": "execute_result"
    }
   ],
   "source": [
    "lda.show_topic(74)"
   ]
  },
  {
   "cell_type": "markdown",
   "metadata": {},
   "source": [
    "----"
   ]
  },
  {
   "cell_type": "code",
   "execution_count": 68,
   "metadata": {},
   "outputs": [
    {
     "data": {
      "text/plain": [
       "[array([19, 22, 31]),\n",
       " array([22]),\n",
       " array([ 5, 19, 22, 31, 44]),\n",
       " array([19, 57, 70]),\n",
       " array([14, 19, 69])]"
      ]
     },
     "execution_count": 68,
     "metadata": {},
     "output_type": "execute_result"
    }
   ],
   "source": [
    "docs = [ np.nonzero(r>0.1)[0] for r in D ]\n",
    "docs[:5]"
   ]
  },
  {
   "cell_type": "code",
   "execution_count": 69,
   "metadata": {},
   "outputs": [
    {
     "data": {
      "text/plain": [
       "([(0.04931316, 'obama'),\n",
       "  (0.02441159, 'paul'),\n",
       "  (0.01986041, 'president'),\n",
       "  (0.019740302, 'bush'),\n",
       "  (0.018488161, 'ron'),\n",
       "  (0.01276458, 'party'),\n",
       "  (0.008606819, 'political'),\n",
       "  (0.00719178, 'right'),\n",
       "  (0.007171116, 'media'),\n",
       "  (0.007170652, 'republican')],\n",
       " [(0.0089006685, 'really'),\n",
       "  (0.00871591, 'does'),\n",
       "  (0.0077179926, 'did'),\n",
       "  (0.00756707, 'good'),\n",
       "  (0.0074772607, 'want'),\n",
       "  (0.007441294, 'going'),\n",
       "  (0.0071153548, 'way'),\n",
       "  (0.0070649306, 'make'),\n",
       "  (0.0068441476, 'say'),\n",
       "  (0.006617901, 'right')],\n",
       " [(0.039725855, 'cia'),\n",
       "  (0.023206873, 'information'),\n",
       "  (0.021003693, 'nsa'),\n",
       "  (0.017475141, 'intelligence'),\n",
       "  (0.015800301, 'news'),\n",
       "  (0.015607016, 'government'),\n",
       "  (0.013604545, 'media'),\n",
       "  (0.012713987, 'anonymous'),\n",
       "  (0.011919703, 'documents'),\n",
       "  (0.011795141, 'russian')])"
      ]
     },
     "execution_count": 69,
     "metadata": {},
     "output_type": "execute_result"
    }
   ],
   "source": [
    "lda.show_topic(14), lda.show_topic(19), lda.show_topic(69)"
   ]
  },
  {
   "cell_type": "code",
   "execution_count": 70,
   "metadata": {
    "collapsed": true
   },
   "outputs": [],
   "source": [
    "from collections import Counter\n",
    "from math import log2"
   ]
  },
  {
   "cell_type": "code",
   "execution_count": 74,
   "metadata": {
    "collapsed": true
   },
   "outputs": [],
   "source": [
    "def fPMI(topic):\n",
    "    freq = Counter()\n",
    "    for doc in docs:\n",
    "        if topic in doc:\n",
    "            for t in doc:\n",
    "                freq[t] += 1\n",
    "    pmi = Counter()\n",
    "    for t in total:\n",
    "        if t != topic and freq[t] > 5:\n",
    "            pmi[t] = log2((freq[t]*total.sum()) / (total[t]*total[topic]))\n",
    "    return pmi"
   ]
  },
  {
   "cell_type": "code",
   "execution_count": 75,
   "metadata": {},
   "outputs": [
    {
     "data": {
      "text/plain": [
       "Counter({1: -0.38164008490381024,\n",
       "         3: 1.4205271471308019,\n",
       "         8: 0.13783002251711893,\n",
       "         11: 1.3647656839720672,\n",
       "         12: 1.2433705764574134,\n",
       "         16: 0.8503416981123295,\n",
       "         19: 1.647789393675322,\n",
       "         22: 0.7007397433068072,\n",
       "         24: 4.346194868386448,\n",
       "         32: 2.845782047934787,\n",
       "         44: -0.5410471384729983})"
      ]
     },
     "execution_count": 75,
     "metadata": {},
     "output_type": "execute_result"
    }
   ],
   "source": [
    "fPMI(6)"
   ]
  },
  {
   "cell_type": "code",
   "execution_count": 76,
   "metadata": {},
   "outputs": [
    {
     "data": {
      "text/plain": [
       "([(0.012429553, 'cancer'),\n",
       "  (0.011275802, 'food'),\n",
       "  (0.010620969, 'vaccine'),\n",
       "  (0.009613137, 'flu'),\n",
       "  (0.0077309194, 'vaccines'),\n",
       "  (0.007466435, 'health'),\n",
       "  (0.006813445, 'monsanto'),\n",
       "  (0.005853053, 'study'),\n",
       "  (0.0053451327, 'virus'),\n",
       "  (0.0053008394, 'disease')],\n",
       " [(0.26112866, 'water'),\n",
       "  (0.10368891, 'oil'),\n",
       "  (0.024352519, 'city'),\n",
       "  (0.016406815, 'supply'),\n",
       "  (0.015905278, 'waste'),\n",
       "  (0.014408364, 'area'),\n",
       "  (0.014012262, 'drink'),\n",
       "  (0.011387683, 'areas'),\n",
       "  (0.010812333, 'clean'),\n",
       "  (0.009918066, 'iq')],\n",
       " [(0.020544859, 'human'),\n",
       "  (0.018798575, 'life'),\n",
       "  (0.011786925, 'mind'),\n",
       "  (0.011269686, 'society'),\n",
       "  (0.010752799, 'mental'),\n",
       "  (0.00959167, 'brain'),\n",
       "  (0.008154565, 'experience'),\n",
       "  (0.007571746, 'self'),\n",
       "  (0.007564443, 'person'),\n",
       "  (0.0070469743, 'feel')])"
      ]
     },
     "execution_count": 76,
     "metadata": {},
     "output_type": "execute_result"
    }
   ],
   "source": [
    "lda.show_topic(6), lda.show_topic(24), lda.show_topic(32), "
   ]
  },
  {
   "cell_type": "markdown",
   "metadata": {},
   "source": [
    "----"
   ]
  },
  {
   "cell_type": "code",
   "execution_count": 77,
   "metadata": {
    "collapsed": true
   },
   "outputs": [],
   "source": [
    "import matplotlib.pyplot as plt\n",
    "import networkx as nx\n",
    "from networkx import nx_pydot\n",
    "\n",
    "%matplotlib inline"
   ]
  },
  {
   "cell_type": "code",
   "execution_count": 86,
   "metadata": {
    "collapsed": true
   },
   "outputs": [],
   "source": [
    "G = nx.Graph()\n",
    "for i in range(k):\n",
    "    t = fPMI(i)\n",
    "    for j in t:\n",
    "        if i!=j and t[j]>2.5:\n",
    "            G.add_edge(i,j)"
   ]
  },
  {
   "cell_type": "code",
   "execution_count": 87,
   "metadata": {
    "collapsed": true
   },
   "outputs": [],
   "source": [
    "labels = dict((t, lda.show_topic(t)[0][1]) for t in range(lda.num_topics) if t in G)\n",
    "labels[71] = 'al qaeda'"
   ]
  },
  {
   "cell_type": "code",
   "execution_count": 88,
   "metadata": {},
   "outputs": [
    {
     "data": {
      "image/png": "[encoded data removed]",
      "text/plain": [
       "<matplotlib.figure.Figure at 0x7f13edb19748>"
      ]
     },
     "metadata": {},
     "output_type": "display_data"
    }
   ],
   "source": [
    "plt.figure(figsize=(8,8))\n",
    "layout = nx_pydot.graphviz_layout(G)\n",
    "nx.draw_networkx_edges(G, layout, alpha=0.5)\n",
    "nx.draw_networkx_labels(G, layout, labels)\n",
    "plt.xticks([],[])\n",
    "plt.yticks([],[])\n",
    "plt.show()"
   ]
  },
  {
   "cell_type": "code",
   "execution_count": 82,
   "metadata": {},
   "outputs": [
    {
     "data": {
      "text/plain": [
       "{0: 'tony',\n",
       " 1: 'cooper',\n",
       " 2: 'olympics',\n",
       " 3: 'car',\n",
       " 4: 'jones',\n",
       " 5: 'israel',\n",
       " 6: 'cancer',\n",
       " 8: 'new',\n",
       " 9: 'school',\n",
       " 10: 'brown',\n",
       " 11: 'women',\n",
       " 12: 'movie',\n",
       " 16: 'war',\n",
       " 21: 'world',\n",
       " 22: 'reddit',\n",
       " 24: 'water',\n",
       " 25: 'land',\n",
       " 26: 'police',\n",
       " 27: 'reddit',\n",
       " 29: 'law',\n",
       " 30: 'account',\n",
       " 31: 'did',\n",
       " 32: 'human',\n",
       " 33: 'building',\n",
       " 34: 'fluoride',\n",
       " 37: 'torture',\n",
       " 38: 'flag',\n",
       " 39: 'iran',\n",
       " 40: 'drug',\n",
       " 41: 'money',\n",
       " 42: 'marijuana',\n",
       " 43: 'earth',\n",
       " 44: 'music',\n",
       " 45: 'eugenics',\n",
       " 48: 'wikileaks',\n",
       " 49: 'uk',\n",
       " 50: 'global',\n",
       " 51: 'earthquake',\n",
       " 54: 'energy',\n",
       " 56: 'video',\n",
       " 57: 'white',\n",
       " 58: 'symbol',\n",
       " 60: 'reality',\n",
       " 64: 'prison',\n",
       " 68: 'skull',\n",
       " 70: 'conspiracy',\n",
       " 71: 'al'}"
      ]
     },
     "execution_count": 82,
     "metadata": {},
     "output_type": "execute_result"
    }
   ],
   "source": [
    "labels"
   ]
  },
  {
   "cell_type": "code",
   "execution_count": 83,
   "metadata": {},
   "outputs": [
    {
     "data": {
      "text/plain": [
       "[(0.07328903, 'al'),\n",
       " (0.056384176, 'iraq'),\n",
       " (0.040269192, 'terrorist'),\n",
       " (0.040258795, 'syria'),\n",
       " (0.039076023, 'qaeda'),\n",
       " (0.039032582, 'afghanistan'),\n",
       " (0.03833021, 'libya'),\n",
       " (0.03470126, 'cia'),\n",
       " (0.026541099, 'attack'),\n",
       " (0.023899982, 'pakistan')]"
      ]
     },
     "execution_count": 83,
     "metadata": {},
     "output_type": "execute_result"
    }
   ],
   "source": [
    "lda.show_topic(71)"
   ]
  },
  {
   "cell_type": "code",
   "execution_count": null,
   "metadata": {
    "collapsed": true
   },
   "outputs": [],
   "source": []
  }
 ],
 "metadata": {
  "kernelspec": {
   "display_name": "Python 3",
   "language": "python",
   "name": "python3"
  },
  "language_info": {
   "codemirror_mode": {
    "name": "ipython",
    "version": 3
   },
   "file_extension": ".py",
   "mimetype": "text/x-python",
   "name": "python",
   "nbconvert_exporter": "python",
   "pygments_lexer": "ipython3",
   "version": "3.6.2"
  }
 },
 "nbformat": 4,
 "nbformat_minor": 2
}
