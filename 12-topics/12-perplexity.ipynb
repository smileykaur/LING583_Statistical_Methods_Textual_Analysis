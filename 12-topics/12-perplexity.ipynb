{
 "cells": [
  {
   "cell_type": "code",
   "execution_count": 1,
   "metadata": {
    "collapsed": true
   },
   "outputs": [],
   "source": [
    "import pandas as pd\n",
    "import numpy as np\n",
    "from cytoolz import *\n",
    "\n",
    "from sklearn.feature_extraction.text import CountVectorizer, ENGLISH_STOP_WORDS\n",
    "from sklearn.model_selection import train_test_split\n",
    "\n",
    "from gensim.matutils import Sparse2Corpus\n",
    "from gensim.models.wrappers import LdaVowpalWabbit\n",
    "\n",
    "import matplotlib.pyplot as plt\n",
    "\n",
    "%matplotlib inline"
   ]
  },
  {
   "cell_type": "code",
   "execution_count": 2,
   "metadata": {
    "collapsed": true
   },
   "outputs": [],
   "source": [
    "vwpath = '/usr/local/bin/vw'"
   ]
  },
  {
   "cell_type": "code",
   "execution_count": 3,
   "metadata": {
    "collapsed": true
   },
   "outputs": [],
   "source": [
    "posts = pd.read_msgpack('conspiracy-100k.dat')\n",
    "posts = list(posts['tokens'])"
   ]
  },
  {
   "cell_type": "code",
   "execution_count": 4,
   "metadata": {
    "collapsed": true
   },
   "outputs": [],
   "source": [
    "V = CountVectorizer(analyzer=lambda d:[t.lower() for t in d if t.isalpha() \n",
    "                                                   and t.lower() not in ENGLISH_STOP_WORDS], \n",
    "                    min_df=20, max_df=0.75)\n",
    "X = V.fit_transform(posts)\n",
    "Xtrain, Xtest = train_test_split(X, test_size=0.1, shuffle=True)"
   ]
  },
  {
   "cell_type": "code",
   "execution_count": 5,
   "metadata": {
    "collapsed": true
   },
   "outputs": [],
   "source": [
    "vocab = dict((v,k) for (k,v) in V.vocabulary_.items())\n",
    "corpus = Sparse2Corpus(X, documents_columns=False)\n",
    "train_corpus = Sparse2Corpus(Xtrain, documents_columns=False)\n",
    "test_corpus = Sparse2Corpus(Xtest, documents_columns=False)"
   ]
  },
  {
   "cell_type": "code",
   "execution_count": 17,
   "metadata": {
    "collapsed": true
   },
   "outputs": [],
   "source": [
    "models1 = [ ]\n",
    "for k in range(10,151,10):\n",
    "    models1.append(LdaVowpalWabbit(vwpath, train_corpus, id2word=vocab, \n",
    "                                  alpha=1/k, eta=0.1, num_topics=k))"
   ]
  },
  {
   "cell_type": "code",
   "execution_count": 18,
   "metadata": {
    "collapsed": true
   },
   "outputs": [],
   "source": [
    "models2 = [ ]\n",
    "for k in range(10,151,10):\n",
    "    models2.append(LdaVowpalWabbit(vwpath, train_corpus, id2word=vocab, \n",
    "                                  alpha=5/k, eta=0.1, num_topics=k))"
   ]
  },
  {
   "cell_type": "code",
   "execution_count": 25,
   "metadata": {
    "collapsed": true
   },
   "outputs": [],
   "source": [
    "models3 = [ ]\n",
    "for k in range(10,151,10):\n",
    "    models3.append(LdaVowpalWabbit(vwpath, train_corpus, id2word=vocab, \n",
    "                                  alpha=0.1/k, eta=0.1, num_topics=k))"
   ]
  },
  {
   "cell_type": "code",
   "execution_count": 21,
   "metadata": {
    "collapsed": true
   },
   "outputs": [],
   "source": [
    "x1 = [m.num_topics for m in models1]\n",
    "y1 = [np.exp2(-m.log_perplexity(test_corpus)) for m in models1]"
   ]
  },
  {
   "cell_type": "code",
   "execution_count": 19,
   "metadata": {
    "collapsed": true
   },
   "outputs": [],
   "source": [
    "x2 = [m.num_topics for m in models2]\n",
    "y2 = [np.exp2(-m.log_perplexity(test_corpus)) for m in models2]"
   ]
  },
  {
   "cell_type": "code",
   "execution_count": 26,
   "metadata": {
    "collapsed": true
   },
   "outputs": [],
   "source": [
    "x3 = [m.num_topics for m in models3]\n",
    "y3 = [np.exp2(-m.log_perplexity(test_corpus)) for m in models3]"
   ]
  },
  {
   "cell_type": "code",
   "execution_count": 27,
   "metadata": {},
   "outputs": [
    {
     "data": {
      "text/plain": [
       "<matplotlib.text.Text at 0x7f0a1d820dd8>"
      ]
     },
     "execution_count": 27,
     "metadata": {},
     "output_type": "execute_result"
    },
    {
     "data": {
      "image/png": "[encoded data removed]",
      "text/plain": [
       "<matplotlib.figure.Figure at 0x7f0a25a776d8>"
      ]
     },
     "metadata": {},
     "output_type": "display_data"
    }
   ],
   "source": [
    "plt.plot(x3,y3,label='alpha=0.1/k')\n",
    "plt.plot(x1,y1,label='alpha=1/k')\n",
    "plt.plot(x2,y2,label='alpha=5/k')\n",
    "plt.legend()\n",
    "plt.xlabel('Topics')\n",
    "plt.ylabel('Perplexity')\n",
    "plt.title('Conspiracy 100k')"
   ]
  }
 ],
 "metadata": {
  "kernelspec": {
   "display_name": "Python 3",
   "language": "python",
   "name": "python3"
  },
  "language_info": {
   "codemirror_mode": {
    "name": "ipython",
    "version": 3
   },
   "file_extension": ".py",
   "mimetype": "text/x-python",
   "name": "python",
   "nbconvert_exporter": "python",
   "pygments_lexer": "ipython3",
   "version": "3.6.3"
  }
 },
 "nbformat": 4,
 "nbformat_minor": 2
}
